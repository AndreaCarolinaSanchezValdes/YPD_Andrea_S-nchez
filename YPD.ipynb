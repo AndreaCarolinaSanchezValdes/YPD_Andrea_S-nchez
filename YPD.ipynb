{
 "cells": [
  {
   "cell_type": "markdown",
   "metadata": {},
   "source": [
    "<h1>PRUEBA PRÁCTICA</h1>\n",
    "<h3>YOUNG PROFESSIONAL DATA</h3> <b>Andrea Carolina Sánchez Valdés</b>"
   ]
  },
  {
   "cell_type": "markdown",
   "metadata": {},
   "source": [
    "<h3>DATA SCIENCE METODOLOGY</h3>\n",
    "Para el desarrollo de la prueba se seguirá el ciclo de la metodologia de data science indicado en la imagen"
   ]
  },
  {
   "cell_type": "markdown",
   "metadata": {},
   "source": [
    "<img src = \"http://www.ibmbigdatahub.com/sites/default/files/figure01_revised.jpg\">"
   ]
  },
  {
   "cell_type": "markdown",
   "metadata": {},
   "source": [
    "<b>1. Business Understanding</b>\n",
    "\n",
    "Se requiere identificar patrones o correlaciones entre variables"
   ]
  },
  {
   "cell_type": "markdown",
   "metadata": {},
   "source": [
    "<b>2. Analytic Approach</b>\n",
    "\n",
    "El tipo de pregunta define el tipo de tratamiento para el problema, en este caso se requiere \n",
    "descubrir relaciones entre variables, por lo tanto se puede usar un modelo descriptivo."
   ]
  },
  {
   "cell_type": "markdown",
   "metadata": {},
   "source": [
    "<b>4. Data Requirements</b>\n",
    "\n",
    "Para respoder o solucionar el problema se necesitan datos de los clientes que describan su comportamiento"
   ]
  },
  {
   "cell_type": "markdown",
   "metadata": {},
   "source": [
    "<b>4. Data Collection</b>\n",
    "\n",
    "Identificar las fuentes de datos y como se obtuvieron"
   ]
  },
  {
   "cell_type": "code",
   "execution_count": 1,
   "metadata": {},
   "outputs": [],
   "source": [
    "#Importar librerías\n",
    "import pandas as pd\n",
    "import numpy as np\n",
    "import seaborn as sns\n",
    "import matplotlib\n",
    "import matplotlib.pyplot as plt\n",
    "import os\n",
    "from datetime import date"
   ]
  },
  {
   "cell_type": "code",
   "execution_count": 2,
   "metadata": {},
   "outputs": [
    {
     "data": {
      "text/html": [
       "<div>\n",
       "<style scoped>\n",
       "    .dataframe tbody tr th:only-of-type {\n",
       "        vertical-align: middle;\n",
       "    }\n",
       "\n",
       "    .dataframe tbody tr th {\n",
       "        vertical-align: top;\n",
       "    }\n",
       "\n",
       "    .dataframe thead th {\n",
       "        text-align: right;\n",
       "    }\n",
       "</style>\n",
       "<table border=\"1\" class=\"dataframe\">\n",
       "  <thead>\n",
       "    <tr style=\"text-align: right;\">\n",
       "      <th></th>\n",
       "      <th>CLIENTE_CC</th>\n",
       "      <th>FECHA_ALTA</th>\n",
       "      <th>FECHA_NACIMIENTO</th>\n",
       "      <th>SEXO</th>\n",
       "      <th>ESTADO_CIVIL</th>\n",
       "      <th>SITUACION_LABORAL</th>\n",
       "      <th>fuga</th>\n",
       "      <th>MES_DE_FUGA</th>\n",
       "    </tr>\n",
       "  </thead>\n",
       "  <tbody>\n",
       "    <tr>\n",
       "      <th>0</th>\n",
       "      <td>1,00</td>\n",
       "      <td>sep301996</td>\n",
       "      <td>19300823</td>\n",
       "      <td>F</td>\n",
       "      <td>CASADO</td>\n",
       "      <td>otros</td>\n",
       "      <td>1.0</td>\n",
       "      <td>2.0</td>\n",
       "    </tr>\n",
       "    <tr>\n",
       "      <th>1</th>\n",
       "      <td>2,00</td>\n",
       "      <td>may011986</td>\n",
       "      <td>19530630</td>\n",
       "      <td>HOMBRE</td>\n",
       "      <td>UNION LIBRE</td>\n",
       "      <td>Contrato fijo</td>\n",
       "      <td>NaN</td>\n",
       "      <td>NaN</td>\n",
       "    </tr>\n",
       "    <tr>\n",
       "      <th>2</th>\n",
       "      <td>3,00</td>\n",
       "      <td>dic011994</td>\n",
       "      <td>19540721</td>\n",
       "      <td>F</td>\n",
       "      <td>UNION LIBRE</td>\n",
       "      <td>OTROS</td>\n",
       "      <td>1.0</td>\n",
       "      <td>11.0</td>\n",
       "    </tr>\n",
       "    <tr>\n",
       "      <th>3</th>\n",
       "      <td>4,00</td>\n",
       "      <td>ago271997</td>\n",
       "      <td>19390503</td>\n",
       "      <td>M</td>\n",
       "      <td>CASADO</td>\n",
       "      <td>OTROS</td>\n",
       "      <td>NaN</td>\n",
       "      <td>NaN</td>\n",
       "    </tr>\n",
       "    <tr>\n",
       "      <th>4</th>\n",
       "      <td>5,00</td>\n",
       "      <td>jul211997</td>\n",
       "      <td>19311013</td>\n",
       "      <td>F</td>\n",
       "      <td>CASADO</td>\n",
       "      <td>contrato autonomo.</td>\n",
       "      <td>NaN</td>\n",
       "      <td>NaN</td>\n",
       "    </tr>\n",
       "  </tbody>\n",
       "</table>\n",
       "</div>"
      ],
      "text/plain": [
       "  CLIENTE_CC FECHA_ALTA FECHA_NACIMIENTO    SEXO ESTADO_CIVIL  \\\n",
       "0       1,00  sep301996         19300823       F       CASADO   \n",
       "1       2,00  may011986         19530630  HOMBRE  UNION LIBRE   \n",
       "2       3,00  dic011994         19540721       F  UNION LIBRE   \n",
       "3       4,00  ago271997         19390503       M       CASADO   \n",
       "4       5,00  jul211997         19311013       F       CASADO   \n",
       "\n",
       "    SITUACION_LABORAL  fuga  MES_DE_FUGA  \n",
       "0               otros   1.0          2.0  \n",
       "1       Contrato fijo   NaN          NaN  \n",
       "2               OTROS   1.0         11.0  \n",
       "3               OTROS   NaN          NaN  \n",
       "4  contrato autonomo.   NaN          NaN  "
      ]
     },
     "execution_count": 2,
     "metadata": {},
     "output_type": "execute_result"
    }
   ],
   "source": [
    "#Leer datos BASE_ID.txt\n",
    "id_path=(\"C://Users/hecansaga/Desktop/YPD/BASE_ID.txt\")\n",
    "df_id = pd.read_table(id_path)\n",
    "df_id.head()"
   ]
  },
  {
   "cell_type": "code",
   "execution_count": 3,
   "metadata": {
    "scrolled": true
   },
   "outputs": [
    {
     "data": {
      "text/html": [
       "<div>\n",
       "<style scoped>\n",
       "    .dataframe tbody tr th:only-of-type {\n",
       "        vertical-align: middle;\n",
       "    }\n",
       "\n",
       "    .dataframe tbody tr th {\n",
       "        vertical-align: top;\n",
       "    }\n",
       "\n",
       "    .dataframe thead th {\n",
       "        text-align: right;\n",
       "    }\n",
       "</style>\n",
       "<table border=\"1\" class=\"dataframe\">\n",
       "  <thead>\n",
       "    <tr style=\"text-align: right;\">\n",
       "      <th></th>\n",
       "      <th>ID</th>\n",
       "      <th>FECHA_INFORMACION</th>\n",
       "      <th>SALDO_AHORROS</th>\n",
       "      <th>SALDO_FONDOS</th>\n",
       "      <th>SALDO_CREDITO1</th>\n",
       "      <th>SALDO_CREDITO2</th>\n",
       "      <th>SALDO_TARJETA</th>\n",
       "      <th>MONTO_COMPRAS1</th>\n",
       "      <th>MONTO_CAJERO1</th>\n",
       "      <th>MONTO_COMPRAS2</th>\n",
       "      <th>MONTO_CAJERO2</th>\n",
       "      <th>MONTO_ABONOS_NOMINA</th>\n",
       "      <th>INDICADOR_MORA</th>\n",
       "      <th>SALDO_ACTIVO</th>\n",
       "      <th>SALDO_PASIVO</th>\n",
       "    </tr>\n",
       "  </thead>\n",
       "  <tbody>\n",
       "    <tr>\n",
       "      <th>0</th>\n",
       "      <td>3</td>\n",
       "      <td>01JUL2017:00:00:00</td>\n",
       "      <td>3340.00</td>\n",
       "      <td>0,00</td>\n",
       "      <td>$ 876.047,06</td>\n",
       "      <td>$ 0,00</td>\n",
       "      <td>0.0</td>\n",
       "      <td>0.0</td>\n",
       "      <td>0.0</td>\n",
       "      <td>0.0</td>\n",
       "      <td>0.0</td>\n",
       "      <td>0.0</td>\n",
       "      <td>0</td>\n",
       "      <td>876047,06</td>\n",
       "      <td>3340</td>\n",
       "    </tr>\n",
       "    <tr>\n",
       "      <th>1</th>\n",
       "      <td>171</td>\n",
       "      <td>01MAY2017:00:00:00</td>\n",
       "      <td>1070130.00</td>\n",
       "      <td>0,00</td>\n",
       "      <td>$ 7.828.500,12</td>\n",
       "      <td>$ 0,00</td>\n",
       "      <td>0.0</td>\n",
       "      <td>0.0</td>\n",
       "      <td>0.0</td>\n",
       "      <td>0.0</td>\n",
       "      <td>460000.0</td>\n",
       "      <td>897220.0</td>\n",
       "      <td>0</td>\n",
       "      <td>7828500,12</td>\n",
       "      <td>1070133,18</td>\n",
       "    </tr>\n",
       "    <tr>\n",
       "      <th>2</th>\n",
       "      <td>313</td>\n",
       "      <td>01OCT2017:00:00:00</td>\n",
       "      <td>0.00</td>\n",
       "      <td>0,00</td>\n",
       "      <td>$ 0,00</td>\n",
       "      <td>$ 0,00</td>\n",
       "      <td>0.0</td>\n",
       "      <td>0.0</td>\n",
       "      <td>0.0</td>\n",
       "      <td>0.0</td>\n",
       "      <td>0.0</td>\n",
       "      <td>0.0</td>\n",
       "      <td>0</td>\n",
       "      <td>0</td>\n",
       "      <td>0</td>\n",
       "    </tr>\n",
       "    <tr>\n",
       "      <th>3</th>\n",
       "      <td>644</td>\n",
       "      <td>01MAY2017:00:00:00</td>\n",
       "      <td>2204.88</td>\n",
       "      <td>0,00</td>\n",
       "      <td>$ 8.863.156,75</td>\n",
       "      <td>$ 0,00</td>\n",
       "      <td>2153170.0</td>\n",
       "      <td>359023.0</td>\n",
       "      <td>0.0</td>\n",
       "      <td>8000.0</td>\n",
       "      <td>160000.0</td>\n",
       "      <td>748000.0</td>\n",
       "      <td>0</td>\n",
       "      <td>11016329,89</td>\n",
       "      <td>2204,88</td>\n",
       "    </tr>\n",
       "    <tr>\n",
       "      <th>4</th>\n",
       "      <td>1445</td>\n",
       "      <td>01DEC2016:00:00:00</td>\n",
       "      <td>692926.00</td>\n",
       "      <td>0,00</td>\n",
       "      <td>$ 0,00</td>\n",
       "      <td>$ 0,00</td>\n",
       "      <td>0.0</td>\n",
       "      <td>0.0</td>\n",
       "      <td>0.0</td>\n",
       "      <td>0.0</td>\n",
       "      <td>0.0</td>\n",
       "      <td>606720.0</td>\n",
       "      <td>0</td>\n",
       "      <td>0</td>\n",
       "      <td>692926,32</td>\n",
       "    </tr>\n",
       "  </tbody>\n",
       "</table>\n",
       "</div>"
      ],
      "text/plain": [
       "     ID   FECHA_INFORMACION  SALDO_AHORROS SALDO_FONDOS  SALDO_CREDITO1  \\\n",
       "0     3  01JUL2017:00:00:00        3340.00         0,00    $ 876.047,06   \n",
       "1   171  01MAY2017:00:00:00     1070130.00         0,00  $ 7.828.500,12   \n",
       "2   313  01OCT2017:00:00:00           0.00         0,00          $ 0,00   \n",
       "3   644  01MAY2017:00:00:00        2204.88         0,00  $ 8.863.156,75   \n",
       "4  1445  01DEC2016:00:00:00      692926.00         0,00          $ 0,00   \n",
       "\n",
       "  SALDO_CREDITO2  SALDO_TARJETA  MONTO_COMPRAS1  MONTO_CAJERO1  \\\n",
       "0         $ 0,00            0.0             0.0            0.0   \n",
       "1         $ 0,00            0.0             0.0            0.0   \n",
       "2         $ 0,00            0.0             0.0            0.0   \n",
       "3         $ 0,00      2153170.0        359023.0            0.0   \n",
       "4         $ 0,00            0.0             0.0            0.0   \n",
       "\n",
       "   MONTO_COMPRAS2  MONTO_CAJERO2  MONTO_ABONOS_NOMINA  INDICADOR_MORA  \\\n",
       "0             0.0            0.0                  0.0               0   \n",
       "1             0.0       460000.0             897220.0               0   \n",
       "2             0.0            0.0                  0.0               0   \n",
       "3          8000.0       160000.0             748000.0               0   \n",
       "4             0.0            0.0             606720.0               0   \n",
       "\n",
       "  SALDO_ACTIVO SALDO_PASIVO  \n",
       "0    876047,06         3340  \n",
       "1   7828500,12   1070133,18  \n",
       "2            0            0  \n",
       "3  11016329,89      2204,88  \n",
       "4            0    692926,32  "
      ]
     },
     "execution_count": 3,
     "metadata": {},
     "output_type": "execute_result"
    }
   ],
   "source": [
    "#Leer datos BASE_MOVIMIENTOS.txt\n",
    "bm_path=(\"C://Users/hecansaga/Desktop/YPD/BASE_MOVIMIENTOS.txt\")                   \n",
    "df_bm = pd.read_fwf(bm_path)\n",
    "df_bm.head()"
   ]
  },
  {
   "cell_type": "markdown",
   "metadata": {},
   "source": [
    "<b>5. Data Understanding</b>\n",
    "\n",
    "Identificar las fuentes de datos y como se obtuvieron"
   ]
  },
  {
   "cell_type": "code",
   "execution_count": 4,
   "metadata": {},
   "outputs": [
    {
     "data": {
      "text/plain": [
       "ID                       int64\n",
       "FECHA_INFORMACION       object\n",
       "SALDO_AHORROS          float64\n",
       "SALDO_FONDOS            object\n",
       "SALDO_CREDITO1          object\n",
       "SALDO_CREDITO2          object\n",
       "SALDO_TARJETA          float64\n",
       "MONTO_COMPRAS1         float64\n",
       "MONTO_CAJERO1          float64\n",
       "MONTO_COMPRAS2         float64\n",
       "MONTO_CAJERO2          float64\n",
       "MONTO_ABONOS_NOMINA    float64\n",
       "INDICADOR_MORA           int64\n",
       "SALDO_ACTIVO            object\n",
       "SALDO_PASIVO            object\n",
       "dtype: object"
      ]
     },
     "execution_count": 4,
     "metadata": {},
     "output_type": "execute_result"
    }
   ],
   "source": [
    "#Tipos de variables en la base de movimientos\n",
    "df_bm.dtypes"
   ]
  },
  {
   "cell_type": "code",
   "execution_count": 5,
   "metadata": {
    "scrolled": true
   },
   "outputs": [
    {
     "data": {
      "text/plain": [
       "CLIENTE_CC            object\n",
       "FECHA_ALTA            object\n",
       "FECHA_NACIMIENTO      object\n",
       "SEXO                  object\n",
       "ESTADO_CIVIL          object\n",
       "SITUACION_LABORAL     object\n",
       "fuga                 float64\n",
       "MES_DE_FUGA          float64\n",
       "dtype: object"
      ]
     },
     "execution_count": 5,
     "metadata": {},
     "output_type": "execute_result"
    }
   ],
   "source": [
    "#Tipos de variables en la base id\n",
    "df_id.dtypes"
   ]
  },
  {
   "cell_type": "markdown",
   "metadata": {},
   "source": [
    "<b>6. Data Preparation</b>\n",
    "\n",
    "Transformar y limpiar los datos"
   ]
  },
  {
   "cell_type": "code",
   "execution_count": 6,
   "metadata": {
    "scrolled": false
   },
   "outputs": [],
   "source": [
    "#Correción y limpieza de datos\n",
    "df_bm.replace(regex=True,inplace=True,to_replace=r'\\$ ',value=r'') \n",
    "df_bm.replace(regex=True,inplace=True,to_replace=r'\\.',value=r'')\n",
    "df_bm.replace(regex=True,inplace=True,to_replace=r'\\,',value=r'.')"
   ]
  },
  {
   "cell_type": "code",
   "execution_count": 7,
   "metadata": {},
   "outputs": [],
   "source": [
    "#Configurar correctamente los tipos de variables de la base de movimientos\n",
    "df_bm['SALDO_FONDOS']=df_bm['SALDO_FONDOS'].astype(\"float64\")\n",
    "df_bm['SALDO_CREDITO1']=df_bm['SALDO_CREDITO1'].astype(\"float64\")\n",
    "df_bm['SALDO_CREDITO2']=df_bm['SALDO_CREDITO2'].astype(\"float64\")\n",
    "df_bm['SALDO_ACTIVO']=df_bm['SALDO_ACTIVO'].astype(\"float64\")\n",
    "df_bm['SALDO_PASIVO']=df_bm['SALDO_PASIVO'].astype(\"float64\")"
   ]
  },
  {
   "cell_type": "code",
   "execution_count": 8,
   "metadata": {},
   "outputs": [
    {
     "data": {
      "text/plain": [
       "ID                       int64\n",
       "FECHA_INFORMACION       object\n",
       "SALDO_AHORROS          float64\n",
       "SALDO_FONDOS           float64\n",
       "SALDO_CREDITO1         float64\n",
       "SALDO_CREDITO2         float64\n",
       "SALDO_TARJETA          float64\n",
       "MONTO_COMPRAS1         float64\n",
       "MONTO_CAJERO1          float64\n",
       "MONTO_COMPRAS2         float64\n",
       "MONTO_CAJERO2          float64\n",
       "MONTO_ABONOS_NOMINA    float64\n",
       "INDICADOR_MORA           int64\n",
       "SALDO_ACTIVO           float64\n",
       "SALDO_PASIVO           float64\n",
       "dtype: object"
      ]
     },
     "execution_count": 8,
     "metadata": {},
     "output_type": "execute_result"
    }
   ],
   "source": [
    "#verificar los nuevos tipos de variables\n",
    "df_bm.dtypes"
   ]
  },
  {
   "cell_type": "code",
   "execution_count": 9,
   "metadata": {
    "scrolled": true
   },
   "outputs": [],
   "source": [
    "#eliminar las datos de horas en la variable FECHA_INFORMACION\n",
    "df_bm['FECHA_INFORMACION'].replace(regex=True,inplace=True,to_replace=r'\\:00',value=r'')"
   ]
  },
  {
   "cell_type": "code",
   "execution_count": 10,
   "metadata": {},
   "outputs": [],
   "source": [
    "#Reemplazar valores de meses en letras por números en FECHA INFORMACION\n",
    "df_bm['FECHA_INFORMACION'].replace(regex=True,inplace=True,\n",
    "                                   to_replace=['JAN','FEB','MAR','APR','MAY','JUN','JUL','AUG','SEP','OCT','NOV','DEC'],\n",
    "                                   value=['/01/','/02/','/03/','/04/','/05/','/06/','/07/','/08/','/09/','/10/','/11/','/12/'])"
   ]
  },
  {
   "cell_type": "code",
   "execution_count": 11,
   "metadata": {},
   "outputs": [],
   "source": [
    "#Convertir la variable FECHA INFORMACION  a tipo fecha\n",
    "df_bm['FECHA_INFORMACION']=pd.to_datetime(df_bm['FECHA_INFORMACION'])"
   ]
  },
  {
   "cell_type": "code",
   "execution_count": 12,
   "metadata": {},
   "outputs": [
    {
     "data": {
      "text/html": [
       "<div>\n",
       "<style scoped>\n",
       "    .dataframe tbody tr th:only-of-type {\n",
       "        vertical-align: middle;\n",
       "    }\n",
       "\n",
       "    .dataframe tbody tr th {\n",
       "        vertical-align: top;\n",
       "    }\n",
       "\n",
       "    .dataframe thead th {\n",
       "        text-align: right;\n",
       "    }\n",
       "</style>\n",
       "<table border=\"1\" class=\"dataframe\">\n",
       "  <thead>\n",
       "    <tr style=\"text-align: right;\">\n",
       "      <th></th>\n",
       "      <th>ID</th>\n",
       "      <th>SALDO_AHORROS</th>\n",
       "      <th>SALDO_FONDOS</th>\n",
       "      <th>SALDO_CREDITO1</th>\n",
       "      <th>SALDO_CREDITO2</th>\n",
       "      <th>SALDO_TARJETA</th>\n",
       "      <th>MONTO_COMPRAS1</th>\n",
       "      <th>MONTO_CAJERO1</th>\n",
       "      <th>MONTO_COMPRAS2</th>\n",
       "      <th>MONTO_CAJERO2</th>\n",
       "      <th>MONTO_ABONOS_NOMINA</th>\n",
       "      <th>INDICADOR_MORA</th>\n",
       "      <th>SALDO_ACTIVO</th>\n",
       "      <th>SALDO_PASIVO</th>\n",
       "    </tr>\n",
       "  </thead>\n",
       "  <tbody>\n",
       "    <tr>\n",
       "      <th>count</th>\n",
       "      <td>31440.000000</td>\n",
       "      <td>3.144000e+04</td>\n",
       "      <td>3.144000e+04</td>\n",
       "      <td>3.144000e+04</td>\n",
       "      <td>3.144000e+04</td>\n",
       "      <td>3.144000e+04</td>\n",
       "      <td>3.144000e+04</td>\n",
       "      <td>3.144000e+04</td>\n",
       "      <td>3.144000e+04</td>\n",
       "      <td>3.144000e+04</td>\n",
       "      <td>3.144000e+04</td>\n",
       "      <td>31440.000000</td>\n",
       "      <td>3.144000e+04</td>\n",
       "      <td>3.144000e+04</td>\n",
       "    </tr>\n",
       "    <tr>\n",
       "      <th>mean</th>\n",
       "      <td>1245.013581</td>\n",
       "      <td>6.145143e+05</td>\n",
       "      <td>1.011476e+05</td>\n",
       "      <td>2.125163e+06</td>\n",
       "      <td>2.038797e+05</td>\n",
       "      <td>6.082164e+05</td>\n",
       "      <td>5.245179e+04</td>\n",
       "      <td>2.005084e+04</td>\n",
       "      <td>6.154962e+04</td>\n",
       "      <td>6.121321e+05</td>\n",
       "      <td>6.981118e+05</td>\n",
       "      <td>0.014377</td>\n",
       "      <td>2.937260e+06</td>\n",
       "      <td>7.315603e+05</td>\n",
       "    </tr>\n",
       "    <tr>\n",
       "      <th>std</th>\n",
       "      <td>719.758159</td>\n",
       "      <td>1.632780e+06</td>\n",
       "      <td>7.283073e+05</td>\n",
       "      <td>4.445635e+06</td>\n",
       "      <td>1.442148e+06</td>\n",
       "      <td>1.656331e+06</td>\n",
       "      <td>3.796909e+05</td>\n",
       "      <td>1.634780e+05</td>\n",
       "      <td>2.915263e+05</td>\n",
       "      <td>9.684137e+05</td>\n",
       "      <td>1.011727e+06</td>\n",
       "      <td>0.119039</td>\n",
       "      <td>4.840862e+06</td>\n",
       "      <td>1.785686e+06</td>\n",
       "    </tr>\n",
       "    <tr>\n",
       "      <th>min</th>\n",
       "      <td>1.000000</td>\n",
       "      <td>-1.738720e+03</td>\n",
       "      <td>0.000000e+00</td>\n",
       "      <td>0.000000e+00</td>\n",
       "      <td>0.000000e+00</td>\n",
       "      <td>0.000000e+00</td>\n",
       "      <td>0.000000e+00</td>\n",
       "      <td>0.000000e+00</td>\n",
       "      <td>0.000000e+00</td>\n",
       "      <td>0.000000e+00</td>\n",
       "      <td>0.000000e+00</td>\n",
       "      <td>0.000000</td>\n",
       "      <td>0.000000e+00</td>\n",
       "      <td>-1.225200e+02</td>\n",
       "    </tr>\n",
       "    <tr>\n",
       "      <th>25%</th>\n",
       "      <td>622.000000</td>\n",
       "      <td>3.425000e+02</td>\n",
       "      <td>0.000000e+00</td>\n",
       "      <td>0.000000e+00</td>\n",
       "      <td>0.000000e+00</td>\n",
       "      <td>0.000000e+00</td>\n",
       "      <td>0.000000e+00</td>\n",
       "      <td>0.000000e+00</td>\n",
       "      <td>0.000000e+00</td>\n",
       "      <td>0.000000e+00</td>\n",
       "      <td>0.000000e+00</td>\n",
       "      <td>0.000000</td>\n",
       "      <td>0.000000e+00</td>\n",
       "      <td>8.720000e+02</td>\n",
       "    </tr>\n",
       "    <tr>\n",
       "      <th>50%</th>\n",
       "      <td>1244.000000</td>\n",
       "      <td>7.545170e+04</td>\n",
       "      <td>0.000000e+00</td>\n",
       "      <td>0.000000e+00</td>\n",
       "      <td>0.000000e+00</td>\n",
       "      <td>0.000000e+00</td>\n",
       "      <td>0.000000e+00</td>\n",
       "      <td>0.000000e+00</td>\n",
       "      <td>0.000000e+00</td>\n",
       "      <td>0.000000e+00</td>\n",
       "      <td>0.000000e+00</td>\n",
       "      <td>0.000000</td>\n",
       "      <td>0.000000e+00</td>\n",
       "      <td>9.436170e+04</td>\n",
       "    </tr>\n",
       "    <tr>\n",
       "      <th>75%</th>\n",
       "      <td>1866.000000</td>\n",
       "      <td>4.480658e+05</td>\n",
       "      <td>0.000000e+00</td>\n",
       "      <td>1.342990e+06</td>\n",
       "      <td>0.000000e+00</td>\n",
       "      <td>1.914562e+05</td>\n",
       "      <td>0.000000e+00</td>\n",
       "      <td>0.000000e+00</td>\n",
       "      <td>0.000000e+00</td>\n",
       "      <td>1.050000e+06</td>\n",
       "      <td>1.202605e+06</td>\n",
       "      <td>0.000000</td>\n",
       "      <td>4.184343e+06</td>\n",
       "      <td>5.413268e+05</td>\n",
       "    </tr>\n",
       "    <tr>\n",
       "      <th>max</th>\n",
       "      <td>2500.000000</td>\n",
       "      <td>9.329870e+07</td>\n",
       "      <td>9.780793e+06</td>\n",
       "      <td>6.700000e+07</td>\n",
       "      <td>1.756400e+07</td>\n",
       "      <td>2.075380e+07</td>\n",
       "      <td>1.449950e+07</td>\n",
       "      <td>8.990000e+06</td>\n",
       "      <td>1.077210e+07</td>\n",
       "      <td>1.888000e+07</td>\n",
       "      <td>2.800310e+07</td>\n",
       "      <td>1.000000</td>\n",
       "      <td>6.965860e+07</td>\n",
       "      <td>9.329867e+07</td>\n",
       "    </tr>\n",
       "  </tbody>\n",
       "</table>\n",
       "</div>"
      ],
      "text/plain": [
       "                 ID  SALDO_AHORROS  SALDO_FONDOS  SALDO_CREDITO1  \\\n",
       "count  31440.000000   3.144000e+04  3.144000e+04    3.144000e+04   \n",
       "mean    1245.013581   6.145143e+05  1.011476e+05    2.125163e+06   \n",
       "std      719.758159   1.632780e+06  7.283073e+05    4.445635e+06   \n",
       "min        1.000000  -1.738720e+03  0.000000e+00    0.000000e+00   \n",
       "25%      622.000000   3.425000e+02  0.000000e+00    0.000000e+00   \n",
       "50%     1244.000000   7.545170e+04  0.000000e+00    0.000000e+00   \n",
       "75%     1866.000000   4.480658e+05  0.000000e+00    1.342990e+06   \n",
       "max     2500.000000   9.329870e+07  9.780793e+06    6.700000e+07   \n",
       "\n",
       "       SALDO_CREDITO2  SALDO_TARJETA  MONTO_COMPRAS1  MONTO_CAJERO1  \\\n",
       "count    3.144000e+04   3.144000e+04    3.144000e+04   3.144000e+04   \n",
       "mean     2.038797e+05   6.082164e+05    5.245179e+04   2.005084e+04   \n",
       "std      1.442148e+06   1.656331e+06    3.796909e+05   1.634780e+05   \n",
       "min      0.000000e+00   0.000000e+00    0.000000e+00   0.000000e+00   \n",
       "25%      0.000000e+00   0.000000e+00    0.000000e+00   0.000000e+00   \n",
       "50%      0.000000e+00   0.000000e+00    0.000000e+00   0.000000e+00   \n",
       "75%      0.000000e+00   1.914562e+05    0.000000e+00   0.000000e+00   \n",
       "max      1.756400e+07   2.075380e+07    1.449950e+07   8.990000e+06   \n",
       "\n",
       "       MONTO_COMPRAS2  MONTO_CAJERO2  MONTO_ABONOS_NOMINA  INDICADOR_MORA  \\\n",
       "count    3.144000e+04   3.144000e+04         3.144000e+04    31440.000000   \n",
       "mean     6.154962e+04   6.121321e+05         6.981118e+05        0.014377   \n",
       "std      2.915263e+05   9.684137e+05         1.011727e+06        0.119039   \n",
       "min      0.000000e+00   0.000000e+00         0.000000e+00        0.000000   \n",
       "25%      0.000000e+00   0.000000e+00         0.000000e+00        0.000000   \n",
       "50%      0.000000e+00   0.000000e+00         0.000000e+00        0.000000   \n",
       "75%      0.000000e+00   1.050000e+06         1.202605e+06        0.000000   \n",
       "max      1.077210e+07   1.888000e+07         2.800310e+07        1.000000   \n",
       "\n",
       "       SALDO_ACTIVO  SALDO_PASIVO  \n",
       "count  3.144000e+04  3.144000e+04  \n",
       "mean   2.937260e+06  7.315603e+05  \n",
       "std    4.840862e+06  1.785686e+06  \n",
       "min    0.000000e+00 -1.225200e+02  \n",
       "25%    0.000000e+00  8.720000e+02  \n",
       "50%    0.000000e+00  9.436170e+04  \n",
       "75%    4.184343e+06  5.413268e+05  \n",
       "max    6.965860e+07  9.329867e+07  "
      ]
     },
     "execution_count": 12,
     "metadata": {},
     "output_type": "execute_result"
    }
   ],
   "source": [
    "#Medidas estadisticas básicas para identificar los cambios en las variables\n",
    "df_bm.describe()"
   ]
  },
  {
   "cell_type": "code",
   "execution_count": 13,
   "metadata": {},
   "outputs": [
    {
     "data": {
      "text/html": [
       "<div>\n",
       "<style scoped>\n",
       "    .dataframe tbody tr th:only-of-type {\n",
       "        vertical-align: middle;\n",
       "    }\n",
       "\n",
       "    .dataframe tbody tr th {\n",
       "        vertical-align: top;\n",
       "    }\n",
       "\n",
       "    .dataframe thead th {\n",
       "        text-align: right;\n",
       "    }\n",
       "</style>\n",
       "<table border=\"1\" class=\"dataframe\">\n",
       "  <thead>\n",
       "    <tr style=\"text-align: right;\">\n",
       "      <th></th>\n",
       "      <th>ID</th>\n",
       "      <th>FECHA_INFORMACION</th>\n",
       "      <th>SALDO_AHORROS</th>\n",
       "      <th>SALDO_FONDOS</th>\n",
       "      <th>SALDO_CREDITO1</th>\n",
       "      <th>SALDO_CREDITO2</th>\n",
       "      <th>SALDO_TARJETA</th>\n",
       "      <th>MONTO_COMPRAS1</th>\n",
       "      <th>MONTO_CAJERO1</th>\n",
       "      <th>MONTO_COMPRAS2</th>\n",
       "      <th>MONTO_CAJERO2</th>\n",
       "      <th>MONTO_ABONOS_NOMINA</th>\n",
       "      <th>INDICADOR_MORA</th>\n",
       "      <th>SALDO_ACTIVO</th>\n",
       "      <th>SALDO_PASIVO</th>\n",
       "    </tr>\n",
       "  </thead>\n",
       "  <tbody>\n",
       "    <tr>\n",
       "      <th>0</th>\n",
       "      <td>3</td>\n",
       "      <td>2017-01-07</td>\n",
       "      <td>3340.00</td>\n",
       "      <td>0.0</td>\n",
       "      <td>876047.06</td>\n",
       "      <td>0.0</td>\n",
       "      <td>0.0</td>\n",
       "      <td>0.0</td>\n",
       "      <td>0.0</td>\n",
       "      <td>0.0</td>\n",
       "      <td>0.0</td>\n",
       "      <td>0.0</td>\n",
       "      <td>0</td>\n",
       "      <td>876047.06</td>\n",
       "      <td>3340.00</td>\n",
       "    </tr>\n",
       "    <tr>\n",
       "      <th>1</th>\n",
       "      <td>171</td>\n",
       "      <td>2017-01-05</td>\n",
       "      <td>1070130.00</td>\n",
       "      <td>0.0</td>\n",
       "      <td>7828500.12</td>\n",
       "      <td>0.0</td>\n",
       "      <td>0.0</td>\n",
       "      <td>0.0</td>\n",
       "      <td>0.0</td>\n",
       "      <td>0.0</td>\n",
       "      <td>460000.0</td>\n",
       "      <td>897220.0</td>\n",
       "      <td>0</td>\n",
       "      <td>7828500.12</td>\n",
       "      <td>1070133.18</td>\n",
       "    </tr>\n",
       "    <tr>\n",
       "      <th>2</th>\n",
       "      <td>313</td>\n",
       "      <td>2017-01-10</td>\n",
       "      <td>0.00</td>\n",
       "      <td>0.0</td>\n",
       "      <td>0.00</td>\n",
       "      <td>0.0</td>\n",
       "      <td>0.0</td>\n",
       "      <td>0.0</td>\n",
       "      <td>0.0</td>\n",
       "      <td>0.0</td>\n",
       "      <td>0.0</td>\n",
       "      <td>0.0</td>\n",
       "      <td>0</td>\n",
       "      <td>0.00</td>\n",
       "      <td>0.00</td>\n",
       "    </tr>\n",
       "    <tr>\n",
       "      <th>3</th>\n",
       "      <td>644</td>\n",
       "      <td>2017-01-05</td>\n",
       "      <td>2204.88</td>\n",
       "      <td>0.0</td>\n",
       "      <td>8863156.75</td>\n",
       "      <td>0.0</td>\n",
       "      <td>2153170.0</td>\n",
       "      <td>359023.0</td>\n",
       "      <td>0.0</td>\n",
       "      <td>8000.0</td>\n",
       "      <td>160000.0</td>\n",
       "      <td>748000.0</td>\n",
       "      <td>0</td>\n",
       "      <td>11016329.89</td>\n",
       "      <td>2204.88</td>\n",
       "    </tr>\n",
       "    <tr>\n",
       "      <th>4</th>\n",
       "      <td>1445</td>\n",
       "      <td>2016-01-12</td>\n",
       "      <td>692926.00</td>\n",
       "      <td>0.0</td>\n",
       "      <td>0.00</td>\n",
       "      <td>0.0</td>\n",
       "      <td>0.0</td>\n",
       "      <td>0.0</td>\n",
       "      <td>0.0</td>\n",
       "      <td>0.0</td>\n",
       "      <td>0.0</td>\n",
       "      <td>606720.0</td>\n",
       "      <td>0</td>\n",
       "      <td>0.00</td>\n",
       "      <td>692926.32</td>\n",
       "    </tr>\n",
       "  </tbody>\n",
       "</table>\n",
       "</div>"
      ],
      "text/plain": [
       "     ID FECHA_INFORMACION  SALDO_AHORROS  SALDO_FONDOS  SALDO_CREDITO1  \\\n",
       "0     3        2017-01-07        3340.00           0.0       876047.06   \n",
       "1   171        2017-01-05     1070130.00           0.0      7828500.12   \n",
       "2   313        2017-01-10           0.00           0.0            0.00   \n",
       "3   644        2017-01-05        2204.88           0.0      8863156.75   \n",
       "4  1445        2016-01-12      692926.00           0.0            0.00   \n",
       "\n",
       "   SALDO_CREDITO2  SALDO_TARJETA  MONTO_COMPRAS1  MONTO_CAJERO1  \\\n",
       "0             0.0            0.0             0.0            0.0   \n",
       "1             0.0            0.0             0.0            0.0   \n",
       "2             0.0            0.0             0.0            0.0   \n",
       "3             0.0      2153170.0        359023.0            0.0   \n",
       "4             0.0            0.0             0.0            0.0   \n",
       "\n",
       "   MONTO_COMPRAS2  MONTO_CAJERO2  MONTO_ABONOS_NOMINA  INDICADOR_MORA  \\\n",
       "0             0.0            0.0                  0.0               0   \n",
       "1             0.0       460000.0             897220.0               0   \n",
       "2             0.0            0.0                  0.0               0   \n",
       "3          8000.0       160000.0             748000.0               0   \n",
       "4             0.0            0.0             606720.0               0   \n",
       "\n",
       "   SALDO_ACTIVO  SALDO_PASIVO  \n",
       "0     876047.06       3340.00  \n",
       "1    7828500.12    1070133.18  \n",
       "2          0.00          0.00  \n",
       "3   11016329.89       2204.88  \n",
       "4          0.00     692926.32  "
      ]
     },
     "execution_count": 13,
     "metadata": {},
     "output_type": "execute_result"
    }
   ],
   "source": [
    "#Observar la estructura de los datos corregidos de la base de movimientos\n",
    "df_bm.head()"
   ]
  },
  {
   "cell_type": "code",
   "execution_count": 14,
   "metadata": {},
   "outputs": [
    {
     "data": {
      "text/html": [
       "<div>\n",
       "<style scoped>\n",
       "    .dataframe tbody tr th:only-of-type {\n",
       "        vertical-align: middle;\n",
       "    }\n",
       "\n",
       "    .dataframe tbody tr th {\n",
       "        vertical-align: top;\n",
       "    }\n",
       "\n",
       "    .dataframe thead th {\n",
       "        text-align: right;\n",
       "    }\n",
       "</style>\n",
       "<table border=\"1\" class=\"dataframe\">\n",
       "  <thead>\n",
       "    <tr style=\"text-align: right;\">\n",
       "      <th></th>\n",
       "      <th>CLIENTE_CC</th>\n",
       "      <th>FECHA_ALTA</th>\n",
       "      <th>FECHA_NACIMIENTO</th>\n",
       "      <th>SEXO</th>\n",
       "      <th>ESTADO_CIVIL</th>\n",
       "      <th>SITUACION_LABORAL</th>\n",
       "      <th>fuga</th>\n",
       "      <th>MES_DE_FUGA</th>\n",
       "    </tr>\n",
       "  </thead>\n",
       "  <tbody>\n",
       "    <tr>\n",
       "      <th>0</th>\n",
       "      <td>1,00</td>\n",
       "      <td>sep301996</td>\n",
       "      <td>19300823</td>\n",
       "      <td>F</td>\n",
       "      <td>CASADO</td>\n",
       "      <td>otros</td>\n",
       "      <td>1.0</td>\n",
       "      <td>2.0</td>\n",
       "    </tr>\n",
       "    <tr>\n",
       "      <th>1</th>\n",
       "      <td>2,00</td>\n",
       "      <td>may011986</td>\n",
       "      <td>19530630</td>\n",
       "      <td>HOMBRE</td>\n",
       "      <td>UNION LIBRE</td>\n",
       "      <td>Contrato fijo</td>\n",
       "      <td>NaN</td>\n",
       "      <td>NaN</td>\n",
       "    </tr>\n",
       "    <tr>\n",
       "      <th>2</th>\n",
       "      <td>3,00</td>\n",
       "      <td>dic011994</td>\n",
       "      <td>19540721</td>\n",
       "      <td>F</td>\n",
       "      <td>UNION LIBRE</td>\n",
       "      <td>OTROS</td>\n",
       "      <td>1.0</td>\n",
       "      <td>11.0</td>\n",
       "    </tr>\n",
       "    <tr>\n",
       "      <th>3</th>\n",
       "      <td>4,00</td>\n",
       "      <td>ago271997</td>\n",
       "      <td>19390503</td>\n",
       "      <td>M</td>\n",
       "      <td>CASADO</td>\n",
       "      <td>OTROS</td>\n",
       "      <td>NaN</td>\n",
       "      <td>NaN</td>\n",
       "    </tr>\n",
       "    <tr>\n",
       "      <th>4</th>\n",
       "      <td>5,00</td>\n",
       "      <td>jul211997</td>\n",
       "      <td>19311013</td>\n",
       "      <td>F</td>\n",
       "      <td>CASADO</td>\n",
       "      <td>contrato autonomo.</td>\n",
       "      <td>NaN</td>\n",
       "      <td>NaN</td>\n",
       "    </tr>\n",
       "  </tbody>\n",
       "</table>\n",
       "</div>"
      ],
      "text/plain": [
       "  CLIENTE_CC FECHA_ALTA FECHA_NACIMIENTO    SEXO ESTADO_CIVIL  \\\n",
       "0       1,00  sep301996         19300823       F       CASADO   \n",
       "1       2,00  may011986         19530630  HOMBRE  UNION LIBRE   \n",
       "2       3,00  dic011994         19540721       F  UNION LIBRE   \n",
       "3       4,00  ago271997         19390503       M       CASADO   \n",
       "4       5,00  jul211997         19311013       F       CASADO   \n",
       "\n",
       "    SITUACION_LABORAL  fuga  MES_DE_FUGA  \n",
       "0               otros   1.0          2.0  \n",
       "1       Contrato fijo   NaN          NaN  \n",
       "2               OTROS   1.0         11.0  \n",
       "3               OTROS   NaN          NaN  \n",
       "4  contrato autonomo.   NaN          NaN  "
      ]
     },
     "execution_count": 14,
     "metadata": {},
     "output_type": "execute_result"
    }
   ],
   "source": [
    "#Observar la estructura de los datos corregidos de la base id\n",
    "df_id.head()"
   ]
  },
  {
   "cell_type": "code",
   "execution_count": 15,
   "metadata": {},
   "outputs": [],
   "source": [
    "#Renombrar columna fuga por FUGA y CLIENTE CC por ID\n",
    "df_id.rename(columns={'fuga':'FUGA','CLIENTE_CC':'ID'},inplace=True)"
   ]
  },
  {
   "cell_type": "code",
   "execution_count": 16,
   "metadata": {},
   "outputs": [],
   "source": [
    "#Correción y limpieza de datos\n",
    "df_id.replace(regex=True,inplace=True,to_replace=r'\\$ ',value=r'') \n",
    "df_id.replace(regex=True,inplace=True,to_replace=r'\\.',value=r'')\n",
    "df_id.replace(regex=True,inplace=True,to_replace=r'\\,',value=r'.')"
   ]
  },
  {
   "cell_type": "code",
   "execution_count": 17,
   "metadata": {},
   "outputs": [],
   "source": [
    "#Reemplazar los datos NaN por 0s en las variables FUGA y MES DE FUGA\n",
    "df_id['FUGA']=df_id['FUGA'].fillna(0)\n",
    "df_id['MES_DE_FUGA']=df_id['MES_DE_FUGA'].fillna(0)"
   ]
  },
  {
   "cell_type": "code",
   "execution_count": 18,
   "metadata": {},
   "outputs": [
    {
     "data": {
      "text/plain": [
       "array(['F', 'HOMBRE', 'M', 'Hombre', 'mujer', 'femenino', 'masculino',\n",
       "       'FEMENINO', 'Mujer', 'varón', 'Masc', 'MUJER'], dtype=object)"
      ]
     },
     "execution_count": 18,
     "metadata": {},
     "output_type": "execute_result"
    }
   ],
   "source": [
    "#Identificar valores unicos en la variable SEXO\n",
    "df_id['SEXO'].unique()"
   ]
  },
  {
   "cell_type": "code",
   "execution_count": 19,
   "metadata": {},
   "outputs": [],
   "source": [
    "#Unificar los valores en la variable SEXO\n",
    "df_id['SEXO'].replace(inplace=True,to_replace=['F', 'HOMBRE', 'M', 'Hombre', 'mujer', 'femenino', 'masculino',\n",
    "       'FEMENINO', 'Mujer', 'varón', 'Masc', 'MUJER'],\n",
    "                      value=['FEMENINO', 'MASCULINO', 'MASCULINO', 'MASCULINO', 'FEMENINO', 'FEMENINO', 'MASCULINO',\n",
    "       'FEMENINO', 'FEMENINO', 'MASCULINO', 'MASCULINO', 'FEMENINO'])"
   ]
  },
  {
   "cell_type": "code",
   "execution_count": 20,
   "metadata": {},
   "outputs": [
    {
     "data": {
      "text/plain": [
       "array(['CASADO', 'UNION LIBRE', 'SOLTERO', 'DIVORCIADO', 'VIUDO',\n",
       "       'SEPARADO', nan], dtype=object)"
      ]
     },
     "execution_count": 20,
     "metadata": {},
     "output_type": "execute_result"
    }
   ],
   "source": [
    "#Identificar valores unicos en la variable ESTADO CIVIL\n",
    "df_id['ESTADO_CIVIL'].unique()"
   ]
  },
  {
   "cell_type": "code",
   "execution_count": 21,
   "metadata": {},
   "outputs": [
    {
     "data": {
      "text/plain": [
       "array(['otros', 'Contrato fijo', 'OTROS', 'contrato autonomo',\n",
       "       ' desconocido   ', 'CONTRATO AUTONOMO', 'CONTRATO FIJO',\n",
       "       'CONTRATO TEMPORAL', 'temporal     ', 'SIN CLASIFICAR'],\n",
       "      dtype=object)"
      ]
     },
     "execution_count": 21,
     "metadata": {},
     "output_type": "execute_result"
    }
   ],
   "source": [
    "#Identificar valores unicos en la variable SITUACION LABORAL\n",
    "df_id['SITUACION_LABORAL'].unique()"
   ]
  },
  {
   "cell_type": "code",
   "execution_count": 22,
   "metadata": {},
   "outputs": [],
   "source": [
    "#Unificar los valores en la variable SITUACION LABORAL\n",
    "df_id['SITUACION_LABORAL'].replace(inplace=True,to_replace=['otros', 'Contrato fijo', 'OTROS', 'contrato autonomo',\n",
    "       ' desconocido   ', 'CONTRATO AUTONOMO', 'CONTRATO FIJO', 'CONTRATO TEMPORAL', 'temporal     ', 'SIN CLASIFICAR'],\n",
    "                                   value=['OTROS', 'CONTRATO FIJO', 'OTROS', 'CONTRATO AUTONOMO',\n",
    "       'DESCONOCIDO', 'CONTRATO AUTONOMO', 'CONTRATO FIJO', 'CONTRATO TEMPORAL', 'CONTRATO TEMPORAL', 'SIN CLASIFICAR'])"
   ]
  },
  {
   "cell_type": "code",
   "execution_count": 23,
   "metadata": {},
   "outputs": [],
   "source": [
    "#Reemplazar valores de meses en letras por números en FECHA ALTA\n",
    "df_id['FECHA_ALTA'].replace(regex=True,inplace=True,\n",
    "                            to_replace=['ene','feb','mar','abr','may','jun','jul','ago','sep','oct','nov','dic'],\n",
    "                            value=['01','02','03','04','05','06','07','08','09','10','11','12'])"
   ]
  },
  {
   "cell_type": "code",
   "execution_count": 24,
   "metadata": {},
   "outputs": [
    {
     "data": {
      "text/plain": [
       "0    09\n",
       "1    05\n",
       "2    12\n",
       "3    08\n",
       "4    07\n",
       "Name: FECHA_ALTA, dtype: object"
      ]
     },
     "execution_count": 24,
     "metadata": {},
     "output_type": "execute_result"
    }
   ],
   "source": [
    "#Extraer mes de FECHA ALTA\n",
    "df_mesid1=df_id['FECHA_ALTA'].str[:2].astype(object)\n",
    "df_mesid1.head()"
   ]
  },
  {
   "cell_type": "code",
   "execution_count": 25,
   "metadata": {},
   "outputs": [
    {
     "data": {
      "text/plain": [
       "0    1996\n",
       "1    1986\n",
       "2    1994\n",
       "3    1997\n",
       "4    1997\n",
       "Name: FECHA_ALTA, dtype: object"
      ]
     },
     "execution_count": 25,
     "metadata": {},
     "output_type": "execute_result"
    }
   ],
   "source": [
    "#Extraer año de FECHA ALTA\n",
    "df_añoid1=df_id['FECHA_ALTA'].str[4:].astype(object)\n",
    "df_añoid1.head()"
   ]
  },
  {
   "cell_type": "code",
   "execution_count": 26,
   "metadata": {},
   "outputs": [
    {
     "data": {
      "text/plain": [
       "0    30\n",
       "1    01\n",
       "2    01\n",
       "3    27\n",
       "4    21\n",
       "Name: FECHA_ALTA, dtype: object"
      ]
     },
     "execution_count": 26,
     "metadata": {},
     "output_type": "execute_result"
    }
   ],
   "source": [
    "#Extraer día de FECHA ALTA\n",
    "df_diaid1=df_id['FECHA_ALTA'].str[2:4:].astype(object)\n",
    "df_diaid1.head()"
   ]
  },
  {
   "cell_type": "code",
   "execution_count": 27,
   "metadata": {},
   "outputs": [
    {
     "data": {
      "text/plain": [
       "0    08\n",
       "1    06\n",
       "2    07\n",
       "3    05\n",
       "4    10\n",
       "Name: FECHA_NACIMIENTO, dtype: object"
      ]
     },
     "execution_count": 27,
     "metadata": {},
     "output_type": "execute_result"
    }
   ],
   "source": [
    "#Extraer mes de FECHA NACIMIENTO\n",
    "df_mesid2=df_id['FECHA_NACIMIENTO'].str[4:6:].astype(object)\n",
    "df_mesid2.head()"
   ]
  },
  {
   "cell_type": "code",
   "execution_count": 28,
   "metadata": {
    "scrolled": true
   },
   "outputs": [
    {
     "data": {
      "text/plain": [
       "0    1930\n",
       "1    1953\n",
       "2    1954\n",
       "3    1939\n",
       "4    1931\n",
       "Name: FECHA_NACIMIENTO, dtype: object"
      ]
     },
     "execution_count": 28,
     "metadata": {},
     "output_type": "execute_result"
    }
   ],
   "source": [
    "#Extraer año de FECHA NACIMIENTO\n",
    "df_añoid2=df_id['FECHA_NACIMIENTO'].str[:4].astype(object)\n",
    "df_añoid2.head()"
   ]
  },
  {
   "cell_type": "code",
   "execution_count": 29,
   "metadata": {},
   "outputs": [
    {
     "data": {
      "text/plain": [
       "0    23\n",
       "1    30\n",
       "2    21\n",
       "3    03\n",
       "4    13\n",
       "Name: FECHA_NACIMIENTO, dtype: object"
      ]
     },
     "execution_count": 29,
     "metadata": {},
     "output_type": "execute_result"
    }
   ],
   "source": [
    "#Extraer día de FECHA NACIMIENTO\n",
    "df_diaid2=df_id['FECHA_NACIMIENTO'].str[6:].astype(object)\n",
    "df_diaid2.head()"
   ]
  },
  {
   "cell_type": "code",
   "execution_count": 30,
   "metadata": {
    "scrolled": true
   },
   "outputs": [
    {
     "data": {
      "text/plain": [
       "0    30/09/1996\n",
       "1    01/05/1986\n",
       "2    01/12/1994\n",
       "3    27/08/1997\n",
       "4    21/07/1997\n",
       "Name: FECHA_ALTA, dtype: object"
      ]
     },
     "execution_count": 30,
     "metadata": {},
     "output_type": "execute_result"
    }
   ],
   "source": [
    "#Construir nuevavamente FECHA ALTA\n",
    "df_id['FECHA_ALTA'] = df_diaid1+'/'+df_mesid1+'/'+df_añoid1\n",
    "df_id['FECHA_ALTA'].head()"
   ]
  },
  {
   "cell_type": "code",
   "execution_count": 31,
   "metadata": {},
   "outputs": [
    {
     "data": {
      "text/plain": [
       "0    23/08/1930\n",
       "1    30/06/1953\n",
       "2    21/07/1954\n",
       "3    03/05/1939\n",
       "4    13/10/1931\n",
       "Name: FECHA_NACIMIENTO, dtype: object"
      ]
     },
     "execution_count": 31,
     "metadata": {},
     "output_type": "execute_result"
    }
   ],
   "source": [
    "#Construir nuevavamente FECHA NACIMIENTO\n",
    "df_id['FECHA_NACIMIENTO'] = df_diaid2+'/'+df_mesid2+'/'+df_añoid2\n",
    "df_id['FECHA_NACIMIENTO'].head()"
   ]
  },
  {
   "cell_type": "code",
   "execution_count": 32,
   "metadata": {},
   "outputs": [
    {
     "data": {
      "text/plain": [
       "0    10\n",
       "1    10\n",
       "2    10\n",
       "3    10\n",
       "4    10\n",
       "Name: FECHA_NACIMIENTO, dtype: int64"
      ]
     },
     "execution_count": 32,
     "metadata": {},
     "output_type": "execute_result"
    }
   ],
   "source": [
    "#Identificar dato erroneo\n",
    "df_len=df_id['FECHA_NACIMIENTO'].str.len()\n",
    "df_len.head()"
   ]
  },
  {
   "cell_type": "code",
   "execution_count": 33,
   "metadata": {},
   "outputs": [
    {
     "data": {
      "text/plain": [
       "124"
      ]
     },
     "execution_count": 33,
     "metadata": {},
     "output_type": "execute_result"
    }
   ],
   "source": [
    "#Ubicación del dato erroreo\n",
    "df_len.idxmax()"
   ]
  },
  {
   "cell_type": "code",
   "execution_count": 34,
   "metadata": {},
   "outputs": [],
   "source": [
    "#Reemplazar valor del dato erroneo\n",
    "df_id['FECHA_NACIMIENTO'].replace(inplace=True,to_replace='1-01/-0/0001',value='NaN')"
   ]
  },
  {
   "cell_type": "code",
   "execution_count": 35,
   "metadata": {},
   "outputs": [
    {
     "data": {
      "text/plain": [
       "ID                            int64\n",
       "FECHA_ALTA           datetime64[ns]\n",
       "FECHA_NACIMIENTO     datetime64[ns]\n",
       "SEXO                         object\n",
       "ESTADO_CIVIL                 object\n",
       "SITUACION_LABORAL            object\n",
       "FUGA                           bool\n",
       "MES_DE_FUGA                   int64\n",
       "dtype: object"
      ]
     },
     "execution_count": 35,
     "metadata": {},
     "output_type": "execute_result"
    }
   ],
   "source": [
    "#Configurar los tipos de variables de la base id\n",
    "df_id['ID']=df_id['ID'].astype('float64')\n",
    "df_id['ID']=df_id['ID'].astype('int64')\n",
    "df_id['FECHA_ALTA']=pd.to_datetime(df_id['FECHA_ALTA'])\n",
    "df_id['FECHA_NACIMIENTO']=pd.to_datetime(df_id['FECHA_NACIMIENTO'])\n",
    "df_id['FUGA']=df_id['FUGA'].astype('bool')\n",
    "df_id['MES_DE_FUGA']=df_id['MES_DE_FUGA'].astype('int64')\n",
    "df_id.dtypes"
   ]
  },
  {
   "cell_type": "code",
   "execution_count": 36,
   "metadata": {},
   "outputs": [
    {
     "data": {
      "text/html": [
       "<div>\n",
       "<style scoped>\n",
       "    .dataframe tbody tr th:only-of-type {\n",
       "        vertical-align: middle;\n",
       "    }\n",
       "\n",
       "    .dataframe tbody tr th {\n",
       "        vertical-align: top;\n",
       "    }\n",
       "\n",
       "    .dataframe thead th {\n",
       "        text-align: right;\n",
       "    }\n",
       "</style>\n",
       "<table border=\"1\" class=\"dataframe\">\n",
       "  <thead>\n",
       "    <tr style=\"text-align: right;\">\n",
       "      <th></th>\n",
       "      <th>ID</th>\n",
       "      <th>FECHA_INFORMACION</th>\n",
       "      <th>SALDO_AHORROS</th>\n",
       "      <th>SALDO_FONDOS</th>\n",
       "      <th>SALDO_CREDITO1</th>\n",
       "      <th>SALDO_CREDITO2</th>\n",
       "      <th>SALDO_TARJETA</th>\n",
       "      <th>MONTO_COMPRAS1</th>\n",
       "      <th>MONTO_CAJERO1</th>\n",
       "      <th>MONTO_COMPRAS2</th>\n",
       "      <th>MONTO_CAJERO2</th>\n",
       "      <th>MONTO_ABONOS_NOMINA</th>\n",
       "      <th>INDICADOR_MORA</th>\n",
       "      <th>SALDO_ACTIVO</th>\n",
       "      <th>SALDO_PASIVO</th>\n",
       "    </tr>\n",
       "  </thead>\n",
       "  <tbody>\n",
       "    <tr>\n",
       "      <th>14235</th>\n",
       "      <td>1</td>\n",
       "      <td>2016-01-12</td>\n",
       "      <td>6977.26</td>\n",
       "      <td>0.0</td>\n",
       "      <td>0.0</td>\n",
       "      <td>0.0</td>\n",
       "      <td>0.0</td>\n",
       "      <td>0.0</td>\n",
       "      <td>0.0</td>\n",
       "      <td>0.0</td>\n",
       "      <td>0.0</td>\n",
       "      <td>0.0</td>\n",
       "      <td>0</td>\n",
       "      <td>0.0</td>\n",
       "      <td>6977.26</td>\n",
       "    </tr>\n",
       "    <tr>\n",
       "      <th>12009</th>\n",
       "      <td>1</td>\n",
       "      <td>2017-01-01</td>\n",
       "      <td>5507.00</td>\n",
       "      <td>0.0</td>\n",
       "      <td>0.0</td>\n",
       "      <td>0.0</td>\n",
       "      <td>0.0</td>\n",
       "      <td>0.0</td>\n",
       "      <td>0.0</td>\n",
       "      <td>0.0</td>\n",
       "      <td>0.0</td>\n",
       "      <td>0.0</td>\n",
       "      <td>0</td>\n",
       "      <td>0.0</td>\n",
       "      <td>5507.00</td>\n",
       "    </tr>\n",
       "    <tr>\n",
       "      <th>1411</th>\n",
       "      <td>1</td>\n",
       "      <td>2017-01-02</td>\n",
       "      <td>5507.00</td>\n",
       "      <td>0.0</td>\n",
       "      <td>0.0</td>\n",
       "      <td>0.0</td>\n",
       "      <td>0.0</td>\n",
       "      <td>0.0</td>\n",
       "      <td>0.0</td>\n",
       "      <td>0.0</td>\n",
       "      <td>0.0</td>\n",
       "      <td>0.0</td>\n",
       "      <td>0</td>\n",
       "      <td>0.0</td>\n",
       "      <td>5507.00</td>\n",
       "    </tr>\n",
       "    <tr>\n",
       "      <th>25760</th>\n",
       "      <td>1</td>\n",
       "      <td>2017-01-03</td>\n",
       "      <td>5507.00</td>\n",
       "      <td>0.0</td>\n",
       "      <td>0.0</td>\n",
       "      <td>0.0</td>\n",
       "      <td>0.0</td>\n",
       "      <td>0.0</td>\n",
       "      <td>0.0</td>\n",
       "      <td>0.0</td>\n",
       "      <td>0.0</td>\n",
       "      <td>0.0</td>\n",
       "      <td>0</td>\n",
       "      <td>0.0</td>\n",
       "      <td>5507.00</td>\n",
       "    </tr>\n",
       "    <tr>\n",
       "      <th>6741</th>\n",
       "      <td>1</td>\n",
       "      <td>2017-01-04</td>\n",
       "      <td>5507.00</td>\n",
       "      <td>0.0</td>\n",
       "      <td>0.0</td>\n",
       "      <td>0.0</td>\n",
       "      <td>0.0</td>\n",
       "      <td>0.0</td>\n",
       "      <td>0.0</td>\n",
       "      <td>0.0</td>\n",
       "      <td>0.0</td>\n",
       "      <td>0.0</td>\n",
       "      <td>0</td>\n",
       "      <td>0.0</td>\n",
       "      <td>5507.00</td>\n",
       "    </tr>\n",
       "  </tbody>\n",
       "</table>\n",
       "</div>"
      ],
      "text/plain": [
       "       ID FECHA_INFORMACION  SALDO_AHORROS  SALDO_FONDOS  SALDO_CREDITO1  \\\n",
       "14235   1        2016-01-12        6977.26           0.0             0.0   \n",
       "12009   1        2017-01-01        5507.00           0.0             0.0   \n",
       "1411    1        2017-01-02        5507.00           0.0             0.0   \n",
       "25760   1        2017-01-03        5507.00           0.0             0.0   \n",
       "6741    1        2017-01-04        5507.00           0.0             0.0   \n",
       "\n",
       "       SALDO_CREDITO2  SALDO_TARJETA  MONTO_COMPRAS1  MONTO_CAJERO1  \\\n",
       "14235             0.0            0.0             0.0            0.0   \n",
       "12009             0.0            0.0             0.0            0.0   \n",
       "1411              0.0            0.0             0.0            0.0   \n",
       "25760             0.0            0.0             0.0            0.0   \n",
       "6741              0.0            0.0             0.0            0.0   \n",
       "\n",
       "       MONTO_COMPRAS2  MONTO_CAJERO2  MONTO_ABONOS_NOMINA  INDICADOR_MORA  \\\n",
       "14235             0.0            0.0                  0.0               0   \n",
       "12009             0.0            0.0                  0.0               0   \n",
       "1411              0.0            0.0                  0.0               0   \n",
       "25760             0.0            0.0                  0.0               0   \n",
       "6741              0.0            0.0                  0.0               0   \n",
       "\n",
       "       SALDO_ACTIVO  SALDO_PASIVO  \n",
       "14235           0.0       6977.26  \n",
       "12009           0.0       5507.00  \n",
       "1411            0.0       5507.00  \n",
       "25760           0.0       5507.00  \n",
       "6741            0.0       5507.00  "
      ]
     },
     "execution_count": 36,
     "metadata": {},
     "output_type": "execute_result"
    }
   ],
   "source": [
    "#Organizar la base de movimientos por orden ascendente según la variable ID y luego por FECHA INFORMACION\n",
    "df_bm=df_bm.sort_values(by=['ID','FECHA_INFORMACION'])\n",
    "df_bm.head()"
   ]
  },
  {
   "cell_type": "code",
   "execution_count": 37,
   "metadata": {},
   "outputs": [
    {
     "data": {
      "text/html": [
       "<div>\n",
       "<style scoped>\n",
       "    .dataframe tbody tr th:only-of-type {\n",
       "        vertical-align: middle;\n",
       "    }\n",
       "\n",
       "    .dataframe tbody tr th {\n",
       "        vertical-align: top;\n",
       "    }\n",
       "\n",
       "    .dataframe thead th {\n",
       "        text-align: right;\n",
       "    }\n",
       "</style>\n",
       "<table border=\"1\" class=\"dataframe\">\n",
       "  <thead>\n",
       "    <tr style=\"text-align: right;\">\n",
       "      <th></th>\n",
       "      <th>ID</th>\n",
       "      <th>FECHA_INFORMACION</th>\n",
       "      <th>SALDO_AHORROS</th>\n",
       "      <th>SALDO_FONDOS</th>\n",
       "      <th>SALDO_CREDITO1</th>\n",
       "      <th>SALDO_CREDITO2</th>\n",
       "      <th>SALDO_TARJETA</th>\n",
       "      <th>MONTO_COMPRAS1</th>\n",
       "      <th>MONTO_CAJERO1</th>\n",
       "      <th>MONTO_COMPRAS2</th>\n",
       "      <th>MONTO_CAJERO2</th>\n",
       "      <th>MONTO_ABONOS_NOMINA</th>\n",
       "      <th>INDICADOR_MORA</th>\n",
       "      <th>SALDO_ACTIVO</th>\n",
       "      <th>SALDO_PASIVO</th>\n",
       "      <th>FUGA</th>\n",
       "      <th>MES_DE_FUGA</th>\n",
       "    </tr>\n",
       "  </thead>\n",
       "  <tbody>\n",
       "    <tr>\n",
       "      <th>0</th>\n",
       "      <td>1</td>\n",
       "      <td>2016-01-12</td>\n",
       "      <td>6977.26</td>\n",
       "      <td>0.0</td>\n",
       "      <td>0.0</td>\n",
       "      <td>0.0</td>\n",
       "      <td>0.0</td>\n",
       "      <td>0.0</td>\n",
       "      <td>0.0</td>\n",
       "      <td>0.0</td>\n",
       "      <td>0.0</td>\n",
       "      <td>0.0</td>\n",
       "      <td>0</td>\n",
       "      <td>0.0</td>\n",
       "      <td>6977.26</td>\n",
       "      <td>True</td>\n",
       "      <td>2</td>\n",
       "    </tr>\n",
       "    <tr>\n",
       "      <th>1</th>\n",
       "      <td>1</td>\n",
       "      <td>2017-01-01</td>\n",
       "      <td>5507.00</td>\n",
       "      <td>0.0</td>\n",
       "      <td>0.0</td>\n",
       "      <td>0.0</td>\n",
       "      <td>0.0</td>\n",
       "      <td>0.0</td>\n",
       "      <td>0.0</td>\n",
       "      <td>0.0</td>\n",
       "      <td>0.0</td>\n",
       "      <td>0.0</td>\n",
       "      <td>0</td>\n",
       "      <td>0.0</td>\n",
       "      <td>5507.00</td>\n",
       "      <td>True</td>\n",
       "      <td>2</td>\n",
       "    </tr>\n",
       "    <tr>\n",
       "      <th>2</th>\n",
       "      <td>1</td>\n",
       "      <td>2017-01-02</td>\n",
       "      <td>5507.00</td>\n",
       "      <td>0.0</td>\n",
       "      <td>0.0</td>\n",
       "      <td>0.0</td>\n",
       "      <td>0.0</td>\n",
       "      <td>0.0</td>\n",
       "      <td>0.0</td>\n",
       "      <td>0.0</td>\n",
       "      <td>0.0</td>\n",
       "      <td>0.0</td>\n",
       "      <td>0</td>\n",
       "      <td>0.0</td>\n",
       "      <td>5507.00</td>\n",
       "      <td>True</td>\n",
       "      <td>2</td>\n",
       "    </tr>\n",
       "    <tr>\n",
       "      <th>3</th>\n",
       "      <td>1</td>\n",
       "      <td>2017-01-03</td>\n",
       "      <td>5507.00</td>\n",
       "      <td>0.0</td>\n",
       "      <td>0.0</td>\n",
       "      <td>0.0</td>\n",
       "      <td>0.0</td>\n",
       "      <td>0.0</td>\n",
       "      <td>0.0</td>\n",
       "      <td>0.0</td>\n",
       "      <td>0.0</td>\n",
       "      <td>0.0</td>\n",
       "      <td>0</td>\n",
       "      <td>0.0</td>\n",
       "      <td>5507.00</td>\n",
       "      <td>True</td>\n",
       "      <td>2</td>\n",
       "    </tr>\n",
       "    <tr>\n",
       "      <th>4</th>\n",
       "      <td>1</td>\n",
       "      <td>2017-01-04</td>\n",
       "      <td>5507.00</td>\n",
       "      <td>0.0</td>\n",
       "      <td>0.0</td>\n",
       "      <td>0.0</td>\n",
       "      <td>0.0</td>\n",
       "      <td>0.0</td>\n",
       "      <td>0.0</td>\n",
       "      <td>0.0</td>\n",
       "      <td>0.0</td>\n",
       "      <td>0.0</td>\n",
       "      <td>0</td>\n",
       "      <td>0.0</td>\n",
       "      <td>5507.00</td>\n",
       "      <td>True</td>\n",
       "      <td>2</td>\n",
       "    </tr>\n",
       "  </tbody>\n",
       "</table>\n",
       "</div>"
      ],
      "text/plain": [
       "   ID FECHA_INFORMACION  SALDO_AHORROS  SALDO_FONDOS  SALDO_CREDITO1  \\\n",
       "0   1        2016-01-12        6977.26           0.0             0.0   \n",
       "1   1        2017-01-01        5507.00           0.0             0.0   \n",
       "2   1        2017-01-02        5507.00           0.0             0.0   \n",
       "3   1        2017-01-03        5507.00           0.0             0.0   \n",
       "4   1        2017-01-04        5507.00           0.0             0.0   \n",
       "\n",
       "   SALDO_CREDITO2  SALDO_TARJETA  MONTO_COMPRAS1  MONTO_CAJERO1  \\\n",
       "0             0.0            0.0             0.0            0.0   \n",
       "1             0.0            0.0             0.0            0.0   \n",
       "2             0.0            0.0             0.0            0.0   \n",
       "3             0.0            0.0             0.0            0.0   \n",
       "4             0.0            0.0             0.0            0.0   \n",
       "\n",
       "   MONTO_COMPRAS2  MONTO_CAJERO2  MONTO_ABONOS_NOMINA  INDICADOR_MORA  \\\n",
       "0             0.0            0.0                  0.0               0   \n",
       "1             0.0            0.0                  0.0               0   \n",
       "2             0.0            0.0                  0.0               0   \n",
       "3             0.0            0.0                  0.0               0   \n",
       "4             0.0            0.0                  0.0               0   \n",
       "\n",
       "   SALDO_ACTIVO  SALDO_PASIVO  FUGA  MES_DE_FUGA  \n",
       "0           0.0       6977.26  True            2  \n",
       "1           0.0       5507.00  True            2  \n",
       "2           0.0       5507.00  True            2  \n",
       "3           0.0       5507.00  True            2  \n",
       "4           0.0       5507.00  True            2  "
      ]
     },
     "execution_count": 37,
     "metadata": {},
     "output_type": "execute_result"
    }
   ],
   "source": [
    "#Unir las bases id y movimientos en una que mantiene todos los datos de la base de movimientos\n",
    "df_join=pd.merge(df_bm,df_id[['ID','FUGA','MES_DE_FUGA']],on='ID',how='left')\n",
    "df_join.head()"
   ]
  },
  {
   "cell_type": "code",
   "execution_count": 38,
   "metadata": {},
   "outputs": [
    {
     "data": {
      "text/html": [
       "<div>\n",
       "<style scoped>\n",
       "    .dataframe tbody tr th:only-of-type {\n",
       "        vertical-align: middle;\n",
       "    }\n",
       "\n",
       "    .dataframe tbody tr th {\n",
       "        vertical-align: top;\n",
       "    }\n",
       "\n",
       "    .dataframe thead th {\n",
       "        text-align: right;\n",
       "    }\n",
       "</style>\n",
       "<table border=\"1\" class=\"dataframe\">\n",
       "  <thead>\n",
       "    <tr style=\"text-align: right;\">\n",
       "      <th></th>\n",
       "      <th>ID</th>\n",
       "      <th>FECHA_INFORMACION</th>\n",
       "      <th>SALDO_AHORROS</th>\n",
       "      <th>SALDO_FONDOS</th>\n",
       "      <th>SALDO_CREDITO1</th>\n",
       "      <th>SALDO_CREDITO2</th>\n",
       "      <th>SALDO_TARJETA</th>\n",
       "      <th>MONTO_COMPRAS1</th>\n",
       "      <th>MONTO_CAJERO1</th>\n",
       "      <th>MONTO_COMPRAS2</th>\n",
       "      <th>MONTO_CAJERO2</th>\n",
       "      <th>MONTO_ABONOS_NOMINA</th>\n",
       "      <th>INDICADOR_MORA</th>\n",
       "      <th>SALDO_ACTIVO</th>\n",
       "      <th>SALDO_PASIVO</th>\n",
       "      <th>FUGA</th>\n",
       "      <th>MES_DE_FUGA</th>\n",
       "    </tr>\n",
       "  </thead>\n",
       "  <tbody>\n",
       "    <tr>\n",
       "      <th>31435</th>\n",
       "      <td>2499</td>\n",
       "      <td>2017-01-10</td>\n",
       "      <td>7372.0</td>\n",
       "      <td>0.0</td>\n",
       "      <td>0.0</td>\n",
       "      <td>0.0</td>\n",
       "      <td>0.0</td>\n",
       "      <td>0.0</td>\n",
       "      <td>0.0</td>\n",
       "      <td>0.0</td>\n",
       "      <td>0.0</td>\n",
       "      <td>0.0</td>\n",
       "      <td>0</td>\n",
       "      <td>0.0</td>\n",
       "      <td>7372.00</td>\n",
       "      <td>True</td>\n",
       "      <td>3</td>\n",
       "    </tr>\n",
       "    <tr>\n",
       "      <th>31436</th>\n",
       "      <td>2499</td>\n",
       "      <td>2017-01-11</td>\n",
       "      <td>7372.0</td>\n",
       "      <td>0.0</td>\n",
       "      <td>0.0</td>\n",
       "      <td>0.0</td>\n",
       "      <td>0.0</td>\n",
       "      <td>0.0</td>\n",
       "      <td>0.0</td>\n",
       "      <td>0.0</td>\n",
       "      <td>0.0</td>\n",
       "      <td>0.0</td>\n",
       "      <td>0</td>\n",
       "      <td>0.0</td>\n",
       "      <td>7372.00</td>\n",
       "      <td>True</td>\n",
       "      <td>3</td>\n",
       "    </tr>\n",
       "    <tr>\n",
       "      <th>31437</th>\n",
       "      <td>2499</td>\n",
       "      <td>2017-01-12</td>\n",
       "      <td>7372.0</td>\n",
       "      <td>0.0</td>\n",
       "      <td>0.0</td>\n",
       "      <td>0.0</td>\n",
       "      <td>0.0</td>\n",
       "      <td>0.0</td>\n",
       "      <td>0.0</td>\n",
       "      <td>0.0</td>\n",
       "      <td>0.0</td>\n",
       "      <td>0.0</td>\n",
       "      <td>0</td>\n",
       "      <td>0.0</td>\n",
       "      <td>7372.00</td>\n",
       "      <td>True</td>\n",
       "      <td>3</td>\n",
       "    </tr>\n",
       "    <tr>\n",
       "      <th>31438</th>\n",
       "      <td>2500</td>\n",
       "      <td>2016-01-12</td>\n",
       "      <td>7109440.0</td>\n",
       "      <td>0.0</td>\n",
       "      <td>0.0</td>\n",
       "      <td>0.0</td>\n",
       "      <td>0.0</td>\n",
       "      <td>0.0</td>\n",
       "      <td>0.0</td>\n",
       "      <td>0.0</td>\n",
       "      <td>0.0</td>\n",
       "      <td>0.0</td>\n",
       "      <td>0</td>\n",
       "      <td>0.0</td>\n",
       "      <td>7109435.71</td>\n",
       "      <td>True</td>\n",
       "      <td>2</td>\n",
       "    </tr>\n",
       "    <tr>\n",
       "      <th>31439</th>\n",
       "      <td>2500</td>\n",
       "      <td>2017-01-01</td>\n",
       "      <td>4739620.0</td>\n",
       "      <td>0.0</td>\n",
       "      <td>0.0</td>\n",
       "      <td>0.0</td>\n",
       "      <td>0.0</td>\n",
       "      <td>0.0</td>\n",
       "      <td>0.0</td>\n",
       "      <td>0.0</td>\n",
       "      <td>0.0</td>\n",
       "      <td>0.0</td>\n",
       "      <td>0</td>\n",
       "      <td>0.0</td>\n",
       "      <td>4739623.81</td>\n",
       "      <td>True</td>\n",
       "      <td>2</td>\n",
       "    </tr>\n",
       "  </tbody>\n",
       "</table>\n",
       "</div>"
      ],
      "text/plain": [
       "         ID FECHA_INFORMACION  SALDO_AHORROS  SALDO_FONDOS  SALDO_CREDITO1  \\\n",
       "31435  2499        2017-01-10         7372.0           0.0             0.0   \n",
       "31436  2499        2017-01-11         7372.0           0.0             0.0   \n",
       "31437  2499        2017-01-12         7372.0           0.0             0.0   \n",
       "31438  2500        2016-01-12      7109440.0           0.0             0.0   \n",
       "31439  2500        2017-01-01      4739620.0           0.0             0.0   \n",
       "\n",
       "       SALDO_CREDITO2  SALDO_TARJETA  MONTO_COMPRAS1  MONTO_CAJERO1  \\\n",
       "31435             0.0            0.0             0.0            0.0   \n",
       "31436             0.0            0.0             0.0            0.0   \n",
       "31437             0.0            0.0             0.0            0.0   \n",
       "31438             0.0            0.0             0.0            0.0   \n",
       "31439             0.0            0.0             0.0            0.0   \n",
       "\n",
       "       MONTO_COMPRAS2  MONTO_CAJERO2  MONTO_ABONOS_NOMINA  INDICADOR_MORA  \\\n",
       "31435             0.0            0.0                  0.0               0   \n",
       "31436             0.0            0.0                  0.0               0   \n",
       "31437             0.0            0.0                  0.0               0   \n",
       "31438             0.0            0.0                  0.0               0   \n",
       "31439             0.0            0.0                  0.0               0   \n",
       "\n",
       "       SALDO_ACTIVO  SALDO_PASIVO  FUGA  MES_DE_FUGA  \n",
       "31435           0.0       7372.00  True            3  \n",
       "31436           0.0       7372.00  True            3  \n",
       "31437           0.0       7372.00  True            3  \n",
       "31438           0.0    7109435.71  True            2  \n",
       "31439           0.0    4739623.81  True            2  "
      ]
     },
     "execution_count": 38,
     "metadata": {},
     "output_type": "execute_result"
    }
   ],
   "source": [
    "#Verificación de la nueva base de datos\n",
    "df_join.tail()"
   ]
  },
  {
   "cell_type": "code",
   "execution_count": 39,
   "metadata": {},
   "outputs": [],
   "source": [
    "#Promedio abono nomina por trimestre\n",
    "\n",
    "count_row=df_join.shape[0]\n",
    "\n",
    "for i in range(0, count_row):\n",
    "    a=df_join.at[i,'MONTO_ABONOS_NOMINA']\n",
    "    b=df_join.at[i+1,'MONTO_ABONOS_NOMINA']\n",
    "    c=df_join.at[i+2,'MONTO_ABONOS_NOMINA']\n",
    "    prom=(a+b+c)/3\n",
    "    df_join.at[i+2,'PROM_TRIM_ABONOS_NOMINA']=prom\n",
    "    i=i+1\n",
    "    if (i==31438):\n",
    "        break"
   ]
  },
  {
   "cell_type": "code",
   "execution_count": 40,
   "metadata": {},
   "outputs": [],
   "source": [
    "#Eliminar datos de promedio trimestre que no son correctos\n",
    "ids=df_join.groupby('ID').size()\n",
    "\n",
    "for i in range(2,2501):      \n",
    "    countid=ids.at[i,]\n",
    "    j=np.where(df_join[\"ID\"] == i)[0]\n",
    "    k=j[0]\n",
    "    df_join.at[k,'PROM_TRIM_ABONOS_NOMINA']=0.0\n",
    "    df_join.at[k+1,'PROM_TRIM_ABONOS_NOMINA']=0.0\n",
    "    i=i+1\n",
    "    if i>2501:\n",
    "        break"
   ]
  },
  {
   "cell_type": "code",
   "execution_count": 41,
   "metadata": {
    "scrolled": true
   },
   "outputs": [],
   "source": [
    "#Promedio saldo ahorros\n",
    "\n",
    "count_row=df_join.shape[0]\n",
    "\n",
    "for i in range(0, count_row):\n",
    "    a=df_join.at[i,'SALDO_AHORROS']\n",
    "    b=df_join.at[i+1,'SALDO_AHORROS']\n",
    "    c=df_join.at[i+2,'SALDO_AHORROS']\n",
    "    prom=(a+b+c)/3\n",
    "    df_join.at[i+2,'PROM_TRIM_SALDO_AHORROS']=prom\n",
    "    i=i+1\n",
    "    if (i==31438):\n",
    "        break"
   ]
  },
  {
   "cell_type": "code",
   "execution_count": 42,
   "metadata": {},
   "outputs": [],
   "source": [
    "#Eliminar datos de promedio trimestre que no son correctos\n",
    "ids=df_join.groupby('ID').size()\n",
    "\n",
    "for i in range(2,2501):      \n",
    "    countid=ids.at[i,]\n",
    "    j=np.where(df_join[\"ID\"] == i)[0]\n",
    "    k=j[0]\n",
    "    df_join.at[k,'PROM_TRIM_SALDO_AHORROS']=0.0\n",
    "    df_join.at[k+1,'PROM_TRIM_SALDO_AHORROS']=0.0\n",
    "    i=i+1\n",
    "    if i>2501:\n",
    "        break"
   ]
  },
  {
   "cell_type": "code",
   "execution_count": 43,
   "metadata": {},
   "outputs": [],
   "source": [
    "#Promedio saldo credito\n",
    "\n",
    "count_row=df_join.shape[0]\n",
    "\n",
    "for i in range(0, count_row):\n",
    "    a=df_join.at[i,'SALDO_CREDITO1']\n",
    "    b=df_join.at[i+1,'SALDO_CREDITO1']\n",
    "    c=df_join.at[i+2,'SALDO_CREDITO1']\n",
    "    d=df_join.at[i,'SALDO_CREDITO2']\n",
    "    e=df_join.at[i+1,'SALDO_CREDITO2']\n",
    "    f=df_join.at[i+2,'SALDO_CREDITO2']\n",
    "    prom=(a+b+c+d+e+f)/6\n",
    "    df_join.at[i+2,'PROM_TRIM_SALDO_CREDITO']=prom\n",
    "    i=i+1\n",
    "    if (i==31438):\n",
    "        break"
   ]
  },
  {
   "cell_type": "code",
   "execution_count": 44,
   "metadata": {},
   "outputs": [],
   "source": [
    "#Eliminar datos de promedio trimestre que no son correctos\n",
    "ids=df_join.groupby('ID').size()\n",
    "\n",
    "for i in range(2,2501):      \n",
    "    countid=ids.at[i,]\n",
    "    j=np.where(df_join[\"ID\"] == i)[0]\n",
    "    k=j[0]\n",
    "    df_join.at[k,'PROM_TRIM_SALDO_CREDITO']=0.0\n",
    "    df_join.at[k+1,'PROM_TRIM_SALDO_CREDITO']=0.0\n",
    "    i=i+1\n",
    "    if i>2501:\n",
    "        break"
   ]
  },
  {
   "cell_type": "code",
   "execution_count": 45,
   "metadata": {},
   "outputs": [
    {
     "data": {
      "text/html": [
       "<div>\n",
       "<style scoped>\n",
       "    .dataframe tbody tr th:only-of-type {\n",
       "        vertical-align: middle;\n",
       "    }\n",
       "\n",
       "    .dataframe tbody tr th {\n",
       "        vertical-align: top;\n",
       "    }\n",
       "\n",
       "    .dataframe thead th {\n",
       "        text-align: right;\n",
       "    }\n",
       "</style>\n",
       "<table border=\"1\" class=\"dataframe\">\n",
       "  <thead>\n",
       "    <tr style=\"text-align: right;\">\n",
       "      <th></th>\n",
       "      <th>ID</th>\n",
       "      <th>FECHA_INFORMACION</th>\n",
       "      <th>SALDO_AHORROS</th>\n",
       "      <th>SALDO_FONDOS</th>\n",
       "      <th>SALDO_CREDITO1</th>\n",
       "      <th>SALDO_CREDITO2</th>\n",
       "      <th>SALDO_TARJETA</th>\n",
       "      <th>MONTO_COMPRAS1</th>\n",
       "      <th>MONTO_CAJERO1</th>\n",
       "      <th>MONTO_COMPRAS2</th>\n",
       "      <th>MONTO_CAJERO2</th>\n",
       "      <th>MONTO_ABONOS_NOMINA</th>\n",
       "      <th>INDICADOR_MORA</th>\n",
       "      <th>SALDO_ACTIVO</th>\n",
       "      <th>SALDO_PASIVO</th>\n",
       "      <th>FUGA</th>\n",
       "      <th>MES_DE_FUGA</th>\n",
       "      <th>PROM_TRIM_ABONOS_NOMINA</th>\n",
       "      <th>PROM_TRIM_SALDO_AHORROS</th>\n",
       "      <th>PROM_TRIM_SALDO_CREDITO</th>\n",
       "    </tr>\n",
       "  </thead>\n",
       "  <tbody>\n",
       "    <tr>\n",
       "      <th>0</th>\n",
       "      <td>1</td>\n",
       "      <td>2016-01-12</td>\n",
       "      <td>6977.26</td>\n",
       "      <td>0.0</td>\n",
       "      <td>0.0</td>\n",
       "      <td>0.0</td>\n",
       "      <td>0.0</td>\n",
       "      <td>0.0</td>\n",
       "      <td>0.0</td>\n",
       "      <td>0.0</td>\n",
       "      <td>0.0</td>\n",
       "      <td>0.0</td>\n",
       "      <td>0</td>\n",
       "      <td>0.0</td>\n",
       "      <td>6977.26</td>\n",
       "      <td>True</td>\n",
       "      <td>2</td>\n",
       "      <td>NaN</td>\n",
       "      <td>NaN</td>\n",
       "      <td>NaN</td>\n",
       "    </tr>\n",
       "    <tr>\n",
       "      <th>1</th>\n",
       "      <td>1</td>\n",
       "      <td>2017-01-01</td>\n",
       "      <td>5507.00</td>\n",
       "      <td>0.0</td>\n",
       "      <td>0.0</td>\n",
       "      <td>0.0</td>\n",
       "      <td>0.0</td>\n",
       "      <td>0.0</td>\n",
       "      <td>0.0</td>\n",
       "      <td>0.0</td>\n",
       "      <td>0.0</td>\n",
       "      <td>0.0</td>\n",
       "      <td>0</td>\n",
       "      <td>0.0</td>\n",
       "      <td>5507.00</td>\n",
       "      <td>True</td>\n",
       "      <td>2</td>\n",
       "      <td>NaN</td>\n",
       "      <td>NaN</td>\n",
       "      <td>NaN</td>\n",
       "    </tr>\n",
       "    <tr>\n",
       "      <th>2</th>\n",
       "      <td>1</td>\n",
       "      <td>2017-01-02</td>\n",
       "      <td>5507.00</td>\n",
       "      <td>0.0</td>\n",
       "      <td>0.0</td>\n",
       "      <td>0.0</td>\n",
       "      <td>0.0</td>\n",
       "      <td>0.0</td>\n",
       "      <td>0.0</td>\n",
       "      <td>0.0</td>\n",
       "      <td>0.0</td>\n",
       "      <td>0.0</td>\n",
       "      <td>0</td>\n",
       "      <td>0.0</td>\n",
       "      <td>5507.00</td>\n",
       "      <td>True</td>\n",
       "      <td>2</td>\n",
       "      <td>0.0</td>\n",
       "      <td>5997.086667</td>\n",
       "      <td>0.0</td>\n",
       "    </tr>\n",
       "    <tr>\n",
       "      <th>3</th>\n",
       "      <td>1</td>\n",
       "      <td>2017-01-03</td>\n",
       "      <td>5507.00</td>\n",
       "      <td>0.0</td>\n",
       "      <td>0.0</td>\n",
       "      <td>0.0</td>\n",
       "      <td>0.0</td>\n",
       "      <td>0.0</td>\n",
       "      <td>0.0</td>\n",
       "      <td>0.0</td>\n",
       "      <td>0.0</td>\n",
       "      <td>0.0</td>\n",
       "      <td>0</td>\n",
       "      <td>0.0</td>\n",
       "      <td>5507.00</td>\n",
       "      <td>True</td>\n",
       "      <td>2</td>\n",
       "      <td>0.0</td>\n",
       "      <td>5507.000000</td>\n",
       "      <td>0.0</td>\n",
       "    </tr>\n",
       "    <tr>\n",
       "      <th>4</th>\n",
       "      <td>1</td>\n",
       "      <td>2017-01-04</td>\n",
       "      <td>5507.00</td>\n",
       "      <td>0.0</td>\n",
       "      <td>0.0</td>\n",
       "      <td>0.0</td>\n",
       "      <td>0.0</td>\n",
       "      <td>0.0</td>\n",
       "      <td>0.0</td>\n",
       "      <td>0.0</td>\n",
       "      <td>0.0</td>\n",
       "      <td>0.0</td>\n",
       "      <td>0</td>\n",
       "      <td>0.0</td>\n",
       "      <td>5507.00</td>\n",
       "      <td>True</td>\n",
       "      <td>2</td>\n",
       "      <td>0.0</td>\n",
       "      <td>5507.000000</td>\n",
       "      <td>0.0</td>\n",
       "    </tr>\n",
       "  </tbody>\n",
       "</table>\n",
       "</div>"
      ],
      "text/plain": [
       "   ID FECHA_INFORMACION  SALDO_AHORROS  SALDO_FONDOS  SALDO_CREDITO1  \\\n",
       "0   1        2016-01-12        6977.26           0.0             0.0   \n",
       "1   1        2017-01-01        5507.00           0.0             0.0   \n",
       "2   1        2017-01-02        5507.00           0.0             0.0   \n",
       "3   1        2017-01-03        5507.00           0.0             0.0   \n",
       "4   1        2017-01-04        5507.00           0.0             0.0   \n",
       "\n",
       "   SALDO_CREDITO2  SALDO_TARJETA  MONTO_COMPRAS1  MONTO_CAJERO1  \\\n",
       "0             0.0            0.0             0.0            0.0   \n",
       "1             0.0            0.0             0.0            0.0   \n",
       "2             0.0            0.0             0.0            0.0   \n",
       "3             0.0            0.0             0.0            0.0   \n",
       "4             0.0            0.0             0.0            0.0   \n",
       "\n",
       "   MONTO_COMPRAS2  MONTO_CAJERO2  MONTO_ABONOS_NOMINA  INDICADOR_MORA  \\\n",
       "0             0.0            0.0                  0.0               0   \n",
       "1             0.0            0.0                  0.0               0   \n",
       "2             0.0            0.0                  0.0               0   \n",
       "3             0.0            0.0                  0.0               0   \n",
       "4             0.0            0.0                  0.0               0   \n",
       "\n",
       "   SALDO_ACTIVO  SALDO_PASIVO  FUGA  MES_DE_FUGA  PROM_TRIM_ABONOS_NOMINA  \\\n",
       "0           0.0       6977.26  True            2                      NaN   \n",
       "1           0.0       5507.00  True            2                      NaN   \n",
       "2           0.0       5507.00  True            2                      0.0   \n",
       "3           0.0       5507.00  True            2                      0.0   \n",
       "4           0.0       5507.00  True            2                      0.0   \n",
       "\n",
       "   PROM_TRIM_SALDO_AHORROS  PROM_TRIM_SALDO_CREDITO  \n",
       "0                      NaN                      NaN  \n",
       "1                      NaN                      NaN  \n",
       "2              5997.086667                      0.0  \n",
       "3              5507.000000                      0.0  \n",
       "4              5507.000000                      0.0  "
      ]
     },
     "execution_count": 45,
     "metadata": {},
     "output_type": "execute_result"
    }
   ],
   "source": [
    "#Verificación\n",
    "df_join.head()"
   ]
  },
  {
   "cell_type": "code",
   "execution_count": 46,
   "metadata": {},
   "outputs": [],
   "source": [
    "#Generar promedio de saldos y abono nomina para los trimestres corridos\n",
    "for i in range(0,2500):\n",
    "    j=np.where(df_join[\"ID\"] == i+1)[0]\n",
    "    y=tuple(j)\n",
    "    df_i=df_join.loc[y,['ID','PROM_TRIM_ABONOS_NOMINA','PROM_TRIM_SALDO_AHORROS','PROM_TRIM_SALDO_CREDITO']]\n",
    "    df_id.at[i,'PROM_TA_ABONO_NOMINA']=df_i[\"PROM_TRIM_ABONOS_NOMINA\"].mean()\n",
    "    df_id.at[i,'PROM_TA_SALDO_AHORROS']=df_i[\"PROM_TRIM_SALDO_AHORROS\"].mean()\n",
    "    df_id.at[i,'PROM_TA_SALDO_CREDITO']=df_i[\"PROM_TRIM_SALDO_CREDITO\"].mean()\n",
    "    i=i+1\n",
    "    if i>2501:\n",
    "        break"
   ]
  },
  {
   "cell_type": "code",
   "execution_count": 47,
   "metadata": {},
   "outputs": [],
   "source": [
    "#Generar edad de los clientes\n",
    "date='2017-12-01'\n",
    "date=pd.to_datetime(date)\n",
    "for i in range(0,2500):\n",
    "    df_id.loc[i,'EDAD']= (date- df_id.at[i,'FECHA_NACIMIENTO']) / 365\n",
    "    i=i+1\n",
    "    if i>2501:\n",
    "        break"
   ]
  },
  {
   "cell_type": "code",
   "execution_count": 48,
   "metadata": {},
   "outputs": [],
   "source": [
    "df_id['EDAD']=df_id['EDAD'].dt.days"
   ]
  },
  {
   "cell_type": "code",
   "execution_count": 49,
   "metadata": {},
   "outputs": [],
   "source": [
    "#Generar tiempo de alta de los clientes\n",
    "date='2017-12-01'\n",
    "date=pd.to_datetime(date)\n",
    "for i in range(0,2500):\n",
    "    df_id.loc[i,'TIEMPO_ALTA']= (date- df_id.at[i,'FECHA_ALTA']) / 365\n",
    "    i=i+1\n",
    "    if i>2501:\n",
    "        break"
   ]
  },
  {
   "cell_type": "code",
   "execution_count": 50,
   "metadata": {},
   "outputs": [],
   "source": [
    "df_id['TIEMPO_ALTA']=df_id['TIEMPO_ALTA'].dt.days"
   ]
  },
  {
   "cell_type": "markdown",
   "metadata": {},
   "source": [
    "<b>7. Modelling</b>\n",
    "\n",
    "Estudiar los datos de manera predictiva y descriptiva"
   ]
  },
  {
   "cell_type": "code",
   "execution_count": 51,
   "metadata": {},
   "outputs": [
    {
     "name": "stdout",
     "output_type": "stream",
     "text": [
      "FUGA\n",
      "False    1778\n",
      "True      722\n",
      "dtype: int64\n"
     ]
    }
   ],
   "source": [
    "#Cantidad de datos de cada tipo\n",
    "print(df_id.groupby('FUGA').size())"
   ]
  },
  {
   "cell_type": "code",
   "execution_count": 52,
   "metadata": {
    "scrolled": true
   },
   "outputs": [
    {
     "data": {
      "text/html": [
       "<div>\n",
       "<style scoped>\n",
       "    .dataframe tbody tr th:only-of-type {\n",
       "        vertical-align: middle;\n",
       "    }\n",
       "\n",
       "    .dataframe tbody tr th {\n",
       "        vertical-align: top;\n",
       "    }\n",
       "\n",
       "    .dataframe thead th {\n",
       "        text-align: right;\n",
       "    }\n",
       "</style>\n",
       "<table border=\"1\" class=\"dataframe\">\n",
       "  <thead>\n",
       "    <tr style=\"text-align: right;\">\n",
       "      <th></th>\n",
       "      <th>ID</th>\n",
       "      <th>FUGA</th>\n",
       "      <th>MES_DE_FUGA</th>\n",
       "      <th>PROM_TA_ABONO_NOMINA</th>\n",
       "      <th>PROM_TA_SALDO_AHORROS</th>\n",
       "      <th>PROM_TA_SALDO_CREDITO</th>\n",
       "      <th>EDAD</th>\n",
       "      <th>TIEMPO_ALTA</th>\n",
       "    </tr>\n",
       "  </thead>\n",
       "  <tbody>\n",
       "    <tr>\n",
       "      <th>ID</th>\n",
       "      <td>1.000000</td>\n",
       "      <td>0.142285</td>\n",
       "      <td>0.099672</td>\n",
       "      <td>-0.028521</td>\n",
       "      <td>-0.099432</td>\n",
       "      <td>0.025774</td>\n",
       "      <td>-0.520672</td>\n",
       "      <td>-0.947423</td>\n",
       "    </tr>\n",
       "    <tr>\n",
       "      <th>FUGA</th>\n",
       "      <td>0.142285</td>\n",
       "      <td>1.000000</td>\n",
       "      <td>0.823197</td>\n",
       "      <td>-0.295599</td>\n",
       "      <td>-0.169349</td>\n",
       "      <td>-0.209453</td>\n",
       "      <td>-0.168076</td>\n",
       "      <td>-0.128397</td>\n",
       "    </tr>\n",
       "    <tr>\n",
       "      <th>MES_DE_FUGA</th>\n",
       "      <td>0.099672</td>\n",
       "      <td>0.823197</td>\n",
       "      <td>1.000000</td>\n",
       "      <td>-0.190702</td>\n",
       "      <td>-0.112726</td>\n",
       "      <td>-0.150868</td>\n",
       "      <td>-0.122133</td>\n",
       "      <td>-0.090765</td>\n",
       "    </tr>\n",
       "    <tr>\n",
       "      <th>PROM_TA_ABONO_NOMINA</th>\n",
       "      <td>-0.028521</td>\n",
       "      <td>-0.295599</td>\n",
       "      <td>-0.190702</td>\n",
       "      <td>1.000000</td>\n",
       "      <td>0.076615</td>\n",
       "      <td>-0.134607</td>\n",
       "      <td>0.020473</td>\n",
       "      <td>0.008089</td>\n",
       "    </tr>\n",
       "    <tr>\n",
       "      <th>PROM_TA_SALDO_AHORROS</th>\n",
       "      <td>-0.099432</td>\n",
       "      <td>-0.169349</td>\n",
       "      <td>-0.112726</td>\n",
       "      <td>0.076615</td>\n",
       "      <td>1.000000</td>\n",
       "      <td>-0.130308</td>\n",
       "      <td>0.104551</td>\n",
       "      <td>0.097354</td>\n",
       "    </tr>\n",
       "    <tr>\n",
       "      <th>PROM_TA_SALDO_CREDITO</th>\n",
       "      <td>0.025774</td>\n",
       "      <td>-0.209453</td>\n",
       "      <td>-0.150868</td>\n",
       "      <td>-0.134607</td>\n",
       "      <td>-0.130308</td>\n",
       "      <td>1.000000</td>\n",
       "      <td>0.026978</td>\n",
       "      <td>-0.022079</td>\n",
       "    </tr>\n",
       "    <tr>\n",
       "      <th>EDAD</th>\n",
       "      <td>-0.520672</td>\n",
       "      <td>-0.168076</td>\n",
       "      <td>-0.122133</td>\n",
       "      <td>0.020473</td>\n",
       "      <td>0.104551</td>\n",
       "      <td>0.026978</td>\n",
       "      <td>1.000000</td>\n",
       "      <td>0.524779</td>\n",
       "    </tr>\n",
       "    <tr>\n",
       "      <th>TIEMPO_ALTA</th>\n",
       "      <td>-0.947423</td>\n",
       "      <td>-0.128397</td>\n",
       "      <td>-0.090765</td>\n",
       "      <td>0.008089</td>\n",
       "      <td>0.097354</td>\n",
       "      <td>-0.022079</td>\n",
       "      <td>0.524779</td>\n",
       "      <td>1.000000</td>\n",
       "    </tr>\n",
       "  </tbody>\n",
       "</table>\n",
       "</div>"
      ],
      "text/plain": [
       "                             ID      FUGA  MES_DE_FUGA  PROM_TA_ABONO_NOMINA  \\\n",
       "ID                     1.000000  0.142285     0.099672             -0.028521   \n",
       "FUGA                   0.142285  1.000000     0.823197             -0.295599   \n",
       "MES_DE_FUGA            0.099672  0.823197     1.000000             -0.190702   \n",
       "PROM_TA_ABONO_NOMINA  -0.028521 -0.295599    -0.190702              1.000000   \n",
       "PROM_TA_SALDO_AHORROS -0.099432 -0.169349    -0.112726              0.076615   \n",
       "PROM_TA_SALDO_CREDITO  0.025774 -0.209453    -0.150868             -0.134607   \n",
       "EDAD                  -0.520672 -0.168076    -0.122133              0.020473   \n",
       "TIEMPO_ALTA           -0.947423 -0.128397    -0.090765              0.008089   \n",
       "\n",
       "                       PROM_TA_SALDO_AHORROS  PROM_TA_SALDO_CREDITO      EDAD  \\\n",
       "ID                                 -0.099432               0.025774 -0.520672   \n",
       "FUGA                               -0.169349              -0.209453 -0.168076   \n",
       "MES_DE_FUGA                        -0.112726              -0.150868 -0.122133   \n",
       "PROM_TA_ABONO_NOMINA                0.076615              -0.134607  0.020473   \n",
       "PROM_TA_SALDO_AHORROS               1.000000              -0.130308  0.104551   \n",
       "PROM_TA_SALDO_CREDITO              -0.130308               1.000000  0.026978   \n",
       "EDAD                                0.104551               0.026978  1.000000   \n",
       "TIEMPO_ALTA                         0.097354              -0.022079  0.524779   \n",
       "\n",
       "                       TIEMPO_ALTA  \n",
       "ID                       -0.947423  \n",
       "FUGA                     -0.128397  \n",
       "MES_DE_FUGA              -0.090765  \n",
       "PROM_TA_ABONO_NOMINA      0.008089  \n",
       "PROM_TA_SALDO_AHORROS     0.097354  \n",
       "PROM_TA_SALDO_CREDITO    -0.022079  \n",
       "EDAD                      0.524779  \n",
       "TIEMPO_ALTA               1.000000  "
      ]
     },
     "execution_count": 52,
     "metadata": {},
     "output_type": "execute_result"
    }
   ],
   "source": [
    "#Identificar correlaciones de la base id\n",
    "df_id.corr()"
   ]
  },
  {
   "cell_type": "code",
   "execution_count": 53,
   "metadata": {},
   "outputs": [
    {
     "data": {
      "text/plain": [
       "<matplotlib.axes._subplots.AxesSubplot at 0x249742256a0>"
      ]
     },
     "execution_count": 53,
     "metadata": {},
     "output_type": "execute_result"
    },
    {
     "data": {
      "image/png": "[encoded data removed]",
      "text/plain": [
       "<Figure size 432x288 with 2 Axes>"
      ]
     },
     "metadata": {
      "needs_background": "light"
     },
     "output_type": "display_data"
    }
   ],
   "source": [
    "#Identificar correlaciones de la base id mediante un heatmap\n",
    "sns.heatmap(df_id.corr(), square=True, annot=True)"
   ]
  },
  {
   "cell_type": "code",
   "execution_count": 55,
   "metadata": {},
   "outputs": [
    {
     "data": {
      "image/png": "[encoded data removed]",
      "text/plain": [
       "<Figure size 864x576 with 9 Axes>"
      ]
     },
     "metadata": {
      "needs_background": "light"
     },
     "output_type": "display_data"
    }
   ],
   "source": [
    "#Histograma de las variables\n",
    "df_id.drop(['FUGA'],1).hist(figsize=(12, 8))\n",
    "plt.show()"
   ]
  },
  {
   "cell_type": "code",
   "execution_count": 56,
   "metadata": {},
   "outputs": [
    {
     "data": {
      "text/plain": [
       "FEMENINO     1250\n",
       "MASCULINO    1250\n",
       "Name: SEXO, dtype: int64"
      ]
     },
     "execution_count": 56,
     "metadata": {},
     "output_type": "execute_result"
    }
   ],
   "source": [
    "#Frecuencias según la variable SEXO\n",
    "df_id['SEXO'].value_counts()"
   ]
  },
  {
   "cell_type": "code",
   "execution_count": 57,
   "metadata": {},
   "outputs": [
    {
     "data": {
      "text/plain": [
       "Text(0, 0.5, '')"
      ]
     },
     "execution_count": 57,
     "metadata": {},
     "output_type": "execute_result"
    },
    {
     "data": {
      "image/png": "[encoded data removed]",
      "text/plain": [
       "<Figure size 432x432 with 1 Axes>"
      ]
     },
     "metadata": {},
     "output_type": "display_data"
    }
   ],
   "source": [
    "#Diagrama de pastel de la variable ESTADO CVIL\n",
    "df_id['ESTADO_CIVIL'].value_counts().plot(kind='pie', autopct='%.2f', figsize=(6, 6))\n",
    "plt.title('ESTADO CIVIL')\n",
    "plt.ylabel('')"
   ]
  },
  {
   "cell_type": "code",
   "execution_count": 58,
   "metadata": {},
   "outputs": [
    {
     "data": {
      "text/plain": [
       "SOLTERO        1032\n",
       "CASADO          799\n",
       "UNION LIBRE     391\n",
       "VIUDO           137\n",
       "SEPARADO         92\n",
       "DIVORCIADO       31\n",
       "Name: ESTADO_CIVIL, dtype: int64"
      ]
     },
     "execution_count": 58,
     "metadata": {},
     "output_type": "execute_result"
    }
   ],
   "source": [
    "#Frecuencias según la variable ESTADO CIVIL\n",
    "df_id['ESTADO_CIVIL'].value_counts()"
   ]
  },
  {
   "cell_type": "code",
   "execution_count": 59,
   "metadata": {},
   "outputs": [
    {
     "data": {
      "text/plain": [
       "Text(0, 0.5, '')"
      ]
     },
     "execution_count": 59,
     "metadata": {},
     "output_type": "execute_result"
    },
    {
     "data": {
      "image/png": "[encoded data removed]",
      "text/plain": [
       "<Figure size 432x432 with 1 Axes>"
      ]
     },
     "metadata": {},
     "output_type": "display_data"
    }
   ],
   "source": [
    "#Diagrama de pastel de la variable SITUACION LABORAL\n",
    "df_id['SITUACION_LABORAL'].value_counts().plot(kind='pie', autopct='%.2f', figsize=(6, 6))\n",
    "plt.title('ESTADO CIVIL')\n",
    "plt.ylabel('')"
   ]
  },
  {
   "cell_type": "code",
   "execution_count": 60,
   "metadata": {},
   "outputs": [
    {
     "data": {
      "text/plain": [
       "CONTRATO FIJO        1065\n",
       "OTROS                 732\n",
       "CONTRATO TEMPORAL     438\n",
       "CONTRATO AUTONOMO     183\n",
       "SIN CLASIFICAR         42\n",
       "DESCONOCIDO            40\n",
       "Name: SITUACION_LABORAL, dtype: int64"
      ]
     },
     "execution_count": 60,
     "metadata": {},
     "output_type": "execute_result"
    }
   ],
   "source": [
    "#Frecuencias según la variable SITUACION LABORAL\n",
    "df_id['SITUACION_LABORAL'].value_counts()"
   ]
  },
  {
   "cell_type": "code",
   "execution_count": 61,
   "metadata": {},
   "outputs": [
    {
     "data": {
      "text/html": [
       "<div>\n",
       "<style scoped>\n",
       "    .dataframe tbody tr th:only-of-type {\n",
       "        vertical-align: middle;\n",
       "    }\n",
       "\n",
       "    .dataframe tbody tr th {\n",
       "        vertical-align: top;\n",
       "    }\n",
       "\n",
       "    .dataframe thead th {\n",
       "        text-align: right;\n",
       "    }\n",
       "</style>\n",
       "<table border=\"1\" class=\"dataframe\">\n",
       "  <thead>\n",
       "    <tr style=\"text-align: right;\">\n",
       "      <th>SEXO</th>\n",
       "      <th>FEMENINO</th>\n",
       "      <th>MASCULINO</th>\n",
       "      <th>All</th>\n",
       "    </tr>\n",
       "    <tr>\n",
       "      <th>FUGA</th>\n",
       "      <th></th>\n",
       "      <th></th>\n",
       "      <th></th>\n",
       "    </tr>\n",
       "  </thead>\n",
       "  <tbody>\n",
       "    <tr>\n",
       "      <th>False</th>\n",
       "      <td>903</td>\n",
       "      <td>875</td>\n",
       "      <td>1778</td>\n",
       "    </tr>\n",
       "    <tr>\n",
       "      <th>True</th>\n",
       "      <td>347</td>\n",
       "      <td>375</td>\n",
       "      <td>722</td>\n",
       "    </tr>\n",
       "    <tr>\n",
       "      <th>All</th>\n",
       "      <td>1250</td>\n",
       "      <td>1250</td>\n",
       "      <td>2500</td>\n",
       "    </tr>\n",
       "  </tbody>\n",
       "</table>\n",
       "</div>"
      ],
      "text/plain": [
       "SEXO   FEMENINO  MASCULINO   All\n",
       "FUGA                            \n",
       "False       903        875  1778\n",
       "True        347        375   722\n",
       "All        1250       1250  2500"
      ]
     },
     "execution_count": 61,
     "metadata": {},
     "output_type": "execute_result"
    }
   ],
   "source": [
    "#Tabla de contingencia entre FUGA y SEXO\n",
    "df_sexo=pd.crosstab(index=df_id['FUGA'],\n",
    "            columns=df_id['SEXO'], margins=True)\n",
    "df_sexo"
   ]
  },
  {
   "cell_type": "code",
   "execution_count": 62,
   "metadata": {},
   "outputs": [
    {
     "data": {
      "text/html": [
       "<div>\n",
       "<style scoped>\n",
       "    .dataframe tbody tr th:only-of-type {\n",
       "        vertical-align: middle;\n",
       "    }\n",
       "\n",
       "    .dataframe tbody tr th {\n",
       "        vertical-align: top;\n",
       "    }\n",
       "\n",
       "    .dataframe thead th {\n",
       "        text-align: right;\n",
       "    }\n",
       "</style>\n",
       "<table border=\"1\" class=\"dataframe\">\n",
       "  <thead>\n",
       "    <tr style=\"text-align: right;\">\n",
       "      <th>ESTADO_CIVIL</th>\n",
       "      <th>CASADO</th>\n",
       "      <th>DIVORCIADO</th>\n",
       "      <th>SEPARADO</th>\n",
       "      <th>SOLTERO</th>\n",
       "      <th>UNION LIBRE</th>\n",
       "      <th>VIUDO</th>\n",
       "      <th>All</th>\n",
       "    </tr>\n",
       "    <tr>\n",
       "      <th>FUGA</th>\n",
       "      <th></th>\n",
       "      <th></th>\n",
       "      <th></th>\n",
       "      <th></th>\n",
       "      <th></th>\n",
       "      <th></th>\n",
       "      <th></th>\n",
       "    </tr>\n",
       "  </thead>\n",
       "  <tbody>\n",
       "    <tr>\n",
       "      <th>False</th>\n",
       "      <td>604</td>\n",
       "      <td>21</td>\n",
       "      <td>70</td>\n",
       "      <td>688</td>\n",
       "      <td>267</td>\n",
       "      <td>111</td>\n",
       "      <td>1761</td>\n",
       "    </tr>\n",
       "    <tr>\n",
       "      <th>True</th>\n",
       "      <td>195</td>\n",
       "      <td>10</td>\n",
       "      <td>22</td>\n",
       "      <td>344</td>\n",
       "      <td>124</td>\n",
       "      <td>26</td>\n",
       "      <td>721</td>\n",
       "    </tr>\n",
       "    <tr>\n",
       "      <th>All</th>\n",
       "      <td>799</td>\n",
       "      <td>31</td>\n",
       "      <td>92</td>\n",
       "      <td>1032</td>\n",
       "      <td>391</td>\n",
       "      <td>137</td>\n",
       "      <td>2482</td>\n",
       "    </tr>\n",
       "  </tbody>\n",
       "</table>\n",
       "</div>"
      ],
      "text/plain": [
       "ESTADO_CIVIL  CASADO  DIVORCIADO  SEPARADO  SOLTERO  UNION LIBRE  VIUDO   All\n",
       "FUGA                                                                         \n",
       "False            604          21        70      688          267    111  1761\n",
       "True             195          10        22      344          124     26   721\n",
       "All              799          31        92     1032          391    137  2482"
      ]
     },
     "execution_count": 62,
     "metadata": {},
     "output_type": "execute_result"
    }
   ],
   "source": [
    "#Tabla de contingencia entre FUGA y ESTADO CIVIL\n",
    "df_civil=pd.crosstab(index=df_id['FUGA'],\n",
    "            columns=df_id['ESTADO_CIVIL'], margins=True)\n",
    "df_civil"
   ]
  },
  {
   "cell_type": "code",
   "execution_count": 63,
   "metadata": {},
   "outputs": [
    {
     "data": {
      "text/html": [
       "<div>\n",
       "<style scoped>\n",
       "    .dataframe tbody tr th:only-of-type {\n",
       "        vertical-align: middle;\n",
       "    }\n",
       "\n",
       "    .dataframe tbody tr th {\n",
       "        vertical-align: top;\n",
       "    }\n",
       "\n",
       "    .dataframe thead th {\n",
       "        text-align: right;\n",
       "    }\n",
       "</style>\n",
       "<table border=\"1\" class=\"dataframe\">\n",
       "  <thead>\n",
       "    <tr style=\"text-align: right;\">\n",
       "      <th>SITUACION_LABORAL</th>\n",
       "      <th>CONTRATO AUTONOMO</th>\n",
       "      <th>CONTRATO FIJO</th>\n",
       "      <th>CONTRATO TEMPORAL</th>\n",
       "      <th>DESCONOCIDO</th>\n",
       "      <th>OTROS</th>\n",
       "      <th>SIN CLASIFICAR</th>\n",
       "      <th>All</th>\n",
       "    </tr>\n",
       "    <tr>\n",
       "      <th>FUGA</th>\n",
       "      <th></th>\n",
       "      <th></th>\n",
       "      <th></th>\n",
       "      <th></th>\n",
       "      <th></th>\n",
       "      <th></th>\n",
       "      <th></th>\n",
       "    </tr>\n",
       "  </thead>\n",
       "  <tbody>\n",
       "    <tr>\n",
       "      <th>False</th>\n",
       "      <td>120</td>\n",
       "      <td>726</td>\n",
       "      <td>262</td>\n",
       "      <td>32</td>\n",
       "      <td>600</td>\n",
       "      <td>38</td>\n",
       "      <td>1778</td>\n",
       "    </tr>\n",
       "    <tr>\n",
       "      <th>True</th>\n",
       "      <td>63</td>\n",
       "      <td>339</td>\n",
       "      <td>176</td>\n",
       "      <td>8</td>\n",
       "      <td>132</td>\n",
       "      <td>4</td>\n",
       "      <td>722</td>\n",
       "    </tr>\n",
       "    <tr>\n",
       "      <th>All</th>\n",
       "      <td>183</td>\n",
       "      <td>1065</td>\n",
       "      <td>438</td>\n",
       "      <td>40</td>\n",
       "      <td>732</td>\n",
       "      <td>42</td>\n",
       "      <td>2500</td>\n",
       "    </tr>\n",
       "  </tbody>\n",
       "</table>\n",
       "</div>"
      ],
      "text/plain": [
       "SITUACION_LABORAL  CONTRATO AUTONOMO  CONTRATO FIJO  CONTRATO TEMPORAL  \\\n",
       "FUGA                                                                     \n",
       "False                            120            726                262   \n",
       "True                              63            339                176   \n",
       "All                              183           1065                438   \n",
       "\n",
       "SITUACION_LABORAL  DESCONOCIDO  OTROS  SIN CLASIFICAR   All  \n",
       "FUGA                                                         \n",
       "False                       32    600              38  1778  \n",
       "True                         8    132               4   722  \n",
       "All                         40    732              42  2500  "
      ]
     },
     "execution_count": 63,
     "metadata": {},
     "output_type": "execute_result"
    }
   ],
   "source": [
    "#Tabla de contingencia entre FUGA y SITUACION\n",
    "df_cont=pd.crosstab(index=df_id['FUGA'],\n",
    "            columns=df_id['SITUACION_LABORAL'], margins=True)\n",
    "df_cont"
   ]
  },
  {
   "cell_type": "code",
   "execution_count": 64,
   "metadata": {},
   "outputs": [
    {
     "data": {
      "text/html": [
       "<div>\n",
       "<style scoped>\n",
       "    .dataframe tbody tr th:only-of-type {\n",
       "        vertical-align: middle;\n",
       "    }\n",
       "\n",
       "    .dataframe tbody tr th {\n",
       "        vertical-align: top;\n",
       "    }\n",
       "\n",
       "    .dataframe thead th {\n",
       "        text-align: right;\n",
       "    }\n",
       "</style>\n",
       "<table border=\"1\" class=\"dataframe\">\n",
       "  <thead>\n",
       "    <tr style=\"text-align: right;\">\n",
       "      <th>SEXO</th>\n",
       "      <th>FEMENINO</th>\n",
       "      <th>MASCULINO</th>\n",
       "      <th>All</th>\n",
       "    </tr>\n",
       "    <tr>\n",
       "      <th>FUGA</th>\n",
       "      <th></th>\n",
       "      <th></th>\n",
       "      <th></th>\n",
       "    </tr>\n",
       "  </thead>\n",
       "  <tbody>\n",
       "    <tr>\n",
       "      <th>False</th>\n",
       "      <td>36.12</td>\n",
       "      <td>35.0</td>\n",
       "      <td>71.12</td>\n",
       "    </tr>\n",
       "    <tr>\n",
       "      <th>True</th>\n",
       "      <td>13.88</td>\n",
       "      <td>15.0</td>\n",
       "      <td>28.88</td>\n",
       "    </tr>\n",
       "    <tr>\n",
       "      <th>All</th>\n",
       "      <td>50.00</td>\n",
       "      <td>50.0</td>\n",
       "      <td>100.00</td>\n",
       "    </tr>\n",
       "  </tbody>\n",
       "</table>\n",
       "</div>"
      ],
      "text/plain": [
       "SEXO   FEMENINO  MASCULINO     All\n",
       "FUGA                              \n",
       "False     36.12       35.0   71.12\n",
       "True      13.88       15.0   28.88\n",
       "All       50.00       50.0  100.00"
      ]
     },
     "execution_count": 64,
     "metadata": {},
     "output_type": "execute_result"
    }
   ],
   "source": [
    "#Tabla de contingencia entre FUGA y SEXO expresado como porcentaje relativo total\n",
    "pd.crosstab(index=df_id['FUGA'],columns=df_id['SEXO'], margins=True).apply(lambda r: r/len(df_id) *100,axis=1)"
   ]
  },
  {
   "cell_type": "code",
   "execution_count": 65,
   "metadata": {},
   "outputs": [
    {
     "data": {
      "text/html": [
       "<div>\n",
       "<style scoped>\n",
       "    .dataframe tbody tr th:only-of-type {\n",
       "        vertical-align: middle;\n",
       "    }\n",
       "\n",
       "    .dataframe tbody tr th {\n",
       "        vertical-align: top;\n",
       "    }\n",
       "\n",
       "    .dataframe thead th {\n",
       "        text-align: right;\n",
       "    }\n",
       "</style>\n",
       "<table border=\"1\" class=\"dataframe\">\n",
       "  <thead>\n",
       "    <tr style=\"text-align: right;\">\n",
       "      <th>ESTADO_CIVIL</th>\n",
       "      <th>CASADO</th>\n",
       "      <th>DIVORCIADO</th>\n",
       "      <th>SEPARADO</th>\n",
       "      <th>SOLTERO</th>\n",
       "      <th>UNION LIBRE</th>\n",
       "      <th>VIUDO</th>\n",
       "      <th>All</th>\n",
       "    </tr>\n",
       "    <tr>\n",
       "      <th>FUGA</th>\n",
       "      <th></th>\n",
       "      <th></th>\n",
       "      <th></th>\n",
       "      <th></th>\n",
       "      <th></th>\n",
       "      <th></th>\n",
       "      <th></th>\n",
       "    </tr>\n",
       "  </thead>\n",
       "  <tbody>\n",
       "    <tr>\n",
       "      <th>False</th>\n",
       "      <td>24.16</td>\n",
       "      <td>0.84</td>\n",
       "      <td>2.80</td>\n",
       "      <td>27.52</td>\n",
       "      <td>10.68</td>\n",
       "      <td>4.44</td>\n",
       "      <td>70.44</td>\n",
       "    </tr>\n",
       "    <tr>\n",
       "      <th>True</th>\n",
       "      <td>7.80</td>\n",
       "      <td>0.40</td>\n",
       "      <td>0.88</td>\n",
       "      <td>13.76</td>\n",
       "      <td>4.96</td>\n",
       "      <td>1.04</td>\n",
       "      <td>28.84</td>\n",
       "    </tr>\n",
       "    <tr>\n",
       "      <th>All</th>\n",
       "      <td>31.96</td>\n",
       "      <td>1.24</td>\n",
       "      <td>3.68</td>\n",
       "      <td>41.28</td>\n",
       "      <td>15.64</td>\n",
       "      <td>5.48</td>\n",
       "      <td>99.28</td>\n",
       "    </tr>\n",
       "  </tbody>\n",
       "</table>\n",
       "</div>"
      ],
      "text/plain": [
       "ESTADO_CIVIL  CASADO  DIVORCIADO  SEPARADO  SOLTERO  UNION LIBRE  VIUDO    All\n",
       "FUGA                                                                          \n",
       "False          24.16        0.84      2.80    27.52        10.68   4.44  70.44\n",
       "True            7.80        0.40      0.88    13.76         4.96   1.04  28.84\n",
       "All            31.96        1.24      3.68    41.28        15.64   5.48  99.28"
      ]
     },
     "execution_count": 65,
     "metadata": {},
     "output_type": "execute_result"
    }
   ],
   "source": [
    "#Tabla de contingencia entre FUGA y ESTADO CIVIL expresado como porcentaje relativo total\n",
    "pd.crosstab(index=df_id['FUGA'],columns=df_id['ESTADO_CIVIL'], margins=True).apply(lambda r: r/len(df_id) *100,axis=1)"
   ]
  },
  {
   "cell_type": "code",
   "execution_count": 66,
   "metadata": {},
   "outputs": [
    {
     "data": {
      "text/html": [
       "<div>\n",
       "<style scoped>\n",
       "    .dataframe tbody tr th:only-of-type {\n",
       "        vertical-align: middle;\n",
       "    }\n",
       "\n",
       "    .dataframe tbody tr th {\n",
       "        vertical-align: top;\n",
       "    }\n",
       "\n",
       "    .dataframe thead th {\n",
       "        text-align: right;\n",
       "    }\n",
       "</style>\n",
       "<table border=\"1\" class=\"dataframe\">\n",
       "  <thead>\n",
       "    <tr style=\"text-align: right;\">\n",
       "      <th>SITUACION_LABORAL</th>\n",
       "      <th>CONTRATO AUTONOMO</th>\n",
       "      <th>CONTRATO FIJO</th>\n",
       "      <th>CONTRATO TEMPORAL</th>\n",
       "      <th>DESCONOCIDO</th>\n",
       "      <th>OTROS</th>\n",
       "      <th>SIN CLASIFICAR</th>\n",
       "      <th>All</th>\n",
       "    </tr>\n",
       "    <tr>\n",
       "      <th>FUGA</th>\n",
       "      <th></th>\n",
       "      <th></th>\n",
       "      <th></th>\n",
       "      <th></th>\n",
       "      <th></th>\n",
       "      <th></th>\n",
       "      <th></th>\n",
       "    </tr>\n",
       "  </thead>\n",
       "  <tbody>\n",
       "    <tr>\n",
       "      <th>False</th>\n",
       "      <td>4.80</td>\n",
       "      <td>29.04</td>\n",
       "      <td>10.48</td>\n",
       "      <td>1.28</td>\n",
       "      <td>24.00</td>\n",
       "      <td>1.52</td>\n",
       "      <td>71.12</td>\n",
       "    </tr>\n",
       "    <tr>\n",
       "      <th>True</th>\n",
       "      <td>2.52</td>\n",
       "      <td>13.56</td>\n",
       "      <td>7.04</td>\n",
       "      <td>0.32</td>\n",
       "      <td>5.28</td>\n",
       "      <td>0.16</td>\n",
       "      <td>28.88</td>\n",
       "    </tr>\n",
       "    <tr>\n",
       "      <th>All</th>\n",
       "      <td>7.32</td>\n",
       "      <td>42.60</td>\n",
       "      <td>17.52</td>\n",
       "      <td>1.60</td>\n",
       "      <td>29.28</td>\n",
       "      <td>1.68</td>\n",
       "      <td>100.00</td>\n",
       "    </tr>\n",
       "  </tbody>\n",
       "</table>\n",
       "</div>"
      ],
      "text/plain": [
       "SITUACION_LABORAL  CONTRATO AUTONOMO  CONTRATO FIJO  CONTRATO TEMPORAL  \\\n",
       "FUGA                                                                     \n",
       "False                           4.80          29.04              10.48   \n",
       "True                            2.52          13.56               7.04   \n",
       "All                             7.32          42.60              17.52   \n",
       "\n",
       "SITUACION_LABORAL  DESCONOCIDO  OTROS  SIN CLASIFICAR     All  \n",
       "FUGA                                                           \n",
       "False                     1.28  24.00            1.52   71.12  \n",
       "True                      0.32   5.28            0.16   28.88  \n",
       "All                       1.60  29.28            1.68  100.00  "
      ]
     },
     "execution_count": 66,
     "metadata": {},
     "output_type": "execute_result"
    }
   ],
   "source": [
    "#Tabla de contingencia entre FUGA y SITUACION LABORAL expresado como porcentaje relativo total\n",
    "pd.crosstab(index=df_id['FUGA'],columns=df_id['SITUACION_LABORAL'], margins=True).apply(lambda r: r/len(df_id) *100,axis=1)"
   ]
  },
  {
   "cell_type": "code",
   "execution_count": 67,
   "metadata": {},
   "outputs": [
    {
     "data": {
      "text/html": [
       "<div>\n",
       "<style scoped>\n",
       "    .dataframe tbody tr th:only-of-type {\n",
       "        vertical-align: middle;\n",
       "    }\n",
       "\n",
       "    .dataframe tbody tr th {\n",
       "        vertical-align: top;\n",
       "    }\n",
       "\n",
       "    .dataframe thead th {\n",
       "        text-align: right;\n",
       "    }\n",
       "</style>\n",
       "<table border=\"1\" class=\"dataframe\">\n",
       "  <thead>\n",
       "    <tr style=\"text-align: right;\">\n",
       "      <th>SEXO</th>\n",
       "      <th>FEMENINO</th>\n",
       "      <th>MASCULINO</th>\n",
       "    </tr>\n",
       "    <tr>\n",
       "      <th>FUGA</th>\n",
       "      <th></th>\n",
       "      <th></th>\n",
       "    </tr>\n",
       "  </thead>\n",
       "  <tbody>\n",
       "    <tr>\n",
       "      <th>False</th>\n",
       "      <td>50.787402</td>\n",
       "      <td>49.212598</td>\n",
       "    </tr>\n",
       "    <tr>\n",
       "      <th>True</th>\n",
       "      <td>48.060942</td>\n",
       "      <td>51.939058</td>\n",
       "    </tr>\n",
       "  </tbody>\n",
       "</table>\n",
       "</div>"
      ],
      "text/plain": [
       "SEXO    FEMENINO  MASCULINO\n",
       "FUGA                       \n",
       "False  50.787402  49.212598\n",
       "True   48.060942  51.939058"
      ]
     },
     "execution_count": 67,
     "metadata": {},
     "output_type": "execute_result"
    }
   ],
   "source": [
    "#Tabla de contingencia en porcentaje relativo según sexo\n",
    "pd.crosstab(index=df_id['FUGA'],columns=df_id['SEXO']).apply(lambda r: r/r.sum() *100,axis=1)"
   ]
  },
  {
   "cell_type": "code",
   "execution_count": 68,
   "metadata": {},
   "outputs": [
    {
     "data": {
      "text/html": [
       "<div>\n",
       "<style scoped>\n",
       "    .dataframe tbody tr th:only-of-type {\n",
       "        vertical-align: middle;\n",
       "    }\n",
       "\n",
       "    .dataframe tbody tr th {\n",
       "        vertical-align: top;\n",
       "    }\n",
       "\n",
       "    .dataframe thead th {\n",
       "        text-align: right;\n",
       "    }\n",
       "</style>\n",
       "<table border=\"1\" class=\"dataframe\">\n",
       "  <thead>\n",
       "    <tr style=\"text-align: right;\">\n",
       "      <th>ESTADO_CIVIL</th>\n",
       "      <th>CASADO</th>\n",
       "      <th>DIVORCIADO</th>\n",
       "      <th>SEPARADO</th>\n",
       "      <th>SOLTERO</th>\n",
       "      <th>UNION LIBRE</th>\n",
       "      <th>VIUDO</th>\n",
       "    </tr>\n",
       "    <tr>\n",
       "      <th>FUGA</th>\n",
       "      <th></th>\n",
       "      <th></th>\n",
       "      <th></th>\n",
       "      <th></th>\n",
       "      <th></th>\n",
       "      <th></th>\n",
       "    </tr>\n",
       "  </thead>\n",
       "  <tbody>\n",
       "    <tr>\n",
       "      <th>False</th>\n",
       "      <td>34.298694</td>\n",
       "      <td>1.192504</td>\n",
       "      <td>3.975014</td>\n",
       "      <td>39.068711</td>\n",
       "      <td>15.161840</td>\n",
       "      <td>6.303237</td>\n",
       "    </tr>\n",
       "    <tr>\n",
       "      <th>True</th>\n",
       "      <td>27.045770</td>\n",
       "      <td>1.386963</td>\n",
       "      <td>3.051318</td>\n",
       "      <td>47.711512</td>\n",
       "      <td>17.198336</td>\n",
       "      <td>3.606103</td>\n",
       "    </tr>\n",
       "  </tbody>\n",
       "</table>\n",
       "</div>"
      ],
      "text/plain": [
       "ESTADO_CIVIL     CASADO  DIVORCIADO  SEPARADO    SOLTERO  UNION LIBRE  \\\n",
       "FUGA                                                                    \n",
       "False         34.298694    1.192504  3.975014  39.068711    15.161840   \n",
       "True          27.045770    1.386963  3.051318  47.711512    17.198336   \n",
       "\n",
       "ESTADO_CIVIL     VIUDO  \n",
       "FUGA                    \n",
       "False         6.303237  \n",
       "True          3.606103  "
      ]
     },
     "execution_count": 68,
     "metadata": {},
     "output_type": "execute_result"
    }
   ],
   "source": [
    "#Tabla de contingencia en porcentaje relativo según estado civil\n",
    "pd.crosstab(index=df_id['FUGA'],columns=df_id['ESTADO_CIVIL']).apply(lambda r: r/r.sum() *100,axis=1)     "
   ]
  },
  {
   "cell_type": "code",
   "execution_count": 69,
   "metadata": {},
   "outputs": [
    {
     "data": {
      "text/html": [
       "<div>\n",
       "<style scoped>\n",
       "    .dataframe tbody tr th:only-of-type {\n",
       "        vertical-align: middle;\n",
       "    }\n",
       "\n",
       "    .dataframe tbody tr th {\n",
       "        vertical-align: top;\n",
       "    }\n",
       "\n",
       "    .dataframe thead th {\n",
       "        text-align: right;\n",
       "    }\n",
       "</style>\n",
       "<table border=\"1\" class=\"dataframe\">\n",
       "  <thead>\n",
       "    <tr style=\"text-align: right;\">\n",
       "      <th>SITUACION_LABORAL</th>\n",
       "      <th>CONTRATO AUTONOMO</th>\n",
       "      <th>CONTRATO FIJO</th>\n",
       "      <th>CONTRATO TEMPORAL</th>\n",
       "      <th>DESCONOCIDO</th>\n",
       "      <th>OTROS</th>\n",
       "      <th>SIN CLASIFICAR</th>\n",
       "    </tr>\n",
       "    <tr>\n",
       "      <th>FUGA</th>\n",
       "      <th></th>\n",
       "      <th></th>\n",
       "      <th></th>\n",
       "      <th></th>\n",
       "      <th></th>\n",
       "      <th></th>\n",
       "    </tr>\n",
       "  </thead>\n",
       "  <tbody>\n",
       "    <tr>\n",
       "      <th>False</th>\n",
       "      <td>6.749156</td>\n",
       "      <td>40.832396</td>\n",
       "      <td>14.735658</td>\n",
       "      <td>1.799775</td>\n",
       "      <td>33.745782</td>\n",
       "      <td>2.137233</td>\n",
       "    </tr>\n",
       "    <tr>\n",
       "      <th>True</th>\n",
       "      <td>8.725762</td>\n",
       "      <td>46.952909</td>\n",
       "      <td>24.376731</td>\n",
       "      <td>1.108033</td>\n",
       "      <td>18.282548</td>\n",
       "      <td>0.554017</td>\n",
       "    </tr>\n",
       "  </tbody>\n",
       "</table>\n",
       "</div>"
      ],
      "text/plain": [
       "SITUACION_LABORAL  CONTRATO AUTONOMO  CONTRATO FIJO  CONTRATO TEMPORAL  \\\n",
       "FUGA                                                                     \n",
       "False                       6.749156      40.832396          14.735658   \n",
       "True                        8.725762      46.952909          24.376731   \n",
       "\n",
       "SITUACION_LABORAL  DESCONOCIDO      OTROS  SIN CLASIFICAR  \n",
       "FUGA                                                       \n",
       "False                 1.799775  33.745782        2.137233  \n",
       "True                  1.108033  18.282548        0.554017  "
      ]
     },
     "execution_count": 69,
     "metadata": {},
     "output_type": "execute_result"
    }
   ],
   "source": [
    "#Tabla de contingencia en porcentaje relativo según situacion laboral\n",
    "pd.crosstab(index=df_id['FUGA'],columns=df_id['SITUACION_LABORAL']).apply(lambda r: r/r.sum() *100,axis=1)                                "
   ]
  },
  {
   "cell_type": "code",
   "execution_count": 70,
   "metadata": {},
   "outputs": [
    {
     "data": {
      "text/plain": [
       "<matplotlib.axes._subplots.AxesSubplot at 0x24974041ef0>"
      ]
     },
     "execution_count": 70,
     "metadata": {},
     "output_type": "execute_result"
    },
    {
     "data": {
      "image/png": "[encoded data removed]",
      "text/plain": [
       "<Figure size 720x720 with 1 Axes>"
      ]
     },
     "metadata": {
      "needs_background": "light"
     },
     "output_type": "display_data"
    }
   ],
   "source": [
    "# Gráfico de barras de fuga segun situación laboral\n",
    "pd.crosstab(index=df_id['FUGA'],columns=df_id['SITUACION_LABORAL']\n",
    "                  ).apply(lambda r: r/r.sum() *100,\n",
    "                                              axis=1).plot(kind='bar',figsize=(10,10))"
   ]
  },
  {
   "cell_type": "code",
   "execution_count": 71,
   "metadata": {},
   "outputs": [
    {
     "data": {
      "text/plain": [
       "<matplotlib.axes._subplots.AxesSubplot at 0x24974050128>"
      ]
     },
     "execution_count": 71,
     "metadata": {},
     "output_type": "execute_result"
    },
    {
     "data": {
      "image/png": "[encoded data removed]",
      "text/plain": [
       "<Figure size 720x720 with 1 Axes>"
      ]
     },
     "metadata": {
      "needs_background": "light"
     },
     "output_type": "display_data"
    }
   ],
   "source": [
    "# Gráfico de barras de fuga segun estado civil\n",
    "pd.crosstab(index=df_id['FUGA'],columns=df_id['ESTADO_CIVIL']\n",
    "                  ).apply(lambda r: r/r.sum() *100,\n",
    "                                              axis=1).plot(kind='bar',figsize=(10,10))"
   ]
  },
  {
   "cell_type": "code",
   "execution_count": 72,
   "metadata": {},
   "outputs": [
    {
     "data": {
      "text/plain": [
       "<matplotlib.axes._subplots.AxesSubplot at 0x24973feb4a8>"
      ]
     },
     "execution_count": 72,
     "metadata": {},
     "output_type": "execute_result"
    },
    {
     "data": {
      "image/png": "[encoded data removed]",
      "text/plain": [
       "<Figure size 720x720 with 1 Axes>"
      ]
     },
     "metadata": {
      "needs_background": "light"
     },
     "output_type": "display_data"
    }
   ],
   "source": [
    "# Box plot de fuga segun tiempo alta\n",
    "pd.crosstab(columns=df_id['FUGA'],index=df_id['TIEMPO_ALTA']\n",
    "                  ).apply(lambda r: r/r.sum() *100,\n",
    "                                              axis=1).plot(kind='box',figsize=(10,10))"
   ]
  },
  {
   "cell_type": "code",
   "execution_count": 73,
   "metadata": {},
   "outputs": [
    {
     "data": {
      "text/plain": [
       "<matplotlib.axes._subplots.AxesSubplot at 0x24973feb940>"
      ]
     },
     "execution_count": 73,
     "metadata": {},
     "output_type": "execute_result"
    },
    {
     "data": {
      "image/png": "[encoded data removed]",
      "text/plain": [
       "<Figure size 720x720 with 1 Axes>"
      ]
     },
     "metadata": {
      "needs_background": "light"
     },
     "output_type": "display_data"
    }
   ],
   "source": [
    "# Box plot de fuga segun edad\n",
    "pd.crosstab(columns=df_id['FUGA'],index=df_id['EDAD']\n",
    "                  ).apply(lambda r: r/r.sum() *100,\n",
    "                                              axis=1).plot(kind='box',figsize=(10,10))"
   ]
  },
  {
   "cell_type": "code",
   "execution_count": 74,
   "metadata": {},
   "outputs": [
    {
     "data": {
      "text/plain": [
       "<matplotlib.axes._subplots.AxesSubplot at 0x24973fa4470>"
      ]
     },
     "execution_count": 74,
     "metadata": {},
     "output_type": "execute_result"
    },
    {
     "data": {
      "image/png": "[encoded data removed]",
      "text/plain": [
       "<Figure size 720x720 with 1 Axes>"
      ]
     },
     "metadata": {
      "needs_background": "light"
     },
     "output_type": "display_data"
    }
   ],
   "source": [
    "#Histograma de fuga según la edad\n",
    "pd.crosstab(columns=df_id['FUGA'],index=df_id['EDAD']\n",
    "                  ).apply(lambda r: r/r.sum() *100,\n",
    "                                              axis=1).plot(kind='hist',figsize=(10,10),alpha=0.7)"
   ]
  },
  {
   "cell_type": "code",
   "execution_count": 75,
   "metadata": {},
   "outputs": [
    {
     "data": {
      "text/plain": [
       "<matplotlib.axes._subplots.AxesSubplot at 0x24973f68240>"
      ]
     },
     "execution_count": 75,
     "metadata": {},
     "output_type": "execute_result"
    },
    {
     "data": {
      "image/png": "[encoded data removed]",
      "text/plain": [
       "<Figure size 720x720 with 1 Axes>"
      ]
     },
     "metadata": {
      "needs_background": "light"
     },
     "output_type": "display_data"
    }
   ],
   "source": [
    "#Histograma de fuga según tiempo alta\n",
    "pd.crosstab(columns=df_id['FUGA'],index=df_id['TIEMPO_ALTA']\n",
    "                  ).apply(lambda r: r/r.sum() *100,\n",
    "                                              axis=1).plot(kind='hist',figsize=(10,10),alpha=0.7)"
   ]
  },
  {
   "cell_type": "code",
   "execution_count": 76,
   "metadata": {},
   "outputs": [
    {
     "data": {
      "text/plain": [
       "<matplotlib.axes._subplots.AxesSubplot at 0x24973f26198>"
      ]
     },
     "execution_count": 76,
     "metadata": {},
     "output_type": "execute_result"
    },
    {
     "data": {
      "image/png": "[encoded data removed]",
      "text/plain": [
       "<Figure size 864x576 with 1 Axes>"
      ]
     },
     "metadata": {
      "needs_background": "light"
     },
     "output_type": "display_data"
    }
   ],
   "source": [
    "# Box plot de fuga segun prom abono nomina\n",
    "df_id.boxplot('PROM_TA_ABONO_NOMINA', by='FUGA', figsize=(12, 8))"
   ]
  },
  {
   "cell_type": "code",
   "execution_count": 77,
   "metadata": {},
   "outputs": [
    {
     "data": {
      "text/plain": [
       "<matplotlib.axes._subplots.AxesSubplot at 0x249740fc4e0>"
      ]
     },
     "execution_count": 77,
     "metadata": {},
     "output_type": "execute_result"
    },
    {
     "data": {
      "image/png": "[encoded data removed]",
      "text/plain": [
       "<Figure size 864x576 with 1 Axes>"
      ]
     },
     "metadata": {
      "needs_background": "light"
     },
     "output_type": "display_data"
    }
   ],
   "source": [
    "# Box plot de fuga segun prom saldo ahorros\n",
    "df_id.boxplot('PROM_TA_SALDO_AHORROS', by='FUGA', figsize=(12, 8))"
   ]
  },
  {
   "cell_type": "code",
   "execution_count": 106,
   "metadata": {
    "scrolled": false
   },
   "outputs": [
    {
     "data": {
      "text/plain": [
       "<matplotlib.axes._subplots.AxesSubplot at 0x24973b24ba8>"
      ]
     },
     "execution_count": 106,
     "metadata": {},
     "output_type": "execute_result"
    },
    {
     "data": {
      "image/png": "[encoded data removed]",
      "text/plain": [
       "<Figure size 864x576 with 1 Axes>"
      ]
     },
     "metadata": {
      "needs_background": "light"
     },
     "output_type": "display_data"
    }
   ],
   "source": [
    "# Box plot de fuga segun prom saldo creditos\n",
    "df_id.boxplot('PROM_TA_SALDO_CREDITO', by='FUGA', figsize=(12, 8))"
   ]
  },
  {
   "cell_type": "markdown",
   "metadata": {},
   "source": [
    "<b>8. Evaluation</b>\n",
    "\n",
    "Determinar la calidad del modelo realizado"
   ]
  },
  {
   "cell_type": "markdown",
   "metadata": {},
   "source": [
    "<b>ANOVA</b>"
   ]
  },
  {
   "cell_type": "code",
   "execution_count": 79,
   "metadata": {},
   "outputs": [],
   "source": [
    "import statsmodels.api as sm\n",
    "from statsmodels.formula.api import ols"
   ]
  },
  {
   "cell_type": "code",
   "execution_count": 80,
   "metadata": {},
   "outputs": [
    {
     "name": "stdout",
     "output_type": "stream",
     "text": [
      "                 sum_sq      df          F        PR(>F)\n",
      "FUGA       21029.297455     1.0  72.241032  3.233443e-17\n",
      "Residual  723381.193096  2485.0        NaN           NaN\n"
     ]
    }
   ],
   "source": [
    "mod = ols('EDAD ~ FUGA',\n",
    "                data=df_id).fit()\n",
    "                \n",
    "aov_table = sm.stats.anova_lm(mod, typ=2)\n",
    "print(aov_table)"
   ]
  },
  {
   "cell_type": "code",
   "execution_count": 81,
   "metadata": {},
   "outputs": [
    {
     "name": "stdout",
     "output_type": "stream",
     "text": [
      "                sum_sq      df          F        PR(>F)\n",
      "FUGA        1866.47223     1.0  41.871763  1.168858e-10\n",
      "Residual  111350.63937  2498.0        NaN           NaN\n"
     ]
    }
   ],
   "source": [
    "mod = ols('TIEMPO_ALTA ~ FUGA',\n",
    "                data=df_id).fit()\n",
    "                \n",
    "aov_table = sm.stats.anova_lm(mod, typ=2)\n",
    "print(aov_table)"
   ]
  },
  {
   "cell_type": "code",
   "execution_count": 82,
   "metadata": {},
   "outputs": [
    {
     "name": "stdout",
     "output_type": "stream",
     "text": [
      "                sum_sq      df           F        PR(>F)\n",
      "FUGA      3.476210e+14     1.0  114.617464  3.495827e-26\n",
      "Residual  7.576135e+15  2498.0         NaN           NaN\n"
     ]
    }
   ],
   "source": [
    "mod = ols('PROM_TA_SALDO_CREDITO ~ FUGA',\n",
    "                data=df_id).fit()\n",
    "                \n",
    "aov_table = sm.stats.anova_lm(mod, typ=2)\n",
    "print(aov_table)"
   ]
  },
  {
   "cell_type": "code",
   "execution_count": 83,
   "metadata": {},
   "outputs": [
    {
     "name": "stdout",
     "output_type": "stream",
     "text": [
      "                sum_sq      df          F        PR(>F)\n",
      "FUGA      8.064095e+13     1.0  73.755441  1.530091e-17\n",
      "Residual  2.731203e+15  2498.0        NaN           NaN\n"
     ]
    }
   ],
   "source": [
    "mod = ols('PROM_TA_SALDO_AHORROS ~ FUGA',\n",
    "                data=df_id).fit()\n",
    "                \n",
    "aov_table = sm.stats.anova_lm(mod, typ=2)\n",
    "print(aov_table)"
   ]
  },
  {
   "cell_type": "code",
   "execution_count": 84,
   "metadata": {},
   "outputs": [
    {
     "name": "stdout",
     "output_type": "stream",
     "text": [
      "                sum_sq      df         F        PR(>F)\n",
      "FUGA      7.956704e+13     1.0  239.1705  1.360004e-51\n",
      "Residual  8.310326e+14  2498.0       NaN           NaN\n"
     ]
    }
   ],
   "source": [
    "mod = ols('PROM_TA_ABONO_NOMINA ~ FUGA',\n",
    "                data=df_id).fit()\n",
    "                \n",
    "aov_table = sm.stats.anova_lm(mod, typ=2)\n",
    "print(aov_table)"
   ]
  },
  {
   "cell_type": "code",
   "execution_count": 85,
   "metadata": {},
   "outputs": [
    {
     "data": {
      "text/html": [
       "<div>\n",
       "<style scoped>\n",
       "    .dataframe tbody tr th:only-of-type {\n",
       "        vertical-align: middle;\n",
       "    }\n",
       "\n",
       "    .dataframe tbody tr th {\n",
       "        vertical-align: top;\n",
       "    }\n",
       "\n",
       "    .dataframe thead th {\n",
       "        text-align: right;\n",
       "    }\n",
       "</style>\n",
       "<table border=\"1\" class=\"dataframe\">\n",
       "  <thead>\n",
       "    <tr style=\"text-align: right;\">\n",
       "      <th></th>\n",
       "      <th>ID</th>\n",
       "      <th>MES_DE_FUGA</th>\n",
       "      <th>PROM_TA_ABONO_NOMINA</th>\n",
       "      <th>PROM_TA_SALDO_AHORROS</th>\n",
       "      <th>PROM_TA_SALDO_CREDITO</th>\n",
       "      <th>EDAD</th>\n",
       "      <th>TIEMPO_ALTA</th>\n",
       "    </tr>\n",
       "  </thead>\n",
       "  <tbody>\n",
       "    <tr>\n",
       "      <th>count</th>\n",
       "      <td>2500.00000</td>\n",
       "      <td>2500.000000</td>\n",
       "      <td>2.500000e+03</td>\n",
       "      <td>2.500000e+03</td>\n",
       "      <td>2.500000e+03</td>\n",
       "      <td>2487.000000</td>\n",
       "      <td>2500.000000</td>\n",
       "    </tr>\n",
       "    <tr>\n",
       "      <th>mean</th>\n",
       "      <td>1250.50000</td>\n",
       "      <td>1.802000</td>\n",
       "      <td>5.472798e+05</td>\n",
       "      <td>4.896924e+05</td>\n",
       "      <td>9.623751e+05</td>\n",
       "      <td>47.365099</td>\n",
       "      <td>9.275600</td>\n",
       "    </tr>\n",
       "    <tr>\n",
       "      <th>std</th>\n",
       "      <td>721.83216</td>\n",
       "      <td>3.435858</td>\n",
       "      <td>6.036436e+05</td>\n",
       "      <td>1.060749e+06</td>\n",
       "      <td>1.780666e+06</td>\n",
       "      <td>17.304366</td>\n",
       "      <td>6.730896</td>\n",
       "    </tr>\n",
       "    <tr>\n",
       "      <th>min</th>\n",
       "      <td>1.00000</td>\n",
       "      <td>0.000000</td>\n",
       "      <td>0.000000e+00</td>\n",
       "      <td>0.000000e+00</td>\n",
       "      <td>0.000000e+00</td>\n",
       "      <td>2.000000</td>\n",
       "      <td>0.000000</td>\n",
       "    </tr>\n",
       "    <tr>\n",
       "      <th>25%</th>\n",
       "      <td>625.75000</td>\n",
       "      <td>0.000000</td>\n",
       "      <td>0.000000e+00</td>\n",
       "      <td>5.391555e+03</td>\n",
       "      <td>0.000000e+00</td>\n",
       "      <td>33.000000</td>\n",
       "      <td>3.000000</td>\n",
       "    </tr>\n",
       "    <tr>\n",
       "      <th>50%</th>\n",
       "      <td>1250.50000</td>\n",
       "      <td>0.000000</td>\n",
       "      <td>3.308482e+05</td>\n",
       "      <td>1.027709e+05</td>\n",
       "      <td>0.000000e+00</td>\n",
       "      <td>46.000000</td>\n",
       "      <td>8.000000</td>\n",
       "    </tr>\n",
       "    <tr>\n",
       "      <th>75%</th>\n",
       "      <td>1875.25000</td>\n",
       "      <td>2.000000</td>\n",
       "      <td>1.064586e+06</td>\n",
       "      <td>4.266367e+05</td>\n",
       "      <td>1.175199e+06</td>\n",
       "      <td>61.000000</td>\n",
       "      <td>15.000000</td>\n",
       "    </tr>\n",
       "    <tr>\n",
       "      <th>max</th>\n",
       "      <td>2500.00000</td>\n",
       "      <td>12.000000</td>\n",
       "      <td>2.955846e+06</td>\n",
       "      <td>7.937737e+06</td>\n",
       "      <td>8.215469e+06</td>\n",
       "      <td>101.000000</td>\n",
       "      <td>47.000000</td>\n",
       "    </tr>\n",
       "  </tbody>\n",
       "</table>\n",
       "</div>"
      ],
      "text/plain": [
       "               ID  MES_DE_FUGA  PROM_TA_ABONO_NOMINA  PROM_TA_SALDO_AHORROS  \\\n",
       "count  2500.00000  2500.000000          2.500000e+03           2.500000e+03   \n",
       "mean   1250.50000     1.802000          5.472798e+05           4.896924e+05   \n",
       "std     721.83216     3.435858          6.036436e+05           1.060749e+06   \n",
       "min       1.00000     0.000000          0.000000e+00           0.000000e+00   \n",
       "25%     625.75000     0.000000          0.000000e+00           5.391555e+03   \n",
       "50%    1250.50000     0.000000          3.308482e+05           1.027709e+05   \n",
       "75%    1875.25000     2.000000          1.064586e+06           4.266367e+05   \n",
       "max    2500.00000    12.000000          2.955846e+06           7.937737e+06   \n",
       "\n",
       "       PROM_TA_SALDO_CREDITO         EDAD  TIEMPO_ALTA  \n",
       "count           2.500000e+03  2487.000000  2500.000000  \n",
       "mean            9.623751e+05    47.365099     9.275600  \n",
       "std             1.780666e+06    17.304366     6.730896  \n",
       "min             0.000000e+00     2.000000     0.000000  \n",
       "25%             0.000000e+00    33.000000     3.000000  \n",
       "50%             0.000000e+00    46.000000     8.000000  \n",
       "75%             1.175199e+06    61.000000    15.000000  \n",
       "max             8.215469e+06   101.000000    47.000000  "
      ]
     },
     "execution_count": 85,
     "metadata": {},
     "output_type": "execute_result"
    }
   ],
   "source": [
    "df_id.describe()"
   ]
  },
  {
   "cell_type": "code",
   "execution_count": 86,
   "metadata": {},
   "outputs": [],
   "source": [
    "df_true=df_id.query('FUGA==True')"
   ]
  },
  {
   "cell_type": "code",
   "execution_count": 87,
   "metadata": {},
   "outputs": [
    {
     "data": {
      "text/plain": [
       "ID                         1411.641274\n",
       "FUGA                          1.000000\n",
       "MES_DE_FUGA                   6.239612\n",
       "PROM_TA_ABONO_NOMINA     267321.186746\n",
       "PROM_TA_SALDO_AHORROS    207850.768646\n",
       "PROM_TA_SALDO_CREDITO    377207.495323\n",
       "EDAD                         42.814147\n",
       "TIEMPO_ALTA                   7.919668\n",
       "dtype: float64"
      ]
     },
     "execution_count": 87,
     "metadata": {},
     "output_type": "execute_result"
    }
   ],
   "source": [
    "df_true.mean()"
   ]
  },
  {
   "cell_type": "code",
   "execution_count": 88,
   "metadata": {},
   "outputs": [],
   "source": [
    "df_false=df_id.query('FUGA==False')"
   ]
  },
  {
   "cell_type": "code",
   "execution_count": 89,
   "metadata": {},
   "outputs": [
    {
     "data": {
      "text/plain": [
       "ID                       1.185065e+03\n",
       "FUGA                     0.000000e+00\n",
       "MES_DE_FUGA              0.000000e+00\n",
       "PROM_TA_ABONO_NOMINA     6.609638e+05\n",
       "PROM_TA_SALDO_AHORROS    6.041410e+05\n",
       "PROM_TA_SALDO_CREDITO    1.199997e+06\n",
       "EDAD                     4.922310e+01\n",
       "TIEMPO_ALTA              9.826209e+00\n",
       "dtype: float64"
      ]
     },
     "execution_count": 89,
     "metadata": {},
     "output_type": "execute_result"
    }
   ],
   "source": [
    "df_false.mean()"
   ]
  },
  {
   "cell_type": "markdown",
   "metadata": {},
   "source": [
    "<b> ÁRBOL DE DECISIONES</b>"
   ]
  },
  {
   "cell_type": "code",
   "execution_count": 90,
   "metadata": {},
   "outputs": [],
   "source": [
    "from sklearn.model_selection import train_test_split\n",
    "from sklearn.tree import DecisionTreeClassifier\n",
    "from sklearn.metrics import classification_report\n",
    "import sklearn.metrics"
   ]
  },
  {
   "cell_type": "code",
   "execution_count": 91,
   "metadata": {},
   "outputs": [],
   "source": [
    "#Directorio\n",
    "os.chdir(\"C://Users/hecansaga/Desktop/YPD\")"
   ]
  },
  {
   "cell_type": "code",
   "execution_count": 92,
   "metadata": {},
   "outputs": [],
   "source": [
    "#Limpiar de datos missing\n",
    "df_idc = df_id.dropna()"
   ]
  },
  {
   "cell_type": "code",
   "execution_count": 93,
   "metadata": {},
   "outputs": [],
   "source": [
    "#Definir variables predictoras y objetivo\n",
    "predictors = df_idc[['EDAD','TIEMPO_ALTA','PROM_TA_ABONO_NOMINA','PROM_TA_SALDO_AHORROS','PROM_TA_SALDO_CREDITO']]\n",
    "targets = df_idc.FUGA"
   ]
  },
  {
   "cell_type": "code",
   "execution_count": 94,
   "metadata": {},
   "outputs": [],
   "source": [
    "#Muestra de entrenamiento y de test con un test del 40%\n",
    "pred_train, pred_test, tar_train, tar_test = train_test_split(predictors, targets, test_size=.2)"
   ]
  },
  {
   "cell_type": "code",
   "execution_count": 95,
   "metadata": {},
   "outputs": [
    {
     "data": {
      "text/plain": [
       "(1984, 5)"
      ]
     },
     "execution_count": 95,
     "metadata": {},
     "output_type": "execute_result"
    }
   ],
   "source": [
    "#tamaño muestra predictora train\n",
    "pred_train.shape"
   ]
  },
  {
   "cell_type": "code",
   "execution_count": 96,
   "metadata": {},
   "outputs": [
    {
     "data": {
      "text/plain": [
       "(497, 5)"
      ]
     },
     "execution_count": 96,
     "metadata": {},
     "output_type": "execute_result"
    }
   ],
   "source": [
    "#tamaño muestra predictora test\n",
    "pred_test.shape"
   ]
  },
  {
   "cell_type": "code",
   "execution_count": 97,
   "metadata": {},
   "outputs": [
    {
     "data": {
      "text/plain": [
       "(1984,)"
      ]
     },
     "execution_count": 97,
     "metadata": {},
     "output_type": "execute_result"
    }
   ],
   "source": [
    "#tamaño muestra objetivo train\n",
    "tar_train.shape"
   ]
  },
  {
   "cell_type": "code",
   "execution_count": 98,
   "metadata": {},
   "outputs": [
    {
     "data": {
      "text/plain": [
       "(497,)"
      ]
     },
     "execution_count": 98,
     "metadata": {},
     "output_type": "execute_result"
    }
   ],
   "source": [
    "#tamaño muestra objetivo test\n",
    "tar_test.shape"
   ]
  },
  {
   "cell_type": "code",
   "execution_count": 99,
   "metadata": {},
   "outputs": [],
   "source": [
    "#Árbol\n",
    "classifier=DecisionTreeClassifier()\n",
    "classifier=classifier.fit(pred_train,tar_train)"
   ]
  },
  {
   "cell_type": "code",
   "execution_count": 100,
   "metadata": {},
   "outputs": [],
   "source": [
    "#Predicciones\n",
    "predictions=classifier.predict(pred_test)"
   ]
  },
  {
   "cell_type": "code",
   "execution_count": 101,
   "metadata": {},
   "outputs": [
    {
     "data": {
      "text/plain": [
       "array([[271,  90],\n",
       "       [ 57,  79]], dtype=int64)"
      ]
     },
     "execution_count": 101,
     "metadata": {},
     "output_type": "execute_result"
    }
   ],
   "source": [
    "#Matriz de confusión de predicciones\n",
    "sklearn.metrics.confusion_matrix(tar_test,predictions)"
   ]
  },
  {
   "cell_type": "code",
   "execution_count": 102,
   "metadata": {},
   "outputs": [
    {
     "data": {
      "text/plain": [
       "0.704225352112676"
      ]
     },
     "execution_count": 102,
     "metadata": {},
     "output_type": "execute_result"
    }
   ],
   "source": [
    "#Indice de precision\n",
    "sklearn.metrics.accuracy_score(tar_test, predictions)"
   ]
  },
  {
   "cell_type": "code",
   "execution_count": 103,
   "metadata": {},
   "outputs": [],
   "source": [
    "#Librerías para exportar arbol\n",
    "from sklearn import tree\n",
    "from io import StringIO\n",
    "from IPython.display import Image"
   ]
  },
  {
   "cell_type": "code",
   "execution_count": 104,
   "metadata": {},
   "outputs": [],
   "source": [
    "#Exportar arbol\n",
    "out = StringIO()\n",
    "tree.export_graphviz(classifier, out_file='treeYPD.dot')"
   ]
  },
  {
   "cell_type": "code",
   "execution_count": 105,
   "metadata": {},
   "outputs": [],
   "source": [
    "#Librerías para regresión logística\n",
    "from sklearn.linear_model import LogisticRegression\n",
    "from sklearn import metrics"
   ]
  }
 ],
 "metadata": {
  "kernelspec": {
   "display_name": "Python 3",
   "language": "python",
   "name": "python3"
  },
  "language_info": {
   "codemirror_mode": {
    "name": "ipython",
    "version": 3
   },
   "file_extension": ".py",
   "mimetype": "text/x-python",
   "name": "python",
   "nbconvert_exporter": "python",
   "pygments_lexer": "ipython3",
   "version": "3.7.1"
  }
 },
 "nbformat": 4,
 "nbformat_minor": 2
}
