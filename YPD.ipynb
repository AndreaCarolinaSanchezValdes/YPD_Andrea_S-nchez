{
 "cells": [
  {
   "cell_type": "markdown",
   "metadata": {},
   "source": [
    "<h1>PRUEBA PRÁCTICA</h1>\n",
    "<h3>YOUNG PROFESSIONAL DATA</h3> <b>Andrea Carolina Sánchez Valdés</b>"
   ]
  },
  {
   "cell_type": "markdown",
   "metadata": {},
   "source": [
    "<h3>DATA SCIENCE METODOLOGY</h3>\n",
    "Para el desarrollo de la prueba se seguirá el ciclo de la metodologia de data science indicado en la imagen"
   ]
  },
  {
   "cell_type": "markdown",
   "metadata": {},
   "source": [
    "<img src = \"http://www.ibmbigdatahub.com/sites/default/files/figure01_revised.jpg\">"
   ]
  },
  {
   "cell_type": "markdown",
   "metadata": {},
   "source": [
    "<b>1. Business Understanding</b>\n",
    "\n",
    "Se requiere identificar patrones o correlaciones entre variables"
   ]
  },
  {
   "cell_type": "markdown",
   "metadata": {},
   "source": [
    "<b>2. Analytic Approach</b>\n",
    "\n",
    "El tipo de pregunta define el tipo de tratamiento para el problema, en este caso se requiere \n",
    "descubrir relaciones entre variables, por lo tanto se puede usar un modelo descriptivo."
   ]
  },
  {
   "cell_type": "markdown",
   "metadata": {},
   "source": [
    "<b>4. Data Requirements</b>\n",
    "\n",
    "Para respoder o solucionar el problema se necesitan datos de los clientes que describan su comportamiento"
   ]
  },
  {
   "cell_type": "markdown",
   "metadata": {},
   "source": [
    "<b>4. Data Collection</b>\n",
    "\n",
    "Identificar las fuentes de datos y como se obtuvieron"
   ]
  },
  {
   "cell_type": "code",
   "execution_count": null,
   "metadata": {},
   "outputs": [],
   "source": [
    "#Importar librerías\n",
    "import pandas as pd\n",
    "import numpy as np\n",
    "import seaborn as sns\n",
    "import matplotlib\n",
    "import matplotlib.pyplot as plt\n",
    "import os\n",
    "from datetime import date"
   ]
  },
  {
   "cell_type": "code",
   "execution_count": null,
   "metadata": {},
   "outputs": [],
   "source": [
    "#Leer datos BASE_ID.txt\n",
    "id_path=(\"C://Users/hecansaga/Desktop/YPD/BASE_ID.txt\")\n",
    "df_id = pd.read_table(id_path)\n",
    "df_id.head()"
   ]
  },
  {
   "cell_type": "code",
   "execution_count": null,
   "metadata": {
    "scrolled": true
   },
   "outputs": [],
   "source": [
    "#Leer datos BASE_MOVIMIENTOS.txt\n",
    "bm_path=(\"C://Users/hecansaga/Desktop/YPD/BASE_MOVIMIENTOS.txt\")                   \n",
    "df_bm = pd.read_fwf(bm_path)\n",
    "df_bm.head()"
   ]
  },
  {
   "cell_type": "markdown",
   "metadata": {},
   "source": [
    "<b>5. Data Understanding</b>\n",
    "\n",
    "Identificar las fuentes de datos y como se obtuvieron"
   ]
  },
  {
   "cell_type": "code",
   "execution_count": null,
   "metadata": {},
   "outputs": [],
   "source": [
    "#Tipos de variables en la base de movimientos\n",
    "df_bm.dtypes"
   ]
  },
  {
   "cell_type": "code",
   "execution_count": null,
   "metadata": {
    "scrolled": true
   },
   "outputs": [],
   "source": [
    "#Tipos de variables en la base id\n",
    "df_id.dtypes"
   ]
  },
  {
   "cell_type": "markdown",
   "metadata": {},
   "source": [
    "<b>6. Data Preparation</b>\n",
    "\n",
    "Transformar y limpiar los datos"
   ]
  },
  {
   "cell_type": "code",
   "execution_count": null,
   "metadata": {
    "scrolled": false
   },
   "outputs": [],
   "source": [
    "#Correción y limpieza de datos\n",
    "df_bm.replace(regex=True,inplace=True,to_replace=r'\\$ ',value=r'') \n",
    "df_bm.replace(regex=True,inplace=True,to_replace=r'\\.',value=r'')\n",
    "df_bm.replace(regex=True,inplace=True,to_replace=r'\\,',value=r'.')"
   ]
  },
  {
   "cell_type": "code",
   "execution_count": null,
   "metadata": {},
   "outputs": [],
   "source": [
    "#Configurar correctamente los tipos de variables de la base de movimientos\n",
    "df_bm['SALDO_FONDOS']=df_bm['SALDO_FONDOS'].astype(\"float64\")\n",
    "df_bm['SALDO_CREDITO1']=df_bm['SALDO_CREDITO1'].astype(\"float64\")\n",
    "df_bm['SALDO_CREDITO2']=df_bm['SALDO_CREDITO2'].astype(\"float64\")\n",
    "df_bm['SALDO_ACTIVO']=df_bm['SALDO_ACTIVO'].astype(\"float64\")\n",
    "df_bm['SALDO_PASIVO']=df_bm['SALDO_PASIVO'].astype(\"float64\")"
   ]
  },
  {
   "cell_type": "code",
   "execution_count": null,
   "metadata": {},
   "outputs": [],
   "source": [
    "#verificar los nuevos tipos de variables\n",
    "df_bm.dtypes"
   ]
  },
  {
   "cell_type": "code",
   "execution_count": null,
   "metadata": {
    "scrolled": true
   },
   "outputs": [],
   "source": [
    "#eliminar las datos de horas en la variable FECHA_INFORMACION\n",
    "df_bm['FECHA_INFORMACION'].replace(regex=True,inplace=True,to_replace=r'\\:00',value=r'')"
   ]
  },
  {
   "cell_type": "code",
   "execution_count": null,
   "metadata": {},
   "outputs": [],
   "source": [
    "#Reemplazar valores de meses en letras por números en FECHA INFORMACION\n",
    "df_bm['FECHA_INFORMACION'].replace(regex=True,inplace=True,\n",
    "                                   to_replace=['JAN','FEB','MAR','APR','MAY','JUN','JUL','AUG','SEP','OCT','NOV','DEC'],\n",
    "                                   value=['/01/','/02/','/03/','/04/','/05/','/06/','/07/','/08/','/09/','/10/','/11/','/12/'])"
   ]
  },
  {
   "cell_type": "code",
   "execution_count": null,
   "metadata": {},
   "outputs": [],
   "source": [
    "#Convertir la variable FECHA INFORMACION  a tipo fecha\n",
    "df_bm['FECHA_INFORMACION']=pd.to_datetime(df_bm['FECHA_INFORMACION'])"
   ]
  },
  {
   "cell_type": "code",
   "execution_count": null,
   "metadata": {},
   "outputs": [],
   "source": [
    "#Medidas estadisticas básicas para identificar los cambios en las variables\n",
    "df_bm.describe()"
   ]
  },
  {
   "cell_type": "code",
   "execution_count": null,
   "metadata": {},
   "outputs": [],
   "source": [
    "#Observar la estructura de los datos corregidos de la base de movimientos\n",
    "df_bm.head()"
   ]
  },
  {
   "cell_type": "code",
   "execution_count": null,
   "metadata": {},
   "outputs": [],
   "source": [
    "#Observar la estructura de los datos corregidos de la base id\n",
    "df_id.head()"
   ]
  },
  {
   "cell_type": "code",
   "execution_count": null,
   "metadata": {},
   "outputs": [],
   "source": [
    "#Renombrar columna fuga por FUGA y CLIENTE CC por ID\n",
    "df_id.rename(columns={'fuga':'FUGA','CLIENTE_CC':'ID'},inplace=True)"
   ]
  },
  {
   "cell_type": "code",
   "execution_count": null,
   "metadata": {},
   "outputs": [],
   "source": [
    "#Correción y limpieza de datos\n",
    "df_id.replace(regex=True,inplace=True,to_replace=r'\\$ ',value=r'') \n",
    "df_id.replace(regex=True,inplace=True,to_replace=r'\\.',value=r'')\n",
    "df_id.replace(regex=True,inplace=True,to_replace=r'\\,',value=r'.')"
   ]
  },
  {
   "cell_type": "code",
   "execution_count": null,
   "metadata": {},
   "outputs": [],
   "source": [
    "#Reemplazar los datos NaN por 0s en las variables FUGA y MES DE FUGA\n",
    "df_id['FUGA']=df_id['FUGA'].fillna(0)\n",
    "df_id['MES_DE_FUGA']=df_id['MES_DE_FUGA'].fillna(0)"
   ]
  },
  {
   "cell_type": "code",
   "execution_count": null,
   "metadata": {},
   "outputs": [],
   "source": [
    "#Identificar valores unicos en la variable SEXO\n",
    "df_id['SEXO'].unique()"
   ]
  },
  {
   "cell_type": "code",
   "execution_count": null,
   "metadata": {},
   "outputs": [],
   "source": [
    "#Unificar los valores en la variable SEXO\n",
    "df_id['SEXO'].replace(inplace=True,to_replace=['F', 'HOMBRE', 'M', 'Hombre', 'mujer', 'femenino', 'masculino',\n",
    "       'FEMENINO', 'Mujer', 'varón', 'Masc', 'MUJER'],\n",
    "                      value=['FEMENINO', 'MASCULINO', 'MASCULINO', 'MASCULINO', 'FEMENINO', 'FEMENINO', 'MASCULINO',\n",
    "       'FEMENINO', 'FEMENINO', 'MASCULINO', 'MASCULINO', 'FEMENINO'])"
   ]
  },
  {
   "cell_type": "code",
   "execution_count": null,
   "metadata": {},
   "outputs": [],
   "source": [
    "#Identificar valores unicos en la variable ESTADO CIVIL\n",
    "df_id['ESTADO_CIVIL'].unique()"
   ]
  },
  {
   "cell_type": "code",
   "execution_count": null,
   "metadata": {},
   "outputs": [],
   "source": [
    "#Identificar valores unicos en la variable SITUACION LABORAL\n",
    "df_id['SITUACION_LABORAL'].unique()"
   ]
  },
  {
   "cell_type": "code",
   "execution_count": null,
   "metadata": {},
   "outputs": [],
   "source": [
    "#Unificar los valores en la variable SITUACION LABORAL\n",
    "df_id['SITUACION_LABORAL'].replace(inplace=True,to_replace=['otros', 'Contrato fijo', 'OTROS', 'contrato autonomo',\n",
    "       ' desconocido   ', 'CONTRATO AUTONOMO', 'CONTRATO FIJO', 'CONTRATO TEMPORAL', 'temporal     ', 'SIN CLASIFICAR'],\n",
    "                                   value=['OTROS', 'CONTRATO FIJO', 'OTROS', 'CONTRATO AUTONOMO',\n",
    "       'DESCONOCIDO', 'CONTRATO AUTONOMO', 'CONTRATO FIJO', 'CONTRATO TEMPORAL', 'CONTRATO TEMPORAL', 'SIN CLASIFICAR'])"
   ]
  },
  {
   "cell_type": "code",
   "execution_count": null,
   "metadata": {},
   "outputs": [],
   "source": [
    "#Reemplazar valores de meses en letras por números en FECHA ALTA\n",
    "df_id['FECHA_ALTA'].replace(regex=True,inplace=True,\n",
    "                            to_replace=['ene','feb','mar','abr','may','jun','jul','ago','sep','oct','nov','dic'],\n",
    "                            value=['01','02','03','04','05','06','07','08','09','10','11','12'])"
   ]
  },
  {
   "cell_type": "code",
   "execution_count": null,
   "metadata": {},
   "outputs": [],
   "source": [
    "#Extraer mes de FECHA ALTA\n",
    "df_mesid1=df_id['FECHA_ALTA'].str[:2].astype(object)\n",
    "df_mesid1.head()"
   ]
  },
  {
   "cell_type": "code",
   "execution_count": null,
   "metadata": {},
   "outputs": [],
   "source": [
    "#Extraer año de FECHA ALTA\n",
    "df_añoid1=df_id['FECHA_ALTA'].str[4:].astype(object)\n",
    "df_añoid1.head()"
   ]
  },
  {
   "cell_type": "code",
   "execution_count": null,
   "metadata": {},
   "outputs": [],
   "source": [
    "#Extraer día de FECHA ALTA\n",
    "df_diaid1=df_id['FECHA_ALTA'].str[2:4:].astype(object)\n",
    "df_diaid1.head()"
   ]
  },
  {
   "cell_type": "code",
   "execution_count": null,
   "metadata": {},
   "outputs": [],
   "source": [
    "#Extraer mes de FECHA NACIMIENTO\n",
    "df_mesid2=df_id['FECHA_NACIMIENTO'].str[4:6:].astype(object)\n",
    "df_mesid2.head()"
   ]
  },
  {
   "cell_type": "code",
   "execution_count": null,
   "metadata": {
    "scrolled": true
   },
   "outputs": [],
   "source": [
    "#Extraer año de FECHA NACIMIENTO\n",
    "df_añoid2=df_id['FECHA_NACIMIENTO'].str[:4].astype(object)\n",
    "df_añoid2.head()"
   ]
  },
  {
   "cell_type": "code",
   "execution_count": null,
   "metadata": {},
   "outputs": [],
   "source": [
    "#Extraer día de FECHA NACIMIENTO\n",
    "df_diaid2=df_id['FECHA_NACIMIENTO'].str[6:].astype(object)\n",
    "df_diaid2.head()"
   ]
  },
  {
   "cell_type": "code",
   "execution_count": null,
   "metadata": {
    "scrolled": true
   },
   "outputs": [],
   "source": [
    "#Construir nuevavamente FECHA ALTA\n",
    "df_id['FECHA_ALTA'] = df_diaid1+'/'+df_mesid1+'/'+df_añoid1\n",
    "df_id['FECHA_ALTA'].head()"
   ]
  },
  {
   "cell_type": "code",
   "execution_count": null,
   "metadata": {},
   "outputs": [],
   "source": [
    "#Construir nuevavamente FECHA NACIMIENTO\n",
    "df_id['FECHA_NACIMIENTO'] = df_diaid2+'/'+df_mesid2+'/'+df_añoid2\n",
    "df_id['FECHA_NACIMIENTO'].head()"
   ]
  },
  {
   "cell_type": "code",
   "execution_count": null,
   "metadata": {},
   "outputs": [],
   "source": [
    "#Identificar dato erroneo\n",
    "df_len=df_id['FECHA_NACIMIENTO'].str.len()\n",
    "df_len.head()"
   ]
  },
  {
   "cell_type": "code",
   "execution_count": null,
   "metadata": {},
   "outputs": [],
   "source": [
    "#Ubicación del dato erroreo\n",
    "df_len.idxmax()"
   ]
  },
  {
   "cell_type": "code",
   "execution_count": null,
   "metadata": {},
   "outputs": [],
   "source": [
    "#Reemplazar valor del dato erroneo\n",
    "df_id['FECHA_NACIMIENTO'].replace(inplace=True,to_replace='1-01/-0/0001',value='NaN')"
   ]
  },
  {
   "cell_type": "code",
   "execution_count": null,
   "metadata": {},
   "outputs": [],
   "source": [
    "#Configurar los tipos de variables de la base id\n",
    "df_id['ID']=df_id['ID'].astype('float64')\n",
    "df_id['ID']=df_id['ID'].astype('int64')\n",
    "df_id['FECHA_ALTA']=pd.to_datetime(df_id['FECHA_ALTA'])\n",
    "df_id['FECHA_NACIMIENTO']=pd.to_datetime(df_id['FECHA_NACIMIENTO'])\n",
    "df_id['FUGA']=df_id['FUGA'].astype('bool')\n",
    "df_id['MES_DE_FUGA']=df_id['MES_DE_FUGA'].astype('int64')\n",
    "df_id.dtypes"
   ]
  },
  {
   "cell_type": "code",
   "execution_count": null,
   "metadata": {},
   "outputs": [],
   "source": [
    "#Organizar la base de movimientos por orden ascendente según la variable ID y luego por FECHA INFORMACION\n",
    "df_bm=df_bm.sort_values(by=['ID','FECHA_INFORMACION'])\n",
    "df_bm.head()"
   ]
  },
  {
   "cell_type": "code",
   "execution_count": null,
   "metadata": {},
   "outputs": [],
   "source": [
    "#Unir las bases id y movimientos en una que mantiene todos los datos de la base de movimientos\n",
    "df_join=pd.merge(df_bm,df_id[['ID','FUGA','MES_DE_FUGA']],on='ID',how='left')\n",
    "df_join.head()"
   ]
  },
  {
   "cell_type": "code",
   "execution_count": null,
   "metadata": {},
   "outputs": [],
   "source": [
    "#Verificación de la nueva base de datos\n",
    "df_join.tail()"
   ]
  },
  {
   "cell_type": "code",
   "execution_count": null,
   "metadata": {},
   "outputs": [],
   "source": [
    "#Promedio abono nomina por trimestre\n",
    "\n",
    "count_row=df_join.shape[0]\n",
    "\n",
    "for i in range(0, count_row):\n",
    "    a=df_join.at[i,'MONTO_ABONOS_NOMINA']\n",
    "    b=df_join.at[i+1,'MONTO_ABONOS_NOMINA']\n",
    "    c=df_join.at[i+2,'MONTO_ABONOS_NOMINA']\n",
    "    prom=(a+b+c)/3\n",
    "    df_join.at[i+2,'PROM_TRIM_ABONOS_NOMINA']=prom\n",
    "    i=i+1\n",
    "    if (i==31438):\n",
    "        break"
   ]
  },
  {
   "cell_type": "code",
   "execution_count": null,
   "metadata": {},
   "outputs": [],
   "source": [
    "#Eliminar datos de promedio trimestre que no son correctos\n",
    "ids=df_join.groupby('ID').size()\n",
    "\n",
    "for i in range(2,2501):      \n",
    "    countid=ids.at[i,]\n",
    "    j=np.where(df_join[\"ID\"] == i)[0]\n",
    "    k=j[0]\n",
    "    df_join.at[k,'PROM_TRIM_ABONOS_NOMINA']=0.0\n",
    "    df_join.at[k+1,'PROM_TRIM_ABONOS_NOMINA']=0.0\n",
    "    i=i+1\n",
    "    if i>2501:\n",
    "        break"
   ]
  },
  {
   "cell_type": "code",
   "execution_count": null,
   "metadata": {
    "scrolled": true
   },
   "outputs": [],
   "source": [
    "#Promedio saldo ahorros\n",
    "\n",
    "count_row=df_join.shape[0]\n",
    "\n",
    "for i in range(0, count_row):\n",
    "    a=df_join.at[i,'SALDO_AHORROS']\n",
    "    b=df_join.at[i+1,'SALDO_AHORROS']\n",
    "    c=df_join.at[i+2,'SALDO_AHORROS']\n",
    "    prom=(a+b+c)/3\n",
    "    df_join.at[i+2,'PROM_TRIM_SALDO_AHORROS']=prom\n",
    "    i=i+1\n",
    "    if (i==31438):\n",
    "        break"
   ]
  },
  {
   "cell_type": "code",
   "execution_count": null,
   "metadata": {},
   "outputs": [],
   "source": [
    "#Eliminar datos de promedio trimestre que no son correctos\n",
    "ids=df_join.groupby('ID').size()\n",
    "\n",
    "for i in range(2,2501):      \n",
    "    countid=ids.at[i,]\n",
    "    j=np.where(df_join[\"ID\"] == i)[0]\n",
    "    k=j[0]\n",
    "    df_join.at[k,'PROM_TRIM_SALDO_AHORROS']=0.0\n",
    "    df_join.at[k+1,'PROM_TRIM_SALDO_AHORROS']=0.0\n",
    "    i=i+1\n",
    "    if i>2501:\n",
    "        break"
   ]
  },
  {
   "cell_type": "code",
   "execution_count": null,
   "metadata": {},
   "outputs": [],
   "source": [
    "#Promedio saldo credito\n",
    "\n",
    "count_row=df_join.shape[0]\n",
    "\n",
    "for i in range(0, count_row):\n",
    "    a=df_join.at[i,'SALDO_CREDITO1']\n",
    "    b=df_join.at[i+1,'SALDO_CREDITO1']\n",
    "    c=df_join.at[i+2,'SALDO_CREDITO1']\n",
    "    d=df_join.at[i,'SALDO_CREDITO2']\n",
    "    e=df_join.at[i+1,'SALDO_CREDITO2']\n",
    "    f=df_join.at[i+2,'SALDO_CREDITO2']\n",
    "    prom=(a+b+c+d+e+f)/6\n",
    "    df_join.at[i+2,'PROM_TRIM_SALDO_CREDITO']=prom\n",
    "    i=i+1\n",
    "    if (i==31438):\n",
    "        break"
   ]
  },
  {
   "cell_type": "code",
   "execution_count": null,
   "metadata": {},
   "outputs": [],
   "source": [
    "#Eliminar datos de promedio trimestre que no son correctos\n",
    "ids=df_join.groupby('ID').size()\n",
    "\n",
    "for i in range(2,2501):      \n",
    "    countid=ids.at[i,]\n",
    "    j=np.where(df_join[\"ID\"] == i)[0]\n",
    "    k=j[0]\n",
    "    df_join.at[k,'PROM_TRIM_SALDO_CREDITO']=0.0\n",
    "    df_join.at[k+1,'PROM_TRIM_SALDO_CREDITO']=0.0\n",
    "    i=i+1\n",
    "    if i>2501:\n",
    "        break"
   ]
  },
  {
   "cell_type": "code",
   "execution_count": null,
   "metadata": {},
   "outputs": [],
   "source": [
    "#Verificación\n",
    "df_join.head()"
   ]
  },
  {
   "cell_type": "code",
   "execution_count": null,
   "metadata": {},
   "outputs": [],
   "source": [
    "#Generar promedio de saldos y abono nomina para los trimestres corridos\n",
    "for i in range(0,2500):\n",
    "    j=np.where(df_join[\"ID\"] == i+1)[0]\n",
    "    y=tuple(j)\n",
    "    df_i=df_join.loc[y,['ID','PROM_TRIM_ABONOS_NOMINA','PROM_TRIM_SALDO_AHORROS','PROM_TRIM_SALDO_CREDITO']]\n",
    "    df_id.at[i,'PROM_TA_ABONO_NOMINA']=df_i[\"PROM_TRIM_ABONOS_NOMINA\"].mean()\n",
    "    df_id.at[i,'PROM_TA_SALDO_AHORROS']=df_i[\"PROM_TRIM_SALDO_AHORROS\"].mean()\n",
    "    df_id.at[i,'PROM_TA_SALDO_CREDITO']=df_i[\"PROM_TRIM_SALDO_CREDITO\"].mean()\n",
    "    i=i+1\n",
    "    if i>2501:\n",
    "        break"
   ]
  },
  {
   "cell_type": "code",
   "execution_count": null,
   "metadata": {},
   "outputs": [],
   "source": [
    "#Generar edad de los clientes\n",
    "date='2017-12-01'\n",
    "date=pd.to_datetime(date)\n",
    "for i in range(0,2500):\n",
    "    df_id.loc[i,'EDAD']= (date- df_id.at[i,'FECHA_NACIMIENTO']) / 365\n",
    "    i=i+1\n",
    "    if i>2501:\n",
    "        break"
   ]
  },
  {
   "cell_type": "code",
   "execution_count": null,
   "metadata": {},
   "outputs": [],
   "source": [
    "df_id['EDAD']=df_id['EDAD'].dt.days"
   ]
  },
  {
   "cell_type": "code",
   "execution_count": null,
   "metadata": {},
   "outputs": [],
   "source": [
    "#Generar tiempo de alta de los clientes\n",
    "date='2017-12-01'\n",
    "date=pd.to_datetime(date)\n",
    "for i in range(0,2500):\n",
    "    df_id.loc[i,'TIEMPO_ALTA']= (date- df_id.at[i,'FECHA_ALTA']) / 365\n",
    "    i=i+1\n",
    "    if i>2501:\n",
    "        break"
   ]
  },
  {
   "cell_type": "code",
   "execution_count": null,
   "metadata": {},
   "outputs": [],
   "source": [
    "df_id['TIEMPO_ALTA']=df_id['TIEMPO_ALTA'].dt.days"
   ]
  },
  {
   "cell_type": "markdown",
   "metadata": {},
   "source": [
    "<b>7. Modelling</b>\n",
    "\n",
    "Estudiar los datos de manera predictiva y descriptiva"
   ]
  },
  {
   "cell_type": "code",
   "execution_count": null,
   "metadata": {},
   "outputs": [],
   "source": [
    "#Cantidad de datos de cada tipo\n",
    "print(df_id.groupby('FUGA').size())"
   ]
  },
  {
   "cell_type": "code",
   "execution_count": null,
   "metadata": {
    "scrolled": true
   },
   "outputs": [],
   "source": [
    "#Identificar correlaciones de la base id\n",
    "df_id.corr()"
   ]
  },
  {
   "cell_type": "code",
   "execution_count": null,
   "metadata": {},
   "outputs": [],
   "source": [
    "#Identificar correlaciones de la base id mediante un heatmap\n",
    "sns.heatmap(df_id.corr(), square=True, annot=True)"
   ]
  },
  {
   "cell_type": "code",
   "execution_count": null,
   "metadata": {},
   "outputs": [],
   "source": [
    "#Histograma de las variables\n",
    "df_id.drop(['FUGA'],1).hist(figsize=(12, 8))\n",
    "plt.show()"
   ]
  },
  {
   "cell_type": "code",
   "execution_count": null,
   "metadata": {},
   "outputs": [],
   "source": [
    "#Frecuencias según la variable SEXO\n",
    "df_id['SEXO'].value_counts()"
   ]
  },
  {
   "cell_type": "code",
   "execution_count": null,
   "metadata": {},
   "outputs": [],
   "source": [
    "#Diagrama de pastel de la variable ESTADO CVIL\n",
    "df_id['ESTADO_CIVIL'].value_counts().plot(kind='pie', autopct='%.2f', figsize=(6, 6))\n",
    "plt.title('ESTADO CIVIL')\n",
    "plt.ylabel('')"
   ]
  },
  {
   "cell_type": "code",
   "execution_count": null,
   "metadata": {},
   "outputs": [],
   "source": [
    "#Frecuencias según la variable ESTADO CIVIL\n",
    "df_id['ESTADO_CIVIL'].value_counts()"
   ]
  },
  {
   "cell_type": "code",
   "execution_count": null,
   "metadata": {},
   "outputs": [],
   "source": [
    "#Diagrama de pastel de la variable SITUACION LABORAL\n",
    "df_id['SITUACION_LABORAL'].value_counts().plot(kind='pie', autopct='%.2f', figsize=(6, 6))\n",
    "plt.title('ESTADO CIVIL')\n",
    "plt.ylabel('')"
   ]
  },
  {
   "cell_type": "code",
   "execution_count": null,
   "metadata": {},
   "outputs": [],
   "source": [
    "#Frecuencias según la variable SITUACION LABORAL\n",
    "df_id['SITUACION_LABORAL'].value_counts()"
   ]
  },
  {
   "cell_type": "code",
   "execution_count": null,
   "metadata": {},
   "outputs": [],
   "source": [
    "#Tabla de contingencia entre FUGA y SEXO\n",
    "df_sexo=pd.crosstab(index=df_id['FUGA'],\n",
    "            columns=df_id['SEXO'], margins=True)\n",
    "df_sexo"
   ]
  },
  {
   "cell_type": "code",
   "execution_count": null,
   "metadata": {},
   "outputs": [],
   "source": [
    "#Tabla de contingencia entre FUGA y ESTADO CIVIL\n",
    "df_civil=pd.crosstab(index=df_id['FUGA'],\n",
    "            columns=df_id['ESTADO_CIVIL'], margins=True)\n",
    "df_civil"
   ]
  },
  {
   "cell_type": "code",
   "execution_count": null,
   "metadata": {},
   "outputs": [],
   "source": [
    "#Tabla de contingencia entre FUGA y SITUACION\n",
    "df_cont=pd.crosstab(index=df_id['FUGA'],\n",
    "            columns=df_id['SITUACION_LABORAL'], margins=True)\n",
    "df_cont"
   ]
  },
  {
   "cell_type": "code",
   "execution_count": null,
   "metadata": {},
   "outputs": [],
   "source": [
    "#Tabla de contingencia entre FUGA y SEXO expresado como porcentaje relativo total\n",
    "pd.crosstab(index=df_id['FUGA'],columns=df_id['SEXO'], margins=True).apply(lambda r: r/len(df_id) *100,axis=1)"
   ]
  },
  {
   "cell_type": "code",
   "execution_count": null,
   "metadata": {},
   "outputs": [],
   "source": [
    "#Tabla de contingencia entre FUGA y ESTADO CIVIL expresado como porcentaje relativo total\n",
    "pd.crosstab(index=df_id['FUGA'],columns=df_id['ESTADO_CIVIL'], margins=True).apply(lambda r: r/len(df_id) *100,axis=1)"
   ]
  },
  {
   "cell_type": "code",
   "execution_count": null,
   "metadata": {},
   "outputs": [],
   "source": [
    "#Tabla de contingencia entre FUGA y SITUACION LABORAL expresado como porcentaje relativo total\n",
    "pd.crosstab(index=df_id['FUGA'],columns=df_id['SITUACION_LABORAL'], margins=True).apply(lambda r: r/len(df_id) *100,axis=1)"
   ]
  },
  {
   "cell_type": "code",
   "execution_count": null,
   "metadata": {},
   "outputs": [],
   "source": [
    "#Tabla de contingencia en porcentaje relativo según sexo\n",
    "pd.crosstab(index=df_id['FUGA'],columns=df_id['SEXO']).apply(lambda r: r/r.sum() *100,axis=1)"
   ]
  },
  {
   "cell_type": "code",
   "execution_count": null,
   "metadata": {},
   "outputs": [],
   "source": [
    "#Tabla de contingencia en porcentaje relativo según estado civil\n",
    "pd.crosstab(index=df_id['FUGA'],columns=df_id['ESTADO_CIVIL']).apply(lambda r: r/r.sum() *100,axis=1)     "
   ]
  },
  {
   "cell_type": "code",
   "execution_count": null,
   "metadata": {},
   "outputs": [],
   "source": [
    "#Tabla de contingencia en porcentaje relativo según situacion laboral\n",
    "pd.crosstab(index=df_id['FUGA'],columns=df_id['SITUACION_LABORAL']).apply(lambda r: r/r.sum() *100,axis=1)                                "
   ]
  },
  {
   "cell_type": "code",
   "execution_count": null,
   "metadata": {},
   "outputs": [],
   "source": [
    "# Gráfico de barras de fuga segun situación laboral\n",
    "pd.crosstab(index=df_id['FUGA'],columns=df_id['SITUACION_LABORAL']\n",
    "                  ).apply(lambda r: r/r.sum() *100,\n",
    "                                              axis=1).plot(kind='bar',figsize=(10,10))"
   ]
  },
  {
   "cell_type": "code",
   "execution_count": null,
   "metadata": {},
   "outputs": [],
   "source": [
    "# Gráfico de barras de fuga segun estado civil\n",
    "pd.crosstab(index=df_id['FUGA'],columns=df_id['ESTADO_CIVIL']\n",
    "                  ).apply(lambda r: r/r.sum() *100,\n",
    "                                              axis=1).plot(kind='bar',figsize=(10,10))"
   ]
  },
  {
   "cell_type": "code",
   "execution_count": null,
   "metadata": {},
   "outputs": [],
   "source": [
    "# Box plot de fuga segun tiempo alta\n",
    "pd.crosstab(columns=df_id['FUGA'],index=df_id['TIEMPO_ALTA']\n",
    "                  ).apply(lambda r: r/r.sum() *100,\n",
    "                                              axis=1).plot(kind='box',figsize=(10,10))"
   ]
  },
  {
   "cell_type": "code",
   "execution_count": null,
   "metadata": {},
   "outputs": [],
   "source": [
    "# Box plot de fuga segun edad\n",
    "pd.crosstab(columns=df_id['FUGA'],index=df_id['EDAD']\n",
    "                  ).apply(lambda r: r/r.sum() *100,\n",
    "                                              axis=1).plot(kind='box',figsize=(10,10))"
   ]
  },
  {
   "cell_type": "code",
   "execution_count": null,
   "metadata": {},
   "outputs": [],
   "source": [
    "#Histograma de fuga según la edad\n",
    "pd.crosstab(columns=df_id['FUGA'],index=df_id['EDAD']\n",
    "                  ).apply(lambda r: r/r.sum() *100,\n",
    "                                              axis=1).plot(kind='hist',figsize=(10,10),alpha=0.7)"
   ]
  },
  {
   "cell_type": "code",
   "execution_count": null,
   "metadata": {},
   "outputs": [],
   "source": [
    "#Histograma de fuga según tiempo alta\n",
    "pd.crosstab(columns=df_id['FUGA'],index=df_id['TIEMPO_ALTA']\n",
    "                  ).apply(lambda r: r/r.sum() *100,\n",
    "                                              axis=1).plot(kind='hist',figsize=(10,10),alpha=0.7)"
   ]
  },
  {
   "cell_type": "code",
   "execution_count": null,
   "metadata": {},
   "outputs": [],
   "source": [
    "# Box plot de fuga segun prom abono nomina\n",
    "df_id.boxplot('PROM_TA_ABONO_NOMINA', by='FUGA', figsize=(12, 8))"
   ]
  },
  {
   "cell_type": "code",
   "execution_count": null,
   "metadata": {},
   "outputs": [],
   "source": [
    "# Box plot de fuga segun prom saldo ahorros\n",
    "df_id.boxplot('PROM_TA_SALDO_AHORROS', by='FUGA', figsize=(12, 8))"
   ]
  },
  {
   "cell_type": "code",
   "execution_count": null,
   "metadata": {
    "scrolled": false
   },
   "outputs": [],
   "source": [
    "# Box plot de fuga segun prom saldo creditos\n",
    "df_id.boxplot('PROM_TA_SALDO_CREDITO', by='FUGA', figsize=(12, 8))"
   ]
  },
  {
   "cell_type": "markdown",
   "metadata": {},
   "source": [
    "<b>8. Evaluation</b>\n",
    "\n",
    "Determinar la calidad del modelo realizado"
   ]
  },
  {
   "cell_type": "markdown",
   "metadata": {},
   "source": [
    "<b>ANOVA</b>"
   ]
  },
  {
   "cell_type": "code",
   "execution_count": null,
   "metadata": {},
   "outputs": [],
   "source": [
    "import statsmodels.api as sm\n",
    "from statsmodels.formula.api import ols"
   ]
  },
  {
   "cell_type": "code",
   "execution_count": null,
   "metadata": {},
   "outputs": [],
   "source": [
    "mod = ols('EDAD ~ FUGA',\n",
    "                data=df_id).fit()\n",
    "                \n",
    "aov_table = sm.stats.anova_lm(mod, typ=2)\n",
    "print(aov_table)"
   ]
  },
  {
   "cell_type": "code",
   "execution_count": null,
   "metadata": {},
   "outputs": [],
   "source": [
    "mod = ols('TIEMPO_ALTA ~ FUGA',\n",
    "                data=df_id).fit()\n",
    "                \n",
    "aov_table = sm.stats.anova_lm(mod, typ=2)\n",
    "print(aov_table)"
   ]
  },
  {
   "cell_type": "code",
   "execution_count": null,
   "metadata": {},
   "outputs": [],
   "source": [
    "mod = ols('PROM_TA_SALDO_CREDITO ~ FUGA',\n",
    "                data=df_id).fit()\n",
    "                \n",
    "aov_table = sm.stats.anova_lm(mod, typ=2)\n",
    "print(aov_table)"
   ]
  },
  {
   "cell_type": "code",
   "execution_count": null,
   "metadata": {},
   "outputs": [],
   "source": [
    "mod = ols('PROM_TA_SALDO_AHORROS ~ FUGA',\n",
    "                data=df_id).fit()\n",
    "                \n",
    "aov_table = sm.stats.anova_lm(mod, typ=2)\n",
    "print(aov_table)"
   ]
  },
  {
   "cell_type": "code",
   "execution_count": null,
   "metadata": {},
   "outputs": [],
   "source": [
    "mod = ols('PROM_TA_ABONO_NOMINA ~ FUGA',\n",
    "                data=df_id).fit()\n",
    "                \n",
    "aov_table = sm.stats.anova_lm(mod, typ=2)\n",
    "print(aov_table)"
   ]
  },
  {
   "cell_type": "code",
   "execution_count": null,
   "metadata": {},
   "outputs": [],
   "source": [
    "df_id.describe()"
   ]
  },
  {
   "cell_type": "code",
   "execution_count": null,
   "metadata": {},
   "outputs": [],
   "source": [
    "df_true=df_id.query('FUGA==True')"
   ]
  },
  {
   "cell_type": "code",
   "execution_count": null,
   "metadata": {},
   "outputs": [],
   "source": [
    "df_true.mean()"
   ]
  },
  {
   "cell_type": "code",
   "execution_count": null,
   "metadata": {},
   "outputs": [],
   "source": [
    "df_false=df_id.query('FUGA==False')"
   ]
  },
  {
   "cell_type": "code",
   "execution_count": null,
   "metadata": {},
   "outputs": [],
   "source": [
    "df_false.mean()"
   ]
  },
  {
   "cell_type": "markdown",
   "metadata": {},
   "source": [
    "<b> ÁRBOL DE DECISIONES</b>"
   ]
  },
  {
   "cell_type": "code",
   "execution_count": null,
   "metadata": {},
   "outputs": [],
   "source": [
    "from sklearn.model_selection import train_test_split\n",
    "from sklearn.tree import DecisionTreeClassifier\n",
    "from sklearn.metrics import classification_report\n",
    "import sklearn.metrics"
   ]
  },
  {
   "cell_type": "code",
   "execution_count": null,
   "metadata": {},
   "outputs": [],
   "source": [
    "#Directorio\n",
    "os.chdir(\"C://Users/hecansaga/Desktop/YPD\")"
   ]
  },
  {
   "cell_type": "code",
   "execution_count": null,
   "metadata": {},
   "outputs": [],
   "source": [
    "#Limpiar de datos missing\n",
    "df_idc = df_id.dropna()"
   ]
  },
  {
   "cell_type": "code",
   "execution_count": null,
   "metadata": {},
   "outputs": [],
   "source": [
    "#Definir variables predictoras y objetivo\n",
    "predictors = df_idc[['EDAD','TIEMPO_ALTA','PROM_TA_ABONO_NOMINA','PROM_TA_SALDO_AHORROS','PROM_TA_SALDO_CREDITO']]\n",
    "targets = df_idc.FUGA"
   ]
  },
  {
   "cell_type": "code",
   "execution_count": null,
   "metadata": {},
   "outputs": [],
   "source": [
    "#Muestra de entrenamiento y de test con un test del 40%\n",
    "pred_train, pred_test, tar_train, tar_test = train_test_split(predictors, targets, test_size=.2)"
   ]
  },
  {
   "cell_type": "code",
   "execution_count": null,
   "metadata": {},
   "outputs": [],
   "source": [
    "#tamaño muestra predictora train\n",
    "pred_train.shape"
   ]
  },
  {
   "cell_type": "code",
   "execution_count": null,
   "metadata": {},
   "outputs": [],
   "source": [
    "#tamaño muestra predictora test\n",
    "pred_test.shape"
   ]
  },
  {
   "cell_type": "code",
   "execution_count": null,
   "metadata": {},
   "outputs": [],
   "source": [
    "#tamaño muestra objetivo train\n",
    "tar_train.shape"
   ]
  },
  {
   "cell_type": "code",
   "execution_count": null,
   "metadata": {},
   "outputs": [],
   "source": [
    "#tamaño muestra objetivo test\n",
    "tar_test.shape"
   ]
  },
  {
   "cell_type": "code",
   "execution_count": null,
   "metadata": {},
   "outputs": [],
   "source": [
    "#Árbol\n",
    "classifier=DecisionTreeClassifier()\n",
    "classifier=classifier.fit(pred_train,tar_train)"
   ]
  },
  {
   "cell_type": "code",
   "execution_count": null,
   "metadata": {},
   "outputs": [],
   "source": [
    "#Predicciones\n",
    "predictions=classifier.predict(pred_test)"
   ]
  },
  {
   "cell_type": "code",
   "execution_count": null,
   "metadata": {},
   "outputs": [],
   "source": [
    "#Matriz de confusión de predicciones\n",
    "sklearn.metrics.confusion_matrix(tar_test,predictions)"
   ]
  },
  {
   "cell_type": "code",
   "execution_count": null,
   "metadata": {},
   "outputs": [],
   "source": [
    "#Indice de precision\n",
    "sklearn.metrics.accuracy_score(tar_test, predictions)"
   ]
  },
  {
   "cell_type": "code",
   "execution_count": null,
   "metadata": {},
   "outputs": [],
   "source": [
    "#Librerías para exportar arbol\n",
    "from sklearn import tree\n",
    "from io import StringIO\n",
    "from IPython.display import Image"
   ]
  },
  {
   "cell_type": "code",
   "execution_count": null,
   "metadata": {},
   "outputs": [],
   "source": [
    "#Exportar arbol\n",
    "out = StringIO()\n",
    "tree.export_graphviz(classifier, out_file='treeYPD.dot')"
   ]
  },
  {
   "cell_type": "code",
   "execution_count": null,
   "metadata": {},
   "outputs": [],
   "source": [
    "#Librerías para regresión logística\n",
    "from sklearn.linear_model import LogisticRegression\n",
    "from sklearn import metrics"
   ]
  }
 ],
 "metadata": {
  "kernelspec": {
   "display_name": "Python 3",
   "language": "python",
   "name": "python3"
  },
  "language_info": {
   "codemirror_mode": {
    "name": "ipython",
    "version": 3
   },
   "file_extension": ".py",
   "mimetype": "text/x-python",
   "name": "python",
   "nbconvert_exporter": "python",
   "pygments_lexer": "ipython3",
   "version": "3.7.1"
  }
 },
 "nbformat": 4,
 "nbformat_minor": 2
}
