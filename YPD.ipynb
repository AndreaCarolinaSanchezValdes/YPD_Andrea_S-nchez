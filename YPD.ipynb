{
 "cells": [
  {
   "cell_type": "markdown",
   "metadata": {},
   "source": [
    "<h1>PRUEBA PRÁCTICA</h1>\n",
    "<h3>YOUNG PROFESSIONAL DATA</h3>"
   ]
  },
  {
   "cell_type": "markdown",
   "metadata": {},
   "source": [
    "DESARROLLADO POR: \n",
    "<b>Andrea Carolina Sánchez Valdés</b>"
   ]
  },
  {
   "cell_type": "code",
   "execution_count": null,
   "metadata": {},
   "outputs": [],
   "source": [
    "import matplotlib\n",
    "import matplotlib.pyplot as plt\n",
    "import os\n",
    "import numpy as np\n",
    "import pandas as pd\n",
    "import seaborn as sns"
   ]
  },
  {
   "cell_type": "code",
   "execution_count": null,
   "metadata": {},
   "outputs": [],
   "source": [
    "id_path=(\"C://Users/hecansaga/Desktop/YPD/BASE_ID.txt\")\n",
    "df_id = pd.read_table(id_path)\n",
    "df_id.head()"
   ]
  },
  {
   "cell_type": "code",
   "execution_count": null,
   "metadata": {
    "scrolled": true
   },
   "outputs": [],
   "source": [
    "bm_path=(\"C://Users/hecansaga/Desktop/YPD/BASE_MOVIMIENTOS.txt\")                   \n",
    "df_bm = pd.read_fwf(bm_path)\n",
    "df_bm.head()"
   ]
  },
  {
   "cell_type": "code",
   "execution_count": null,
   "metadata": {},
   "outputs": [],
   "source": [
    "df_bm.dtypes"
   ]
  },
  {
   "cell_type": "code",
   "execution_count": null,
   "metadata": {
    "scrolled": false
   },
   "outputs": [],
   "source": [
    "df_bm.replace(regex=True,inplace=True,to_replace=r'\\$ ',value=r'') \n",
    "df_bm.replace(regex=True,inplace=True,to_replace=r'\\.',value=r'')\n",
    "df_bm.replace(regex=True,inplace=True,to_replace=r'\\,',value=r'.')"
   ]
  },
  {
   "cell_type": "code",
   "execution_count": null,
   "metadata": {},
   "outputs": [],
   "source": [
    "df_bm['SALDO_FONDOS']=df_bm['SALDO_FONDOS'].astype(\"float64\")\n",
    "df_bm['SALDO_CREDITO1']=df_bm['SALDO_CREDITO1'].astype(\"float64\")\n",
    "df_bm['SALDO_CREDITO2']=df_bm['SALDO_CREDITO2'].astype(\"float64\")\n",
    "df_bm['SALDO_ACTIVO']=df_bm['SALDO_ACTIVO'].astype(\"float64\")\n",
    "df_bm['SALDO_PASIVO']=df_bm['SALDO_PASIVO'].astype(\"float64\")"
   ]
  },
  {
   "cell_type": "code",
   "execution_count": null,
   "metadata": {},
   "outputs": [],
   "source": [
    "df_bm.dtypes"
   ]
  },
  {
   "cell_type": "code",
   "execution_count": null,
   "metadata": {
    "scrolled": true
   },
   "outputs": [],
   "source": [
    "df_bm['FECHA_INFORMACION'].replace(regex=True,inplace=True,to_replace=r'\\:00',value=r'')"
   ]
  },
  {
   "cell_type": "code",
   "execution_count": null,
   "metadata": {},
   "outputs": [],
   "source": [
    "df_bm['FECHA_INFORMACION'].replace(regex=True,inplace=True,\n",
    "                                   to_replace=['JAN','FEB','MAR','APR','MAY','JUN','JUL','AUG','SEP','OCT','NOV','DEC'],\n",
    "                                   value=['/01/','/02/','/03/','/04/','/05/','/06/','/07/','/08/','/09/','/10/','/11/','/12/'])"
   ]
  },
  {
   "cell_type": "code",
   "execution_count": null,
   "metadata": {},
   "outputs": [],
   "source": [
    "df_bm['FECHA_INFORMACION']=pd.to_datetime(df_bm['FECHA_INFORMACION'])\n",
    "df_bm.dtypes"
   ]
  },
  {
   "cell_type": "code",
   "execution_count": null,
   "metadata": {},
   "outputs": [],
   "source": [
    "df_bm.describe()"
   ]
  },
  {
   "cell_type": "code",
   "execution_count": null,
   "metadata": {},
   "outputs": [],
   "source": [
    "df_bm.head()"
   ]
  },
  {
   "cell_type": "code",
   "execution_count": null,
   "metadata": {},
   "outputs": [],
   "source": [
    "df_id.dtypes"
   ]
  },
  {
   "cell_type": "code",
   "execution_count": null,
   "metadata": {},
   "outputs": [],
   "source": [
    "df_id.rename(columns={'fuga':'FUGA','CLIENTE_CC':'ID'},inplace=True)"
   ]
  },
  {
   "cell_type": "code",
   "execution_count": null,
   "metadata": {},
   "outputs": [],
   "source": [
    "df_id.replace(regex=True,inplace=True,to_replace=r'\\$ ',value=r'') \n",
    "df_id.replace(regex=True,inplace=True,to_replace=r'\\.',value=r'')\n",
    "df_id.replace(regex=True,inplace=True,to_replace=r'\\,',value=r'.')"
   ]
  },
  {
   "cell_type": "code",
   "execution_count": null,
   "metadata": {},
   "outputs": [],
   "source": [
    "df_id['FUGA']=df_id['FUGA'].fillna(0)\n",
    "df_id['MES_DE_FUGA']=df_id['MES_DE_FUGA'].fillna(0)"
   ]
  },
  {
   "cell_type": "code",
   "execution_count": null,
   "metadata": {},
   "outputs": [],
   "source": [
    "df_id['SEXO'].unique()"
   ]
  },
  {
   "cell_type": "code",
   "execution_count": null,
   "metadata": {},
   "outputs": [],
   "source": [
    "df_id['SEXO'].replace(inplace=True,to_replace=['F', 'HOMBRE', 'M', 'Hombre', 'mujer', 'femenino', 'masculino',\n",
    "       'FEMENINO', 'Mujer', 'varón', 'Masc', 'MUJER'],\n",
    "                      value=['FEMENINO', 'MASCULINO', 'MASCULINO', 'MASCULINO', 'FEMENINO', 'FEMENINO', 'MASCULINO',\n",
    "       'FEMENINO', 'FEMENINO', 'MASCULINO', 'MASCULINO', 'FEMENINO'])"
   ]
  },
  {
   "cell_type": "code",
   "execution_count": null,
   "metadata": {},
   "outputs": [],
   "source": [
    "df_id['ESTADO_CIVIL'].unique()"
   ]
  },
  {
   "cell_type": "code",
   "execution_count": null,
   "metadata": {},
   "outputs": [],
   "source": [
    "df_id['SITUACION_LABORAL'].unique()"
   ]
  },
  {
   "cell_type": "code",
   "execution_count": null,
   "metadata": {},
   "outputs": [],
   "source": [
    "df_id['SITUACION_LABORAL'].replace(inplace=True,to_replace=['otros', 'Contrato fijo', 'OTROS', 'contrato autonomo',\n",
    "       ' desconocido   ', 'CONTRATO AUTONOMO', 'CONTRATO FIJO', 'CONTRATO TEMPORAL', 'temporal     ', 'SIN CLASIFICAR'],\n",
    "                                   value=['OTROS', 'CONTRATO FIJO', 'OTROS', 'CONTRATO AUTONOMO',\n",
    "       'DESCONOCIDO', 'CONTRATO AUTONOMO', 'CONTRATO FIJO', 'CONTRATO TEMPORAL', 'CONTRATO TEMPORAL', 'SIN CLASIFICAR'])"
   ]
  },
  {
   "cell_type": "code",
   "execution_count": null,
   "metadata": {},
   "outputs": [],
   "source": [
    "df_id['FECHA_ALTA'].replace(regex=True,inplace=True,\n",
    "                            to_replace=['ene','feb','mar','abr','may','jun','jul','ago','sep','oct','nov','dic'],\n",
    "                            value=['01','02','03','04','05','06','07','08','09','10','11','12'])"
   ]
  },
  {
   "cell_type": "code",
   "execution_count": null,
   "metadata": {},
   "outputs": [],
   "source": [
    "df_mesid1=df_id['FECHA_ALTA'].str[:2].astype(object)\n",
    "df_mesid1.head()"
   ]
  },
  {
   "cell_type": "code",
   "execution_count": null,
   "metadata": {},
   "outputs": [],
   "source": [
    "df_añoid1=df_id['FECHA_ALTA'].str[4:].astype(object)\n",
    "df_añoid1.head()"
   ]
  },
  {
   "cell_type": "code",
   "execution_count": null,
   "metadata": {},
   "outputs": [],
   "source": [
    "df_diaid1=df_id['FECHA_ALTA'].str[2:4:].astype(object)\n",
    "df_diaid1.head()"
   ]
  },
  {
   "cell_type": "code",
   "execution_count": null,
   "metadata": {},
   "outputs": [],
   "source": [
    "df_mesid2=df_id['FECHA_NACIMIENTO'].str[4:6:].astype(object)\n",
    "df_mesid2.head()"
   ]
  },
  {
   "cell_type": "code",
   "execution_count": null,
   "metadata": {
    "scrolled": true
   },
   "outputs": [],
   "source": [
    "df_añoid2=df_id['FECHA_NACIMIENTO'].str[:4].astype(object)\n",
    "df_añoid2.head()"
   ]
  },
  {
   "cell_type": "code",
   "execution_count": null,
   "metadata": {},
   "outputs": [],
   "source": [
    "df_diaid2=df_id['FECHA_NACIMIENTO'].str[6:].astype(object)\n",
    "df_diaid2.head()"
   ]
  },
  {
   "cell_type": "code",
   "execution_count": null,
   "metadata": {
    "scrolled": true
   },
   "outputs": [],
   "source": [
    "df_id['FECHA_ALTA'] = df_diaid1+'/'+df_mesid1+'/'+df_añoid1\n",
    "df_id['FECHA_ALTA'].head()"
   ]
  },
  {
   "cell_type": "code",
   "execution_count": null,
   "metadata": {},
   "outputs": [],
   "source": [
    "df_id['FECHA_NACIMIENTO'] = df_diaid2+'/'+df_mesid2+'/'+df_añoid2\n",
    "df_id['FECHA_NACIMIENTO'].head()"
   ]
  },
  {
   "cell_type": "code",
   "execution_count": null,
   "metadata": {},
   "outputs": [],
   "source": [
    "df_len=df_id['FECHA_NACIMIENTO'].str.len()\n",
    "df_len.head()"
   ]
  },
  {
   "cell_type": "code",
   "execution_count": null,
   "metadata": {},
   "outputs": [],
   "source": [
    "df_len.idxmax()"
   ]
  },
  {
   "cell_type": "code",
   "execution_count": null,
   "metadata": {},
   "outputs": [],
   "source": [
    "df_id['FECHA_NACIMIENTO'].replace(inplace=True,to_replace='1-01/-0/0001',value='NaN')"
   ]
  },
  {
   "cell_type": "code",
   "execution_count": null,
   "metadata": {},
   "outputs": [],
   "source": [
    "df_id['ID']=df_id['ID'].astype('float64')\n",
    "df_id['ID']=df_id['ID'].astype('int64')\n",
    "df_id['FECHA_ALTA']=pd.to_datetime(df_id['FECHA_ALTA'])\n",
    "df_id['FECHA_NACIMIENTO']=pd.to_datetime(df_id['FECHA_NACIMIENTO'])\n",
    "df_id['FUGA']=df_id['FUGA'].astype('bool')\n",
    "df_id['MES_DE_FUGA']=df_id['MES_DE_FUGA'].astype('int64')\n",
    "df_id.dtypes"
   ]
  },
  {
   "cell_type": "code",
   "execution_count": null,
   "metadata": {},
   "outputs": [],
   "source": [
    "df_bm=df_bm.sort_values(by=['ID','FECHA_INFORMACION'])\n",
    "df_bm.head()"
   ]
  },
  {
   "cell_type": "code",
   "execution_count": null,
   "metadata": {},
   "outputs": [],
   "source": [
    "df_join=pd.merge(df_bm,df_id[['ID','FUGA','MES_DE_FUGA']],on='ID',how='left')\n",
    "df_join.head()"
   ]
  },
  {
   "cell_type": "code",
   "execution_count": null,
   "metadata": {},
   "outputs": [],
   "source": [
    "df_join.tail()"
   ]
  },
  {
   "cell_type": "code",
   "execution_count": null,
   "metadata": {},
   "outputs": [],
   "source": [
    "#Promedio abono nomina\n",
    "\n",
    "count_row=df_join.shape[0]\n",
    "\n",
    "for i in range(0, count_row):\n",
    "    a=df_join.at[i,'MONTO_ABONOS_NOMINA']\n",
    "    b=df_join.at[i+1,'MONTO_ABONOS_NOMINA']\n",
    "    c=df_join.at[i+2,'MONTO_ABONOS_NOMINA']\n",
    "    prom=(a+b+c)/3\n",
    "    df_join.at[i+2,'PROM_TRIM_ABONOS_NOMINA']=prom\n",
    "    i=i+1\n",
    "    if (i==31438):\n",
    "        break"
   ]
  },
  {
   "cell_type": "code",
   "execution_count": null,
   "metadata": {},
   "outputs": [],
   "source": [
    "ids=df_join.groupby('ID').size()\n",
    "\n",
    "for i in range(2,2501):      \n",
    "    countid=ids.at[i,]\n",
    "    j=np.where(df_join[\"ID\"] == i)[0]\n",
    "    k=j[0]\n",
    "    df_join.at[k,'PROM_TRIM_ABONOS_NOMINA']=\"NaN\"\n",
    "    df_join.at[k+1,'PROM_TRIM_ABONOS_NOMINA']=\"Nan\"\n",
    "    i=i+1\n",
    "    if i>2501:\n",
    "        break"
   ]
  },
  {
   "cell_type": "code",
   "execution_count": null,
   "metadata": {
    "scrolled": true
   },
   "outputs": [],
   "source": [
    "#Promedio saldo ahorros\n",
    "\n",
    "count_row=df_join.shape[0]\n",
    "\n",
    "for i in range(0, count_row):\n",
    "    a=df_join.at[i,'SALDO_AHORROS']\n",
    "    b=df_join.at[i+1,'SALDO_AHORROS']\n",
    "    c=df_join.at[i+2,'SALDO_AHORROS']\n",
    "    prom=(a+b+c)/3\n",
    "    df_join.at[i+2,'PROM_TRIM_SALDO_AHORROS']=prom\n",
    "    i=i+1\n",
    "    if (i==31438):\n",
    "        break"
   ]
  },
  {
   "cell_type": "code",
   "execution_count": null,
   "metadata": {},
   "outputs": [],
   "source": [
    "ids=df_join.groupby('ID').size()\n",
    "\n",
    "for i in range(2,2501):      \n",
    "    countid=ids.at[i,]\n",
    "    j=np.where(df_join[\"ID\"] == i)[0]\n",
    "    k=j[0]\n",
    "    df_join.at[k,'PROM_TRIM_SALDO_AHORROS']=\"NaN\"\n",
    "    df_join.at[k+1,'PROM_TRIM_SALDO_AHORROS']=\"Nan\"\n",
    "    i=i+1\n",
    "    if i>2501:\n",
    "        break"
   ]
  },
  {
   "cell_type": "code",
   "execution_count": null,
   "metadata": {},
   "outputs": [],
   "source": [
    "#Promedio saldo credito\n",
    "\n",
    "count_row=df_join.shape[0]\n",
    "\n",
    "for i in range(0, count_row):\n",
    "    a=df_join.at[i,'SALDO_CREDITO1']\n",
    "    b=df_join.at[i+1,'SALDO_CREDITO1']\n",
    "    c=df_join.at[i+2,'SALDO_CREDITO1']\n",
    "    d=df_join.at[i,'SALDO_CREDITO2']\n",
    "    e=df_join.at[i+1,'SALDO_CREDITO2']\n",
    "    f=df_join.at[i+2,'SALDO_CREDITO2']\n",
    "    prom=(a+b+c+d+e+f)/6\n",
    "    df_join.at[i+2,'PROM_TRIM_SALDO_CREDITO']=prom\n",
    "    i=i+1\n",
    "    if (i==31438):\n",
    "        break"
   ]
  },
  {
   "cell_type": "code",
   "execution_count": null,
   "metadata": {},
   "outputs": [],
   "source": [
    "ids=df_join.groupby('ID').size()\n",
    "\n",
    "for i in range(2,2501):      \n",
    "    countid=ids.at[i,]\n",
    "    j=np.where(df_join[\"ID\"] == i)[0]\n",
    "    k=j[0]\n",
    "    df_join.at[k,'PROM_TRIM_SALDO_CREDITO']=\"NaN\"\n",
    "    df_join.at[k+1,'PROM_TRIM_SALDO_CREDITO']=\"Nan\"\n",
    "    i=i+1\n",
    "    if i>2501:\n",
    "        break"
   ]
  },
  {
   "cell_type": "code",
   "execution_count": null,
   "metadata": {},
   "outputs": [],
   "source": [
    "df_join.head()"
   ]
  },
  {
   "cell_type": "code",
   "execution_count": null,
   "metadata": {},
   "outputs": [],
   "source": [
    "for i in range(0,2500):\n",
    "    j=np.where(df_join[\"ID\"] == i+1)[0]\n",
    "    y=tuple(j)\n",
    "    df_i=df_join.loc[y,['ID','PROM_TRIM_ABONOS_NOMINA','PROM_TRIM_SALDO_AHORROS','PROM_TRIM_SALDO_CREDITO']]\n",
    "    df_id.at[i,'PROM_TA_ABONO_NOMINA']=df_i[\"PROM_TRIM_ABONOS_NOMINA\"].mean()\n",
    "    df_id.at[i,'PROM_TA_SALDO_AHORROS']=df_i[\"PROM_TRIM_SALDO_AHORROS\"].mean()\n",
    "    df_id.at[i,'PROM_TA_SALDO_CREDITO']=df_i[\"PROM_TRIM_SALDO_CREDITO\"].mean()\n",
    "    i=i+1\n",
    "    if i>2501:\n",
    "        break"
   ]
  },
  {
   "cell_type": "code",
   "execution_count": null,
   "metadata": {},
   "outputs": [],
   "source": [
    "df_id.head(100)"
   ]
  },
  {
   "cell_type": "code",
   "execution_count": null,
   "metadata": {},
   "outputs": [],
   "source": [
    "df_id.corr()"
   ]
  },
  {
   "cell_type": "code",
   "execution_count": null,
   "metadata": {},
   "outputs": [],
   "source": [
    "sns.heatmap(df_id.corr(), square=True, annot=True)"
   ]
  },
  {
   "cell_type": "code",
   "execution_count": null,
   "metadata": {},
   "outputs": [],
   "source": [
    "num_bins=6\n",
    "n,bins,patches = plt.hist(df_id['MES_DE_FUGA'],num_bins, alpha = 0.5 ) \n",
    "plt.title('Histograma mes fuga')\n",
    "plt.xlabel('Mes')\n",
    "plt.ylabel('Frencuencia')\n",
    "plt.show()"
   ]
  },
  {
   "cell_type": "code",
   "execution_count": null,
   "metadata": {},
   "outputs": [],
   "source": [
    "fig = plt.figure()\n",
    "\n",
    "ax0 = fig.add_subplot(2, 2, 1) \n",
    "ax1 = fig.add_subplot(2, 2, 2) \n",
    "ax2 = fig.add_subplot(2, 2, 3)\n",
    "\n",
    "df_id['PROM_TA_SALDO_CREDITO'].plot(kind='box', figsize=(10, 15), ax=ax0)\n",
    "ax0.set_title('Box plot saldo credito promedio trimestre')\n",
    "ax0.set_ylabel('Promedio saldo credito')\n",
    "\n",
    "df_id['PROM_TA_SALDO_AHORROS'].plot(kind='box', figsize=(10, 15), ax=ax1)\n",
    "ax1.set_title ('Box plot saldo ahorros promedio trimestre')\n",
    "ax1.set_ylabel('Promedio saldo ahorros')\n",
    "\n",
    "df_id['PROM_TA_ABONO_NOMINA'].plot(kind='box', figsize=(10, 15), ax=ax2)\n",
    "ax2.set_title ('Box plot Abono nomina promedio trimestral')\n",
    "ax2.set_ylabel('Abono nomina promedio')\n",
    "\n",
    "plt.show()"
   ]
  },
  {
   "cell_type": "code",
   "execution_count": null,
   "metadata": {},
   "outputs": [],
   "source": [
    "df_id['SEXO'].value_counts()"
   ]
  },
  {
   "cell_type": "code",
   "execution_count": null,
   "metadata": {},
   "outputs": [],
   "source": [
    "df_id['ESTADO_CIVIL'].value_counts().plot(kind='pie', autopct='%.2f', figsize=(6, 6))\n",
    "plt.title('ESTADO CIVIL')\n",
    "plt.ylabel('')"
   ]
  },
  {
   "cell_type": "code",
   "execution_count": null,
   "metadata": {},
   "outputs": [],
   "source": [
    "df_id['ESTADO_CIVIL'].value_counts()"
   ]
  },
  {
   "cell_type": "code",
   "execution_count": null,
   "metadata": {},
   "outputs": [],
   "source": [
    "df_id['SITUACION_LABORAL'].value_counts().plot(kind='pie', autopct='%.2f', figsize=(6, 6))\n",
    "plt.title('ESTADO CIVIL')\n",
    "plt.ylabel('')"
   ]
  },
  {
   "cell_type": "code",
   "execution_count": null,
   "metadata": {},
   "outputs": [],
   "source": [
    "df_id['SITUACION_LABORAL'].value_counts()"
   ]
  },
  {
   "cell_type": "code",
   "execution_count": null,
   "metadata": {},
   "outputs": [],
   "source": [
    "df_sexo=pd.crosstab(index=df_id['FUGA'],\n",
    "            columns=df_id['SEXO'], margins=True)\n",
    "df_sexo"
   ]
  },
  {
   "cell_type": "code",
   "execution_count": null,
   "metadata": {},
   "outputs": [],
   "source": [
    "df_civil=pd.crosstab(index=df_id['FUGA'],\n",
    "            columns=df_id['ESTADO_CIVIL'], margins=True)\n",
    "df_civil"
   ]
  },
  {
   "cell_type": "code",
   "execution_count": null,
   "metadata": {},
   "outputs": [],
   "source": [
    "df_cont=pd.crosstab(index=df_id['FUGA'],\n",
    "            columns=df_id['SITUACION_LABORAL'], margins=True)\n",
    "df_cont"
   ]
  },
  {
   "cell_type": "code",
   "execution_count": null,
   "metadata": {},
   "outputs": [],
   "source": [
    "pd.crosstab(index=df_id['FUGA'],columns=df_id['SEXO'], margins=True).apply(lambda r: r/len(df_id) *100,axis=1)"
   ]
  },
  {
   "cell_type": "code",
   "execution_count": null,
   "metadata": {},
   "outputs": [],
   "source": [
    "pd.crosstab(index=df_id['FUGA'],columns=df_id['ESTADO_CIVIL'], margins=True).apply(lambda r: r/len(df_id) *100,axis=1)"
   ]
  },
  {
   "cell_type": "code",
   "execution_count": null,
   "metadata": {},
   "outputs": [],
   "source": [
    "pd.crosstab(index=df_id['FUGA'],columns=df_id['SITUACION_LABORAL'], margins=True).apply(lambda r: r/len(df_id) *100,axis=1)"
   ]
  },
  {
   "cell_type": "code",
   "execution_count": null,
   "metadata": {},
   "outputs": [],
   "source": [
    "pd.crosstab(index=df_id['FUGA'],columns=df_id['ESTADO_CIVIL']).apply(lambda r: r/r.sum() *100,axis=1)     "
   ]
  },
  {
   "cell_type": "code",
   "execution_count": null,
   "metadata": {},
   "outputs": [],
   "source": [
    "pd.crosstab(index=df_id['FUGA'],columns=df_id['SITUACION_LABORAL']).apply(lambda r: r/r.sum() *100,axis=1)                                "
   ]
  },
  {
   "cell_type": "code",
   "execution_count": null,
   "metadata": {},
   "outputs": [],
   "source": [
    "pd.crosstab(index=df_id['FUGA'],columns=df_id['SEXO']).apply(lambda r: r/r.sum() *100,axis=1)"
   ]
  },
  {
   "cell_type": "code",
   "execution_count": null,
   "metadata": {},
   "outputs": [],
   "source": [
    "pd.crosstab(index=df_id['FUGA'],columns=df_id['SITUACION_LABORAL']\n",
    "                  ).apply(lambda r: r/r.sum() *100,\n",
    "                                              axis=1).plot(kind='bar',figsize=(10,10))"
   ]
  },
  {
   "cell_type": "code",
   "execution_count": null,
   "metadata": {},
   "outputs": [],
   "source": [
    "pd.crosstab(index=df_id['FUGA'],columns=df_id['ESTADO_CIVIL']\n",
    "                  ).apply(lambda r: r/r.sum() *100,\n",
    "                                              axis=1).plot(kind='bar',figsize=(10,10))"
   ]
  },
  {
   "cell_type": "code",
   "execution_count": null,
   "metadata": {},
   "outputs": [],
   "source": [
    "df_id['PROM_TA_ABONO_NOMINA'].plot(kind='area', figsize=(10,10))"
   ]
  },
  {
   "cell_type": "code",
   "execution_count": null,
   "metadata": {},
   "outputs": [],
   "source": [
    "df_id['PROM_TA_SALDO_AHORROS'].plot(kind='area',figsize=(10,10))"
   ]
  },
  {
   "cell_type": "code",
   "execution_count": null,
   "metadata": {},
   "outputs": [],
   "source": [
    "df_id['PROM_TA_SALDO_CREDITO'].plot(kind='area',figsize=(10,10))"
   ]
  },
  {
   "cell_type": "code",
   "execution_count": null,
   "metadata": {},
   "outputs": [],
   "source": []
  }
 ],
 "metadata": {
  "kernelspec": {
   "display_name": "Python 3",
   "language": "python",
   "name": "python3"
  },
  "language_info": {
   "codemirror_mode": {
    "name": "ipython",
    "version": 3
   },
   "file_extension": ".py",
   "mimetype": "text/x-python",
   "name": "python",
   "nbconvert_exporter": "python",
   "pygments_lexer": "ipython3",
   "version": "3.7.1"
  }
 },
 "nbformat": 4,
 "nbformat_minor": 2
}
